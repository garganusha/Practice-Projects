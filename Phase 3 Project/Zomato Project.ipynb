{
 "cells": [
  {
   "cell_type": "code",
   "execution_count": 1,
   "id": "8135337d",
   "metadata": {},
   "outputs": [],
   "source": [
    "#Importing necessary liabraries"
   ]
  },
  {
   "cell_type": "code",
   "execution_count": 2,
   "id": "3d9c370c",
   "metadata": {},
   "outputs": [],
   "source": [
    "import pandas as pd\n",
    "import numpy as np\n",
    "import seaborn as sns\n",
    "import matplotlib.pyplot as plt\n",
    "import warnings\n",
    "warnings.filterwarnings('ignore')"
   ]
  },
  {
   "cell_type": "code",
   "execution_count": 3,
   "id": "c38d5831",
   "metadata": {},
   "outputs": [
    {
     "data": {
      "text/html": [
       "<div>\n",
       "<style scoped>\n",
       "    .dataframe tbody tr th:only-of-type {\n",
       "        vertical-align: middle;\n",
       "    }\n",
       "\n",
       "    .dataframe tbody tr th {\n",
       "        vertical-align: top;\n",
       "    }\n",
       "\n",
       "    .dataframe thead th {\n",
       "        text-align: right;\n",
       "    }\n",
       "</style>\n",
       "<table border=\"1\" class=\"dataframe\">\n",
       "  <thead>\n",
       "    <tr style=\"text-align: right;\">\n",
       "      <th></th>\n",
       "      <th>Country Code</th>\n",
       "      <th>Country</th>\n",
       "    </tr>\n",
       "  </thead>\n",
       "  <tbody>\n",
       "    <tr>\n",
       "      <th>0</th>\n",
       "      <td>1</td>\n",
       "      <td>India</td>\n",
       "    </tr>\n",
       "    <tr>\n",
       "      <th>1</th>\n",
       "      <td>14</td>\n",
       "      <td>Australia</td>\n",
       "    </tr>\n",
       "    <tr>\n",
       "      <th>2</th>\n",
       "      <td>30</td>\n",
       "      <td>Brazil</td>\n",
       "    </tr>\n",
       "    <tr>\n",
       "      <th>3</th>\n",
       "      <td>37</td>\n",
       "      <td>Canada</td>\n",
       "    </tr>\n",
       "    <tr>\n",
       "      <th>4</th>\n",
       "      <td>94</td>\n",
       "      <td>Indonesia</td>\n",
       "    </tr>\n",
       "    <tr>\n",
       "      <th>5</th>\n",
       "      <td>148</td>\n",
       "      <td>New Zealand</td>\n",
       "    </tr>\n",
       "    <tr>\n",
       "      <th>6</th>\n",
       "      <td>162</td>\n",
       "      <td>Phillipines</td>\n",
       "    </tr>\n",
       "    <tr>\n",
       "      <th>7</th>\n",
       "      <td>166</td>\n",
       "      <td>Qatar</td>\n",
       "    </tr>\n",
       "    <tr>\n",
       "      <th>8</th>\n",
       "      <td>184</td>\n",
       "      <td>Singapore</td>\n",
       "    </tr>\n",
       "    <tr>\n",
       "      <th>9</th>\n",
       "      <td>189</td>\n",
       "      <td>South Africa</td>\n",
       "    </tr>\n",
       "    <tr>\n",
       "      <th>10</th>\n",
       "      <td>191</td>\n",
       "      <td>Sri Lanka</td>\n",
       "    </tr>\n",
       "    <tr>\n",
       "      <th>11</th>\n",
       "      <td>208</td>\n",
       "      <td>Turkey</td>\n",
       "    </tr>\n",
       "    <tr>\n",
       "      <th>12</th>\n",
       "      <td>214</td>\n",
       "      <td>UAE</td>\n",
       "    </tr>\n",
       "    <tr>\n",
       "      <th>13</th>\n",
       "      <td>215</td>\n",
       "      <td>United Kingdom</td>\n",
       "    </tr>\n",
       "    <tr>\n",
       "      <th>14</th>\n",
       "      <td>216</td>\n",
       "      <td>United States</td>\n",
       "    </tr>\n",
       "  </tbody>\n",
       "</table>\n",
       "</div>"
      ],
      "text/plain": [
       "    Country Code         Country\n",
       "0              1           India\n",
       "1             14       Australia\n",
       "2             30          Brazil\n",
       "3             37          Canada\n",
       "4             94       Indonesia\n",
       "5            148     New Zealand\n",
       "6            162     Phillipines\n",
       "7            166           Qatar\n",
       "8            184       Singapore\n",
       "9            189    South Africa\n",
       "10           191       Sri Lanka\n",
       "11           208          Turkey\n",
       "12           214             UAE\n",
       "13           215  United Kingdom\n",
       "14           216   United States"
      ]
     },
     "execution_count": 3,
     "metadata": {},
     "output_type": "execute_result"
    }
   ],
   "source": [
    "df1=pd.read_csv('Code.csv')\n",
    "df1"
   ]
  },
  {
   "cell_type": "code",
   "execution_count": 4,
   "id": "dc1d14d1",
   "metadata": {},
   "outputs": [
    {
     "data": {
      "text/html": [
       "<div>\n",
       "<style scoped>\n",
       "    .dataframe tbody tr th:only-of-type {\n",
       "        vertical-align: middle;\n",
       "    }\n",
       "\n",
       "    .dataframe tbody tr th {\n",
       "        vertical-align: top;\n",
       "    }\n",
       "\n",
       "    .dataframe thead th {\n",
       "        text-align: right;\n",
       "    }\n",
       "</style>\n",
       "<table border=\"1\" class=\"dataframe\">\n",
       "  <thead>\n",
       "    <tr style=\"text-align: right;\">\n",
       "      <th></th>\n",
       "      <th>Restaurant ID</th>\n",
       "      <th>Restaurant Name</th>\n",
       "      <th>Country Code</th>\n",
       "      <th>City</th>\n",
       "      <th>Address</th>\n",
       "      <th>Locality</th>\n",
       "      <th>Locality Verbose</th>\n",
       "      <th>Longitude</th>\n",
       "      <th>Latitude</th>\n",
       "      <th>Cuisines</th>\n",
       "      <th>...</th>\n",
       "      <th>Currency</th>\n",
       "      <th>Has Table booking</th>\n",
       "      <th>Has Online delivery</th>\n",
       "      <th>Is delivering now</th>\n",
       "      <th>Switch to order menu</th>\n",
       "      <th>Price range</th>\n",
       "      <th>Aggregate rating</th>\n",
       "      <th>Rating color</th>\n",
       "      <th>Rating text</th>\n",
       "      <th>Votes</th>\n",
       "    </tr>\n",
       "  </thead>\n",
       "  <tbody>\n",
       "    <tr>\n",
       "      <th>0</th>\n",
       "      <td>6317637</td>\n",
       "      <td>Le Petit Souffle</td>\n",
       "      <td>162</td>\n",
       "      <td>Makati City</td>\n",
       "      <td>Third Floor, Century City Mall, Kalayaan Avenu...</td>\n",
       "      <td>Century City Mall, Poblacion, Makati City</td>\n",
       "      <td>Century City Mall, Poblacion, Makati City, Mak...</td>\n",
       "      <td>121.027535</td>\n",
       "      <td>14.565443</td>\n",
       "      <td>French, Japanese, Desserts</td>\n",
       "      <td>...</td>\n",
       "      <td>Botswana Pula(P)</td>\n",
       "      <td>Yes</td>\n",
       "      <td>No</td>\n",
       "      <td>No</td>\n",
       "      <td>No</td>\n",
       "      <td>3</td>\n",
       "      <td>4.8</td>\n",
       "      <td>Dark Green</td>\n",
       "      <td>Excellent</td>\n",
       "      <td>314</td>\n",
       "    </tr>\n",
       "    <tr>\n",
       "      <th>1</th>\n",
       "      <td>6304287</td>\n",
       "      <td>Izakaya Kikufuji</td>\n",
       "      <td>162</td>\n",
       "      <td>Makati City</td>\n",
       "      <td>Little Tokyo, 2277 Chino Roces Avenue, Legaspi...</td>\n",
       "      <td>Little Tokyo, Legaspi Village, Makati City</td>\n",
       "      <td>Little Tokyo, Legaspi Village, Makati City, Ma...</td>\n",
       "      <td>121.014101</td>\n",
       "      <td>14.553708</td>\n",
       "      <td>Japanese</td>\n",
       "      <td>...</td>\n",
       "      <td>Botswana Pula(P)</td>\n",
       "      <td>Yes</td>\n",
       "      <td>No</td>\n",
       "      <td>No</td>\n",
       "      <td>No</td>\n",
       "      <td>3</td>\n",
       "      <td>4.5</td>\n",
       "      <td>Dark Green</td>\n",
       "      <td>Excellent</td>\n",
       "      <td>591</td>\n",
       "    </tr>\n",
       "    <tr>\n",
       "      <th>2</th>\n",
       "      <td>6300002</td>\n",
       "      <td>Heat - Edsa Shangri-La</td>\n",
       "      <td>162</td>\n",
       "      <td>Mandaluyong City</td>\n",
       "      <td>Edsa Shangri-La, 1 Garden Way, Ortigas, Mandal...</td>\n",
       "      <td>Edsa Shangri-La, Ortigas, Mandaluyong City</td>\n",
       "      <td>Edsa Shangri-La, Ortigas, Mandaluyong City, Ma...</td>\n",
       "      <td>121.056831</td>\n",
       "      <td>14.581404</td>\n",
       "      <td>Seafood, Asian, Filipino, Indian</td>\n",
       "      <td>...</td>\n",
       "      <td>Botswana Pula(P)</td>\n",
       "      <td>Yes</td>\n",
       "      <td>No</td>\n",
       "      <td>No</td>\n",
       "      <td>No</td>\n",
       "      <td>4</td>\n",
       "      <td>4.4</td>\n",
       "      <td>Green</td>\n",
       "      <td>Very Good</td>\n",
       "      <td>270</td>\n",
       "    </tr>\n",
       "    <tr>\n",
       "      <th>3</th>\n",
       "      <td>6318506</td>\n",
       "      <td>Ooma</td>\n",
       "      <td>162</td>\n",
       "      <td>Mandaluyong City</td>\n",
       "      <td>Third Floor, Mega Fashion Hall, SM Megamall, O...</td>\n",
       "      <td>SM Megamall, Ortigas, Mandaluyong City</td>\n",
       "      <td>SM Megamall, Ortigas, Mandaluyong City, Mandal...</td>\n",
       "      <td>121.056475</td>\n",
       "      <td>14.585318</td>\n",
       "      <td>Japanese, Sushi</td>\n",
       "      <td>...</td>\n",
       "      <td>Botswana Pula(P)</td>\n",
       "      <td>No</td>\n",
       "      <td>No</td>\n",
       "      <td>No</td>\n",
       "      <td>No</td>\n",
       "      <td>4</td>\n",
       "      <td>4.9</td>\n",
       "      <td>Dark Green</td>\n",
       "      <td>Excellent</td>\n",
       "      <td>365</td>\n",
       "    </tr>\n",
       "    <tr>\n",
       "      <th>4</th>\n",
       "      <td>6314302</td>\n",
       "      <td>Sambo Kojin</td>\n",
       "      <td>162</td>\n",
       "      <td>Mandaluyong City</td>\n",
       "      <td>Third Floor, Mega Atrium, SM Megamall, Ortigas...</td>\n",
       "      <td>SM Megamall, Ortigas, Mandaluyong City</td>\n",
       "      <td>SM Megamall, Ortigas, Mandaluyong City, Mandal...</td>\n",
       "      <td>121.057508</td>\n",
       "      <td>14.584450</td>\n",
       "      <td>Japanese, Korean</td>\n",
       "      <td>...</td>\n",
       "      <td>Botswana Pula(P)</td>\n",
       "      <td>Yes</td>\n",
       "      <td>No</td>\n",
       "      <td>No</td>\n",
       "      <td>No</td>\n",
       "      <td>4</td>\n",
       "      <td>4.8</td>\n",
       "      <td>Dark Green</td>\n",
       "      <td>Excellent</td>\n",
       "      <td>229</td>\n",
       "    </tr>\n",
       "    <tr>\n",
       "      <th>...</th>\n",
       "      <td>...</td>\n",
       "      <td>...</td>\n",
       "      <td>...</td>\n",
       "      <td>...</td>\n",
       "      <td>...</td>\n",
       "      <td>...</td>\n",
       "      <td>...</td>\n",
       "      <td>...</td>\n",
       "      <td>...</td>\n",
       "      <td>...</td>\n",
       "      <td>...</td>\n",
       "      <td>...</td>\n",
       "      <td>...</td>\n",
       "      <td>...</td>\n",
       "      <td>...</td>\n",
       "      <td>...</td>\n",
       "      <td>...</td>\n",
       "      <td>...</td>\n",
       "      <td>...</td>\n",
       "      <td>...</td>\n",
       "      <td>...</td>\n",
       "    </tr>\n",
       "    <tr>\n",
       "      <th>9546</th>\n",
       "      <td>5915730</td>\n",
       "      <td>NamlÛ± Gurme</td>\n",
       "      <td>208</td>\n",
       "      <td>ÛÁstanbul</td>\n",
       "      <td>Kemankeô Karamustafa Paôa Mahallesi, RÛ±htÛ±...</td>\n",
       "      <td>Karakí_y</td>\n",
       "      <td>Karakí_y, ÛÁstanbul</td>\n",
       "      <td>28.977392</td>\n",
       "      <td>41.022793</td>\n",
       "      <td>Turkish</td>\n",
       "      <td>...</td>\n",
       "      <td>Turkish Lira(TL)</td>\n",
       "      <td>No</td>\n",
       "      <td>No</td>\n",
       "      <td>No</td>\n",
       "      <td>No</td>\n",
       "      <td>3</td>\n",
       "      <td>4.1</td>\n",
       "      <td>Green</td>\n",
       "      <td>Very Good</td>\n",
       "      <td>788</td>\n",
       "    </tr>\n",
       "    <tr>\n",
       "      <th>9547</th>\n",
       "      <td>5908749</td>\n",
       "      <td>Ceviz AÛôacÛ±</td>\n",
       "      <td>208</td>\n",
       "      <td>ÛÁstanbul</td>\n",
       "      <td>Koôuyolu Mahallesi, Muhittin íìstí_ndaÛô Cadd...</td>\n",
       "      <td>Koôuyolu</td>\n",
       "      <td>Koôuyolu, ÛÁstanbul</td>\n",
       "      <td>29.041297</td>\n",
       "      <td>41.009847</td>\n",
       "      <td>World Cuisine, Patisserie, Cafe</td>\n",
       "      <td>...</td>\n",
       "      <td>Turkish Lira(TL)</td>\n",
       "      <td>No</td>\n",
       "      <td>No</td>\n",
       "      <td>No</td>\n",
       "      <td>No</td>\n",
       "      <td>3</td>\n",
       "      <td>4.2</td>\n",
       "      <td>Green</td>\n",
       "      <td>Very Good</td>\n",
       "      <td>1034</td>\n",
       "    </tr>\n",
       "    <tr>\n",
       "      <th>9548</th>\n",
       "      <td>5915807</td>\n",
       "      <td>Huqqa</td>\n",
       "      <td>208</td>\n",
       "      <td>ÛÁstanbul</td>\n",
       "      <td>Kuruí_eôme Mahallesi, Muallim Naci Caddesi, N...</td>\n",
       "      <td>Kuruí_eôme</td>\n",
       "      <td>Kuruí_eôme, ÛÁstanbul</td>\n",
       "      <td>29.034640</td>\n",
       "      <td>41.055817</td>\n",
       "      <td>Italian, World Cuisine</td>\n",
       "      <td>...</td>\n",
       "      <td>Turkish Lira(TL)</td>\n",
       "      <td>No</td>\n",
       "      <td>No</td>\n",
       "      <td>No</td>\n",
       "      <td>No</td>\n",
       "      <td>4</td>\n",
       "      <td>3.7</td>\n",
       "      <td>Yellow</td>\n",
       "      <td>Good</td>\n",
       "      <td>661</td>\n",
       "    </tr>\n",
       "    <tr>\n",
       "      <th>9549</th>\n",
       "      <td>5916112</td>\n",
       "      <td>Aôôk Kahve</td>\n",
       "      <td>208</td>\n",
       "      <td>ÛÁstanbul</td>\n",
       "      <td>Kuruí_eôme Mahallesi, Muallim Naci Caddesi, N...</td>\n",
       "      <td>Kuruí_eôme</td>\n",
       "      <td>Kuruí_eôme, ÛÁstanbul</td>\n",
       "      <td>29.036019</td>\n",
       "      <td>41.057979</td>\n",
       "      <td>Restaurant Cafe</td>\n",
       "      <td>...</td>\n",
       "      <td>Turkish Lira(TL)</td>\n",
       "      <td>No</td>\n",
       "      <td>No</td>\n",
       "      <td>No</td>\n",
       "      <td>No</td>\n",
       "      <td>4</td>\n",
       "      <td>4.0</td>\n",
       "      <td>Green</td>\n",
       "      <td>Very Good</td>\n",
       "      <td>901</td>\n",
       "    </tr>\n",
       "    <tr>\n",
       "      <th>9550</th>\n",
       "      <td>5927402</td>\n",
       "      <td>Walter's Coffee Roastery</td>\n",
       "      <td>208</td>\n",
       "      <td>ÛÁstanbul</td>\n",
       "      <td>CafeaÛôa Mahallesi, BademaltÛ± Sokak, No 21/B,...</td>\n",
       "      <td>Moda</td>\n",
       "      <td>Moda, ÛÁstanbul</td>\n",
       "      <td>29.026016</td>\n",
       "      <td>40.984776</td>\n",
       "      <td>Cafe</td>\n",
       "      <td>...</td>\n",
       "      <td>Turkish Lira(TL)</td>\n",
       "      <td>No</td>\n",
       "      <td>No</td>\n",
       "      <td>No</td>\n",
       "      <td>No</td>\n",
       "      <td>2</td>\n",
       "      <td>4.0</td>\n",
       "      <td>Green</td>\n",
       "      <td>Very Good</td>\n",
       "      <td>591</td>\n",
       "    </tr>\n",
       "  </tbody>\n",
       "</table>\n",
       "<p>9551 rows × 21 columns</p>\n",
       "</div>"
      ],
      "text/plain": [
       "      Restaurant ID           Restaurant Name  Country Code              City  \\\n",
       "0           6317637          Le Petit Souffle           162       Makati City   \n",
       "1           6304287          Izakaya Kikufuji           162       Makati City   \n",
       "2           6300002    Heat - Edsa Shangri-La           162  Mandaluyong City   \n",
       "3           6318506                      Ooma           162  Mandaluyong City   \n",
       "4           6314302               Sambo Kojin           162  Mandaluyong City   \n",
       "...             ...                       ...           ...               ...   \n",
       "9546        5915730              NamlÛ± Gurme           208         ÛÁstanbul   \n",
       "9547        5908749             Ceviz AÛôacÛ±           208         ÛÁstanbul   \n",
       "9548        5915807                     Huqqa           208         ÛÁstanbul   \n",
       "9549        5916112              Aôôk Kahve           208         ÛÁstanbul   \n",
       "9550        5927402  Walter's Coffee Roastery           208         ÛÁstanbul   \n",
       "\n",
       "                                                Address  \\\n",
       "0     Third Floor, Century City Mall, Kalayaan Avenu...   \n",
       "1     Little Tokyo, 2277 Chino Roces Avenue, Legaspi...   \n",
       "2     Edsa Shangri-La, 1 Garden Way, Ortigas, Mandal...   \n",
       "3     Third Floor, Mega Fashion Hall, SM Megamall, O...   \n",
       "4     Third Floor, Mega Atrium, SM Megamall, Ortigas...   \n",
       "...                                                 ...   \n",
       "9546  Kemankeô Karamustafa Paôa Mahallesi, RÛ±htÛ±...   \n",
       "9547  Koôuyolu Mahallesi, Muhittin íìstí_ndaÛô Cadd...   \n",
       "9548  Kuruí_eôme Mahallesi, Muallim Naci Caddesi, N...   \n",
       "9549  Kuruí_eôme Mahallesi, Muallim Naci Caddesi, N...   \n",
       "9550  CafeaÛôa Mahallesi, BademaltÛ± Sokak, No 21/B,...   \n",
       "\n",
       "                                        Locality  \\\n",
       "0      Century City Mall, Poblacion, Makati City   \n",
       "1     Little Tokyo, Legaspi Village, Makati City   \n",
       "2     Edsa Shangri-La, Ortigas, Mandaluyong City   \n",
       "3         SM Megamall, Ortigas, Mandaluyong City   \n",
       "4         SM Megamall, Ortigas, Mandaluyong City   \n",
       "...                                          ...   \n",
       "9546                                    Karakí_y   \n",
       "9547                                   Koôuyolu   \n",
       "9548                                 Kuruí_eôme   \n",
       "9549                                 Kuruí_eôme   \n",
       "9550                                        Moda   \n",
       "\n",
       "                                       Locality Verbose   Longitude  \\\n",
       "0     Century City Mall, Poblacion, Makati City, Mak...  121.027535   \n",
       "1     Little Tokyo, Legaspi Village, Makati City, Ma...  121.014101   \n",
       "2     Edsa Shangri-La, Ortigas, Mandaluyong City, Ma...  121.056831   \n",
       "3     SM Megamall, Ortigas, Mandaluyong City, Mandal...  121.056475   \n",
       "4     SM Megamall, Ortigas, Mandaluyong City, Mandal...  121.057508   \n",
       "...                                                 ...         ...   \n",
       "9546                                Karakí_y, ÛÁstanbul   28.977392   \n",
       "9547                               Koôuyolu, ÛÁstanbul   29.041297   \n",
       "9548                             Kuruí_eôme, ÛÁstanbul   29.034640   \n",
       "9549                             Kuruí_eôme, ÛÁstanbul   29.036019   \n",
       "9550                                    Moda, ÛÁstanbul   29.026016   \n",
       "\n",
       "       Latitude                          Cuisines  ...          Currency  \\\n",
       "0     14.565443        French, Japanese, Desserts  ...  Botswana Pula(P)   \n",
       "1     14.553708                          Japanese  ...  Botswana Pula(P)   \n",
       "2     14.581404  Seafood, Asian, Filipino, Indian  ...  Botswana Pula(P)   \n",
       "3     14.585318                   Japanese, Sushi  ...  Botswana Pula(P)   \n",
       "4     14.584450                  Japanese, Korean  ...  Botswana Pula(P)   \n",
       "...         ...                               ...  ...               ...   \n",
       "9546  41.022793                           Turkish  ...  Turkish Lira(TL)   \n",
       "9547  41.009847   World Cuisine, Patisserie, Cafe  ...  Turkish Lira(TL)   \n",
       "9548  41.055817            Italian, World Cuisine  ...  Turkish Lira(TL)   \n",
       "9549  41.057979                   Restaurant Cafe  ...  Turkish Lira(TL)   \n",
       "9550  40.984776                              Cafe  ...  Turkish Lira(TL)   \n",
       "\n",
       "     Has Table booking Has Online delivery Is delivering now  \\\n",
       "0                  Yes                  No                No   \n",
       "1                  Yes                  No                No   \n",
       "2                  Yes                  No                No   \n",
       "3                   No                  No                No   \n",
       "4                  Yes                  No                No   \n",
       "...                ...                 ...               ...   \n",
       "9546                No                  No                No   \n",
       "9547                No                  No                No   \n",
       "9548                No                  No                No   \n",
       "9549                No                  No                No   \n",
       "9550                No                  No                No   \n",
       "\n",
       "     Switch to order menu Price range  Aggregate rating  Rating color  \\\n",
       "0                      No           3               4.8    Dark Green   \n",
       "1                      No           3               4.5    Dark Green   \n",
       "2                      No           4               4.4         Green   \n",
       "3                      No           4               4.9    Dark Green   \n",
       "4                      No           4               4.8    Dark Green   \n",
       "...                   ...         ...               ...           ...   \n",
       "9546                   No           3               4.1         Green   \n",
       "9547                   No           3               4.2         Green   \n",
       "9548                   No           4               3.7        Yellow   \n",
       "9549                   No           4               4.0         Green   \n",
       "9550                   No           2               4.0         Green   \n",
       "\n",
       "     Rating text Votes  \n",
       "0      Excellent   314  \n",
       "1      Excellent   591  \n",
       "2      Very Good   270  \n",
       "3      Excellent   365  \n",
       "4      Excellent   229  \n",
       "...          ...   ...  \n",
       "9546   Very Good   788  \n",
       "9547   Very Good  1034  \n",
       "9548        Good   661  \n",
       "9549   Very Good   901  \n",
       "9550   Very Good   591  \n",
       "\n",
       "[9551 rows x 21 columns]"
      ]
     },
     "execution_count": 4,
     "metadata": {},
     "output_type": "execute_result"
    }
   ],
   "source": [
    "df2 = pd.read_csv('Zomato.csv',encoding='latin1')\n",
    "df2"
   ]
  },
  {
   "cell_type": "code",
   "execution_count": 5,
   "id": "dec72ca7",
   "metadata": {},
   "outputs": [
    {
     "data": {
      "text/html": [
       "<div>\n",
       "<style scoped>\n",
       "    .dataframe tbody tr th:only-of-type {\n",
       "        vertical-align: middle;\n",
       "    }\n",
       "\n",
       "    .dataframe tbody tr th {\n",
       "        vertical-align: top;\n",
       "    }\n",
       "\n",
       "    .dataframe thead th {\n",
       "        text-align: right;\n",
       "    }\n",
       "</style>\n",
       "<table border=\"1\" class=\"dataframe\">\n",
       "  <thead>\n",
       "    <tr style=\"text-align: right;\">\n",
       "      <th></th>\n",
       "      <th>Country Code</th>\n",
       "      <th>Country</th>\n",
       "      <th>Restaurant ID</th>\n",
       "      <th>Restaurant Name</th>\n",
       "      <th>City</th>\n",
       "      <th>Address</th>\n",
       "      <th>Locality</th>\n",
       "      <th>Locality Verbose</th>\n",
       "      <th>Longitude</th>\n",
       "      <th>Latitude</th>\n",
       "      <th>...</th>\n",
       "      <th>Currency</th>\n",
       "      <th>Has Table booking</th>\n",
       "      <th>Has Online delivery</th>\n",
       "      <th>Is delivering now</th>\n",
       "      <th>Switch to order menu</th>\n",
       "      <th>Price range</th>\n",
       "      <th>Aggregate rating</th>\n",
       "      <th>Rating color</th>\n",
       "      <th>Rating text</th>\n",
       "      <th>Votes</th>\n",
       "    </tr>\n",
       "  </thead>\n",
       "  <tbody>\n",
       "    <tr>\n",
       "      <th>0</th>\n",
       "      <td>1</td>\n",
       "      <td>India</td>\n",
       "      <td>3400025</td>\n",
       "      <td>Jahanpanah</td>\n",
       "      <td>Agra</td>\n",
       "      <td>E 23, Shopping Arcade, Sadar Bazaar, Agra Cant...</td>\n",
       "      <td>Agra Cantt</td>\n",
       "      <td>Agra Cantt, Agra</td>\n",
       "      <td>78.011544</td>\n",
       "      <td>27.161661</td>\n",
       "      <td>...</td>\n",
       "      <td>Indian Rupees(Rs.)</td>\n",
       "      <td>No</td>\n",
       "      <td>No</td>\n",
       "      <td>No</td>\n",
       "      <td>No</td>\n",
       "      <td>3</td>\n",
       "      <td>3.9</td>\n",
       "      <td>Yellow</td>\n",
       "      <td>Good</td>\n",
       "      <td>140</td>\n",
       "    </tr>\n",
       "    <tr>\n",
       "      <th>1</th>\n",
       "      <td>1</td>\n",
       "      <td>India</td>\n",
       "      <td>3400341</td>\n",
       "      <td>Rangrezz Restaurant</td>\n",
       "      <td>Agra</td>\n",
       "      <td>E-20, Shopping Arcade, Sadar Bazaar, Agra Cant...</td>\n",
       "      <td>Agra Cantt</td>\n",
       "      <td>Agra Cantt, Agra</td>\n",
       "      <td>0.000000</td>\n",
       "      <td>0.000000</td>\n",
       "      <td>...</td>\n",
       "      <td>Indian Rupees(Rs.)</td>\n",
       "      <td>No</td>\n",
       "      <td>No</td>\n",
       "      <td>No</td>\n",
       "      <td>No</td>\n",
       "      <td>2</td>\n",
       "      <td>3.5</td>\n",
       "      <td>Yellow</td>\n",
       "      <td>Good</td>\n",
       "      <td>71</td>\n",
       "    </tr>\n",
       "    <tr>\n",
       "      <th>2</th>\n",
       "      <td>1</td>\n",
       "      <td>India</td>\n",
       "      <td>3400005</td>\n",
       "      <td>Time2Eat - Mama Chicken</td>\n",
       "      <td>Agra</td>\n",
       "      <td>Main Market, Sadar Bazaar, Agra Cantt, Agra</td>\n",
       "      <td>Agra Cantt</td>\n",
       "      <td>Agra Cantt, Agra</td>\n",
       "      <td>78.011608</td>\n",
       "      <td>27.160832</td>\n",
       "      <td>...</td>\n",
       "      <td>Indian Rupees(Rs.)</td>\n",
       "      <td>No</td>\n",
       "      <td>No</td>\n",
       "      <td>No</td>\n",
       "      <td>No</td>\n",
       "      <td>2</td>\n",
       "      <td>3.6</td>\n",
       "      <td>Yellow</td>\n",
       "      <td>Good</td>\n",
       "      <td>94</td>\n",
       "    </tr>\n",
       "    <tr>\n",
       "      <th>3</th>\n",
       "      <td>1</td>\n",
       "      <td>India</td>\n",
       "      <td>3400021</td>\n",
       "      <td>Chokho Jeeman Marwari Jain Bhojanalya</td>\n",
       "      <td>Agra</td>\n",
       "      <td>1/48, Delhi Gate, Station Road, Raja Mandi, Ci...</td>\n",
       "      <td>Civil Lines</td>\n",
       "      <td>Civil Lines, Agra</td>\n",
       "      <td>77.998092</td>\n",
       "      <td>27.195928</td>\n",
       "      <td>...</td>\n",
       "      <td>Indian Rupees(Rs.)</td>\n",
       "      <td>No</td>\n",
       "      <td>No</td>\n",
       "      <td>No</td>\n",
       "      <td>No</td>\n",
       "      <td>2</td>\n",
       "      <td>4.0</td>\n",
       "      <td>Green</td>\n",
       "      <td>Very Good</td>\n",
       "      <td>87</td>\n",
       "    </tr>\n",
       "    <tr>\n",
       "      <th>4</th>\n",
       "      <td>1</td>\n",
       "      <td>India</td>\n",
       "      <td>3400017</td>\n",
       "      <td>Pinch Of Spice</td>\n",
       "      <td>Agra</td>\n",
       "      <td>23/453, Opposite Sanjay Cinema, Wazipura Road,...</td>\n",
       "      <td>Civil Lines</td>\n",
       "      <td>Civil Lines, Agra</td>\n",
       "      <td>78.007553</td>\n",
       "      <td>27.201725</td>\n",
       "      <td>...</td>\n",
       "      <td>Indian Rupees(Rs.)</td>\n",
       "      <td>No</td>\n",
       "      <td>No</td>\n",
       "      <td>No</td>\n",
       "      <td>No</td>\n",
       "      <td>3</td>\n",
       "      <td>4.2</td>\n",
       "      <td>Green</td>\n",
       "      <td>Very Good</td>\n",
       "      <td>177</td>\n",
       "    </tr>\n",
       "    <tr>\n",
       "      <th>...</th>\n",
       "      <td>...</td>\n",
       "      <td>...</td>\n",
       "      <td>...</td>\n",
       "      <td>...</td>\n",
       "      <td>...</td>\n",
       "      <td>...</td>\n",
       "      <td>...</td>\n",
       "      <td>...</td>\n",
       "      <td>...</td>\n",
       "      <td>...</td>\n",
       "      <td>...</td>\n",
       "      <td>...</td>\n",
       "      <td>...</td>\n",
       "      <td>...</td>\n",
       "      <td>...</td>\n",
       "      <td>...</td>\n",
       "      <td>...</td>\n",
       "      <td>...</td>\n",
       "      <td>...</td>\n",
       "      <td>...</td>\n",
       "      <td>...</td>\n",
       "    </tr>\n",
       "    <tr>\n",
       "      <th>9546</th>\n",
       "      <td>216</td>\n",
       "      <td>United States</td>\n",
       "      <td>17697389</td>\n",
       "      <td>The Screaming Eagle</td>\n",
       "      <td>Waterloo</td>\n",
       "      <td>228 E 4th St., Waterloo, IA 50703</td>\n",
       "      <td>Waterloo</td>\n",
       "      <td>Waterloo, Waterloo</td>\n",
       "      <td>-92.335523</td>\n",
       "      <td>42.498400</td>\n",
       "      <td>...</td>\n",
       "      <td>Dollar($)</td>\n",
       "      <td>No</td>\n",
       "      <td>No</td>\n",
       "      <td>No</td>\n",
       "      <td>No</td>\n",
       "      <td>1</td>\n",
       "      <td>3.7</td>\n",
       "      <td>Yellow</td>\n",
       "      <td>Good</td>\n",
       "      <td>101</td>\n",
       "    </tr>\n",
       "    <tr>\n",
       "      <th>9547</th>\n",
       "      <td>216</td>\n",
       "      <td>United States</td>\n",
       "      <td>17697424</td>\n",
       "      <td>The Thai Bowl</td>\n",
       "      <td>Waterloo</td>\n",
       "      <td>624 Sycamore Street, Waterloo, IA 50703</td>\n",
       "      <td>Waterloo</td>\n",
       "      <td>Waterloo, Waterloo</td>\n",
       "      <td>-92.335769</td>\n",
       "      <td>42.497919</td>\n",
       "      <td>...</td>\n",
       "      <td>Dollar($)</td>\n",
       "      <td>No</td>\n",
       "      <td>No</td>\n",
       "      <td>No</td>\n",
       "      <td>No</td>\n",
       "      <td>1</td>\n",
       "      <td>3.5</td>\n",
       "      <td>Yellow</td>\n",
       "      <td>Good</td>\n",
       "      <td>58</td>\n",
       "    </tr>\n",
       "    <tr>\n",
       "      <th>9548</th>\n",
       "      <td>216</td>\n",
       "      <td>United States</td>\n",
       "      <td>17697332</td>\n",
       "      <td>Tokyo Japanese Steak House</td>\n",
       "      <td>Waterloo</td>\n",
       "      <td>1931 Sears Street, Waterloo, IA 50702</td>\n",
       "      <td>Waterloo</td>\n",
       "      <td>Waterloo, Waterloo</td>\n",
       "      <td>-92.323400</td>\n",
       "      <td>42.465580</td>\n",
       "      <td>...</td>\n",
       "      <td>Dollar($)</td>\n",
       "      <td>No</td>\n",
       "      <td>No</td>\n",
       "      <td>No</td>\n",
       "      <td>No</td>\n",
       "      <td>2</td>\n",
       "      <td>3.9</td>\n",
       "      <td>Yellow</td>\n",
       "      <td>Good</td>\n",
       "      <td>156</td>\n",
       "    </tr>\n",
       "    <tr>\n",
       "      <th>9549</th>\n",
       "      <td>216</td>\n",
       "      <td>United States</td>\n",
       "      <td>17694056</td>\n",
       "      <td>Theo Yianni's Authentic Greek Restaurant</td>\n",
       "      <td>Weirton</td>\n",
       "      <td>322 American Way, Weirton, WV 26062</td>\n",
       "      <td>Weirton</td>\n",
       "      <td>Weirton, Weirton</td>\n",
       "      <td>-80.529488</td>\n",
       "      <td>40.396043</td>\n",
       "      <td>...</td>\n",
       "      <td>Dollar($)</td>\n",
       "      <td>No</td>\n",
       "      <td>No</td>\n",
       "      <td>No</td>\n",
       "      <td>No</td>\n",
       "      <td>2</td>\n",
       "      <td>3.9</td>\n",
       "      <td>Yellow</td>\n",
       "      <td>Good</td>\n",
       "      <td>156</td>\n",
       "    </tr>\n",
       "    <tr>\n",
       "      <th>9550</th>\n",
       "      <td>216</td>\n",
       "      <td>United States</td>\n",
       "      <td>17559793</td>\n",
       "      <td>Fishpatrick's Crabby Cafe</td>\n",
       "      <td>Winchester Bay</td>\n",
       "      <td>196 Bayfront Loop, Winchester Bay, OR 97467</td>\n",
       "      <td>Winchester Bay</td>\n",
       "      <td>Winchester Bay, Winchester Bay</td>\n",
       "      <td>-124.175346</td>\n",
       "      <td>43.678998</td>\n",
       "      <td>...</td>\n",
       "      <td>Dollar($)</td>\n",
       "      <td>No</td>\n",
       "      <td>No</td>\n",
       "      <td>No</td>\n",
       "      <td>No</td>\n",
       "      <td>2</td>\n",
       "      <td>3.2</td>\n",
       "      <td>Orange</td>\n",
       "      <td>Average</td>\n",
       "      <td>16</td>\n",
       "    </tr>\n",
       "  </tbody>\n",
       "</table>\n",
       "<p>9551 rows × 22 columns</p>\n",
       "</div>"
      ],
      "text/plain": [
       "      Country Code        Country  Restaurant ID  \\\n",
       "0                1          India        3400025   \n",
       "1                1          India        3400341   \n",
       "2                1          India        3400005   \n",
       "3                1          India        3400021   \n",
       "4                1          India        3400017   \n",
       "...            ...            ...            ...   \n",
       "9546           216  United States       17697389   \n",
       "9547           216  United States       17697424   \n",
       "9548           216  United States       17697332   \n",
       "9549           216  United States       17694056   \n",
       "9550           216  United States       17559793   \n",
       "\n",
       "                               Restaurant Name            City  \\\n",
       "0                                   Jahanpanah            Agra   \n",
       "1                          Rangrezz Restaurant            Agra   \n",
       "2                      Time2Eat - Mama Chicken            Agra   \n",
       "3        Chokho Jeeman Marwari Jain Bhojanalya            Agra   \n",
       "4                               Pinch Of Spice            Agra   \n",
       "...                                        ...             ...   \n",
       "9546                       The Screaming Eagle        Waterloo   \n",
       "9547                             The Thai Bowl        Waterloo   \n",
       "9548                Tokyo Japanese Steak House        Waterloo   \n",
       "9549  Theo Yianni's Authentic Greek Restaurant         Weirton   \n",
       "9550                 Fishpatrick's Crabby Cafe  Winchester Bay   \n",
       "\n",
       "                                                Address        Locality  \\\n",
       "0     E 23, Shopping Arcade, Sadar Bazaar, Agra Cant...      Agra Cantt   \n",
       "1     E-20, Shopping Arcade, Sadar Bazaar, Agra Cant...      Agra Cantt   \n",
       "2           Main Market, Sadar Bazaar, Agra Cantt, Agra      Agra Cantt   \n",
       "3     1/48, Delhi Gate, Station Road, Raja Mandi, Ci...     Civil Lines   \n",
       "4     23/453, Opposite Sanjay Cinema, Wazipura Road,...     Civil Lines   \n",
       "...                                                 ...             ...   \n",
       "9546                  228 E 4th St., Waterloo, IA 50703        Waterloo   \n",
       "9547            624 Sycamore Street, Waterloo, IA 50703        Waterloo   \n",
       "9548              1931 Sears Street, Waterloo, IA 50702        Waterloo   \n",
       "9549                322 American Way, Weirton, WV 26062         Weirton   \n",
       "9550        196 Bayfront Loop, Winchester Bay, OR 97467  Winchester Bay   \n",
       "\n",
       "                    Locality Verbose   Longitude   Latitude  ...  \\\n",
       "0                   Agra Cantt, Agra   78.011544  27.161661  ...   \n",
       "1                   Agra Cantt, Agra    0.000000   0.000000  ...   \n",
       "2                   Agra Cantt, Agra   78.011608  27.160832  ...   \n",
       "3                  Civil Lines, Agra   77.998092  27.195928  ...   \n",
       "4                  Civil Lines, Agra   78.007553  27.201725  ...   \n",
       "...                              ...         ...        ...  ...   \n",
       "9546              Waterloo, Waterloo  -92.335523  42.498400  ...   \n",
       "9547              Waterloo, Waterloo  -92.335769  42.497919  ...   \n",
       "9548              Waterloo, Waterloo  -92.323400  42.465580  ...   \n",
       "9549                Weirton, Weirton  -80.529488  40.396043  ...   \n",
       "9550  Winchester Bay, Winchester Bay -124.175346  43.678998  ...   \n",
       "\n",
       "                Currency  Has Table booking Has Online delivery  \\\n",
       "0     Indian Rupees(Rs.)                 No                  No   \n",
       "1     Indian Rupees(Rs.)                 No                  No   \n",
       "2     Indian Rupees(Rs.)                 No                  No   \n",
       "3     Indian Rupees(Rs.)                 No                  No   \n",
       "4     Indian Rupees(Rs.)                 No                  No   \n",
       "...                  ...                ...                 ...   \n",
       "9546           Dollar($)                 No                  No   \n",
       "9547           Dollar($)                 No                  No   \n",
       "9548           Dollar($)                 No                  No   \n",
       "9549           Dollar($)                 No                  No   \n",
       "9550           Dollar($)                 No                  No   \n",
       "\n",
       "     Is delivering now Switch to order menu Price range Aggregate rating  \\\n",
       "0                   No                   No           3              3.9   \n",
       "1                   No                   No           2              3.5   \n",
       "2                   No                   No           2              3.6   \n",
       "3                   No                   No           2              4.0   \n",
       "4                   No                   No           3              4.2   \n",
       "...                ...                  ...         ...              ...   \n",
       "9546                No                   No           1              3.7   \n",
       "9547                No                   No           1              3.5   \n",
       "9548                No                   No           2              3.9   \n",
       "9549                No                   No           2              3.9   \n",
       "9550                No                   No           2              3.2   \n",
       "\n",
       "      Rating color  Rating text Votes  \n",
       "0           Yellow         Good   140  \n",
       "1           Yellow         Good    71  \n",
       "2           Yellow         Good    94  \n",
       "3            Green    Very Good    87  \n",
       "4            Green    Very Good   177  \n",
       "...            ...          ...   ...  \n",
       "9546        Yellow         Good   101  \n",
       "9547        Yellow         Good    58  \n",
       "9548        Yellow         Good   156  \n",
       "9549        Yellow         Good   156  \n",
       "9550        Orange      Average    16  \n",
       "\n",
       "[9551 rows x 22 columns]"
      ]
     },
     "execution_count": 5,
     "metadata": {},
     "output_type": "execute_result"
    }
   ],
   "source": [
    "df=pd.merge(df1,df2)\n",
    "df"
   ]
  },
  {
   "cell_type": "code",
   "execution_count": 6,
   "id": "bbf3cffe",
   "metadata": {},
   "outputs": [
    {
     "data": {
      "text/html": [
       "<div>\n",
       "<style scoped>\n",
       "    .dataframe tbody tr th:only-of-type {\n",
       "        vertical-align: middle;\n",
       "    }\n",
       "\n",
       "    .dataframe tbody tr th {\n",
       "        vertical-align: top;\n",
       "    }\n",
       "\n",
       "    .dataframe thead th {\n",
       "        text-align: right;\n",
       "    }\n",
       "</style>\n",
       "<table border=\"1\" class=\"dataframe\">\n",
       "  <thead>\n",
       "    <tr style=\"text-align: right;\">\n",
       "      <th></th>\n",
       "      <th>Country Code</th>\n",
       "      <th>Country</th>\n",
       "      <th>Restaurant ID</th>\n",
       "      <th>Restaurant Name</th>\n",
       "      <th>City</th>\n",
       "      <th>Address</th>\n",
       "      <th>Locality</th>\n",
       "      <th>Locality Verbose</th>\n",
       "      <th>Longitude</th>\n",
       "      <th>Latitude</th>\n",
       "      <th>...</th>\n",
       "      <th>Currency</th>\n",
       "      <th>Has Table booking</th>\n",
       "      <th>Has Online delivery</th>\n",
       "      <th>Is delivering now</th>\n",
       "      <th>Switch to order menu</th>\n",
       "      <th>Price range</th>\n",
       "      <th>Aggregate rating</th>\n",
       "      <th>Rating color</th>\n",
       "      <th>Rating text</th>\n",
       "      <th>Votes</th>\n",
       "    </tr>\n",
       "  </thead>\n",
       "  <tbody>\n",
       "    <tr>\n",
       "      <th>0</th>\n",
       "      <td>1</td>\n",
       "      <td>India</td>\n",
       "      <td>3400025</td>\n",
       "      <td>Jahanpanah</td>\n",
       "      <td>Agra</td>\n",
       "      <td>E 23, Shopping Arcade, Sadar Bazaar, Agra Cant...</td>\n",
       "      <td>Agra Cantt</td>\n",
       "      <td>Agra Cantt, Agra</td>\n",
       "      <td>78.011544</td>\n",
       "      <td>27.161661</td>\n",
       "      <td>...</td>\n",
       "      <td>Indian Rupees(Rs.)</td>\n",
       "      <td>No</td>\n",
       "      <td>No</td>\n",
       "      <td>No</td>\n",
       "      <td>No</td>\n",
       "      <td>3</td>\n",
       "      <td>3.9</td>\n",
       "      <td>Yellow</td>\n",
       "      <td>Good</td>\n",
       "      <td>140</td>\n",
       "    </tr>\n",
       "    <tr>\n",
       "      <th>1</th>\n",
       "      <td>1</td>\n",
       "      <td>India</td>\n",
       "      <td>3400341</td>\n",
       "      <td>Rangrezz Restaurant</td>\n",
       "      <td>Agra</td>\n",
       "      <td>E-20, Shopping Arcade, Sadar Bazaar, Agra Cant...</td>\n",
       "      <td>Agra Cantt</td>\n",
       "      <td>Agra Cantt, Agra</td>\n",
       "      <td>0.000000</td>\n",
       "      <td>0.000000</td>\n",
       "      <td>...</td>\n",
       "      <td>Indian Rupees(Rs.)</td>\n",
       "      <td>No</td>\n",
       "      <td>No</td>\n",
       "      <td>No</td>\n",
       "      <td>No</td>\n",
       "      <td>2</td>\n",
       "      <td>3.5</td>\n",
       "      <td>Yellow</td>\n",
       "      <td>Good</td>\n",
       "      <td>71</td>\n",
       "    </tr>\n",
       "    <tr>\n",
       "      <th>2</th>\n",
       "      <td>1</td>\n",
       "      <td>India</td>\n",
       "      <td>3400005</td>\n",
       "      <td>Time2Eat - Mama Chicken</td>\n",
       "      <td>Agra</td>\n",
       "      <td>Main Market, Sadar Bazaar, Agra Cantt, Agra</td>\n",
       "      <td>Agra Cantt</td>\n",
       "      <td>Agra Cantt, Agra</td>\n",
       "      <td>78.011608</td>\n",
       "      <td>27.160832</td>\n",
       "      <td>...</td>\n",
       "      <td>Indian Rupees(Rs.)</td>\n",
       "      <td>No</td>\n",
       "      <td>No</td>\n",
       "      <td>No</td>\n",
       "      <td>No</td>\n",
       "      <td>2</td>\n",
       "      <td>3.6</td>\n",
       "      <td>Yellow</td>\n",
       "      <td>Good</td>\n",
       "      <td>94</td>\n",
       "    </tr>\n",
       "    <tr>\n",
       "      <th>3</th>\n",
       "      <td>1</td>\n",
       "      <td>India</td>\n",
       "      <td>3400021</td>\n",
       "      <td>Chokho Jeeman Marwari Jain Bhojanalya</td>\n",
       "      <td>Agra</td>\n",
       "      <td>1/48, Delhi Gate, Station Road, Raja Mandi, Ci...</td>\n",
       "      <td>Civil Lines</td>\n",
       "      <td>Civil Lines, Agra</td>\n",
       "      <td>77.998092</td>\n",
       "      <td>27.195928</td>\n",
       "      <td>...</td>\n",
       "      <td>Indian Rupees(Rs.)</td>\n",
       "      <td>No</td>\n",
       "      <td>No</td>\n",
       "      <td>No</td>\n",
       "      <td>No</td>\n",
       "      <td>2</td>\n",
       "      <td>4.0</td>\n",
       "      <td>Green</td>\n",
       "      <td>Very Good</td>\n",
       "      <td>87</td>\n",
       "    </tr>\n",
       "    <tr>\n",
       "      <th>4</th>\n",
       "      <td>1</td>\n",
       "      <td>India</td>\n",
       "      <td>3400017</td>\n",
       "      <td>Pinch Of Spice</td>\n",
       "      <td>Agra</td>\n",
       "      <td>23/453, Opposite Sanjay Cinema, Wazipura Road,...</td>\n",
       "      <td>Civil Lines</td>\n",
       "      <td>Civil Lines, Agra</td>\n",
       "      <td>78.007553</td>\n",
       "      <td>27.201725</td>\n",
       "      <td>...</td>\n",
       "      <td>Indian Rupees(Rs.)</td>\n",
       "      <td>No</td>\n",
       "      <td>No</td>\n",
       "      <td>No</td>\n",
       "      <td>No</td>\n",
       "      <td>3</td>\n",
       "      <td>4.2</td>\n",
       "      <td>Green</td>\n",
       "      <td>Very Good</td>\n",
       "      <td>177</td>\n",
       "    </tr>\n",
       "  </tbody>\n",
       "</table>\n",
       "<p>5 rows × 22 columns</p>\n",
       "</div>"
      ],
      "text/plain": [
       "   Country Code Country  Restaurant ID                        Restaurant Name  \\\n",
       "0             1   India        3400025                             Jahanpanah   \n",
       "1             1   India        3400341                    Rangrezz Restaurant   \n",
       "2             1   India        3400005                Time2Eat - Mama Chicken   \n",
       "3             1   India        3400021  Chokho Jeeman Marwari Jain Bhojanalya   \n",
       "4             1   India        3400017                         Pinch Of Spice   \n",
       "\n",
       "   City                                            Address     Locality  \\\n",
       "0  Agra  E 23, Shopping Arcade, Sadar Bazaar, Agra Cant...   Agra Cantt   \n",
       "1  Agra  E-20, Shopping Arcade, Sadar Bazaar, Agra Cant...   Agra Cantt   \n",
       "2  Agra        Main Market, Sadar Bazaar, Agra Cantt, Agra   Agra Cantt   \n",
       "3  Agra  1/48, Delhi Gate, Station Road, Raja Mandi, Ci...  Civil Lines   \n",
       "4  Agra  23/453, Opposite Sanjay Cinema, Wazipura Road,...  Civil Lines   \n",
       "\n",
       "    Locality Verbose  Longitude   Latitude  ...            Currency  \\\n",
       "0   Agra Cantt, Agra  78.011544  27.161661  ...  Indian Rupees(Rs.)   \n",
       "1   Agra Cantt, Agra   0.000000   0.000000  ...  Indian Rupees(Rs.)   \n",
       "2   Agra Cantt, Agra  78.011608  27.160832  ...  Indian Rupees(Rs.)   \n",
       "3  Civil Lines, Agra  77.998092  27.195928  ...  Indian Rupees(Rs.)   \n",
       "4  Civil Lines, Agra  78.007553  27.201725  ...  Indian Rupees(Rs.)   \n",
       "\n",
       "   Has Table booking Has Online delivery Is delivering now  \\\n",
       "0                 No                  No                No   \n",
       "1                 No                  No                No   \n",
       "2                 No                  No                No   \n",
       "3                 No                  No                No   \n",
       "4                 No                  No                No   \n",
       "\n",
       "  Switch to order menu Price range Aggregate rating  Rating color  \\\n",
       "0                   No           3              3.9        Yellow   \n",
       "1                   No           2              3.5        Yellow   \n",
       "2                   No           2              3.6        Yellow   \n",
       "3                   No           2              4.0         Green   \n",
       "4                   No           3              4.2         Green   \n",
       "\n",
       "   Rating text Votes  \n",
       "0         Good   140  \n",
       "1         Good    71  \n",
       "2         Good    94  \n",
       "3    Very Good    87  \n",
       "4    Very Good   177  \n",
       "\n",
       "[5 rows x 22 columns]"
      ]
     },
     "execution_count": 6,
     "metadata": {},
     "output_type": "execute_result"
    }
   ],
   "source": [
    "df.head()"
   ]
  },
  {
   "cell_type": "code",
   "execution_count": 7,
   "id": "df1ea0dd",
   "metadata": {},
   "outputs": [
    {
     "data": {
      "text/html": [
       "<div>\n",
       "<style scoped>\n",
       "    .dataframe tbody tr th:only-of-type {\n",
       "        vertical-align: middle;\n",
       "    }\n",
       "\n",
       "    .dataframe tbody tr th {\n",
       "        vertical-align: top;\n",
       "    }\n",
       "\n",
       "    .dataframe thead th {\n",
       "        text-align: right;\n",
       "    }\n",
       "</style>\n",
       "<table border=\"1\" class=\"dataframe\">\n",
       "  <thead>\n",
       "    <tr style=\"text-align: right;\">\n",
       "      <th></th>\n",
       "      <th>Country Code</th>\n",
       "      <th>Country</th>\n",
       "      <th>Restaurant ID</th>\n",
       "      <th>Restaurant Name</th>\n",
       "      <th>City</th>\n",
       "      <th>Address</th>\n",
       "      <th>Locality</th>\n",
       "      <th>Locality Verbose</th>\n",
       "      <th>Longitude</th>\n",
       "      <th>Latitude</th>\n",
       "      <th>...</th>\n",
       "      <th>Currency</th>\n",
       "      <th>Has Table booking</th>\n",
       "      <th>Has Online delivery</th>\n",
       "      <th>Is delivering now</th>\n",
       "      <th>Switch to order menu</th>\n",
       "      <th>Price range</th>\n",
       "      <th>Aggregate rating</th>\n",
       "      <th>Rating color</th>\n",
       "      <th>Rating text</th>\n",
       "      <th>Votes</th>\n",
       "    </tr>\n",
       "  </thead>\n",
       "  <tbody>\n",
       "    <tr>\n",
       "      <th>9546</th>\n",
       "      <td>216</td>\n",
       "      <td>United States</td>\n",
       "      <td>17697389</td>\n",
       "      <td>The Screaming Eagle</td>\n",
       "      <td>Waterloo</td>\n",
       "      <td>228 E 4th St., Waterloo, IA 50703</td>\n",
       "      <td>Waterloo</td>\n",
       "      <td>Waterloo, Waterloo</td>\n",
       "      <td>-92.335523</td>\n",
       "      <td>42.498400</td>\n",
       "      <td>...</td>\n",
       "      <td>Dollar($)</td>\n",
       "      <td>No</td>\n",
       "      <td>No</td>\n",
       "      <td>No</td>\n",
       "      <td>No</td>\n",
       "      <td>1</td>\n",
       "      <td>3.7</td>\n",
       "      <td>Yellow</td>\n",
       "      <td>Good</td>\n",
       "      <td>101</td>\n",
       "    </tr>\n",
       "    <tr>\n",
       "      <th>9547</th>\n",
       "      <td>216</td>\n",
       "      <td>United States</td>\n",
       "      <td>17697424</td>\n",
       "      <td>The Thai Bowl</td>\n",
       "      <td>Waterloo</td>\n",
       "      <td>624 Sycamore Street, Waterloo, IA 50703</td>\n",
       "      <td>Waterloo</td>\n",
       "      <td>Waterloo, Waterloo</td>\n",
       "      <td>-92.335769</td>\n",
       "      <td>42.497919</td>\n",
       "      <td>...</td>\n",
       "      <td>Dollar($)</td>\n",
       "      <td>No</td>\n",
       "      <td>No</td>\n",
       "      <td>No</td>\n",
       "      <td>No</td>\n",
       "      <td>1</td>\n",
       "      <td>3.5</td>\n",
       "      <td>Yellow</td>\n",
       "      <td>Good</td>\n",
       "      <td>58</td>\n",
       "    </tr>\n",
       "    <tr>\n",
       "      <th>9548</th>\n",
       "      <td>216</td>\n",
       "      <td>United States</td>\n",
       "      <td>17697332</td>\n",
       "      <td>Tokyo Japanese Steak House</td>\n",
       "      <td>Waterloo</td>\n",
       "      <td>1931 Sears Street, Waterloo, IA 50702</td>\n",
       "      <td>Waterloo</td>\n",
       "      <td>Waterloo, Waterloo</td>\n",
       "      <td>-92.323400</td>\n",
       "      <td>42.465580</td>\n",
       "      <td>...</td>\n",
       "      <td>Dollar($)</td>\n",
       "      <td>No</td>\n",
       "      <td>No</td>\n",
       "      <td>No</td>\n",
       "      <td>No</td>\n",
       "      <td>2</td>\n",
       "      <td>3.9</td>\n",
       "      <td>Yellow</td>\n",
       "      <td>Good</td>\n",
       "      <td>156</td>\n",
       "    </tr>\n",
       "    <tr>\n",
       "      <th>9549</th>\n",
       "      <td>216</td>\n",
       "      <td>United States</td>\n",
       "      <td>17694056</td>\n",
       "      <td>Theo Yianni's Authentic Greek Restaurant</td>\n",
       "      <td>Weirton</td>\n",
       "      <td>322 American Way, Weirton, WV 26062</td>\n",
       "      <td>Weirton</td>\n",
       "      <td>Weirton, Weirton</td>\n",
       "      <td>-80.529488</td>\n",
       "      <td>40.396043</td>\n",
       "      <td>...</td>\n",
       "      <td>Dollar($)</td>\n",
       "      <td>No</td>\n",
       "      <td>No</td>\n",
       "      <td>No</td>\n",
       "      <td>No</td>\n",
       "      <td>2</td>\n",
       "      <td>3.9</td>\n",
       "      <td>Yellow</td>\n",
       "      <td>Good</td>\n",
       "      <td>156</td>\n",
       "    </tr>\n",
       "    <tr>\n",
       "      <th>9550</th>\n",
       "      <td>216</td>\n",
       "      <td>United States</td>\n",
       "      <td>17559793</td>\n",
       "      <td>Fishpatrick's Crabby Cafe</td>\n",
       "      <td>Winchester Bay</td>\n",
       "      <td>196 Bayfront Loop, Winchester Bay, OR 97467</td>\n",
       "      <td>Winchester Bay</td>\n",
       "      <td>Winchester Bay, Winchester Bay</td>\n",
       "      <td>-124.175346</td>\n",
       "      <td>43.678998</td>\n",
       "      <td>...</td>\n",
       "      <td>Dollar($)</td>\n",
       "      <td>No</td>\n",
       "      <td>No</td>\n",
       "      <td>No</td>\n",
       "      <td>No</td>\n",
       "      <td>2</td>\n",
       "      <td>3.2</td>\n",
       "      <td>Orange</td>\n",
       "      <td>Average</td>\n",
       "      <td>16</td>\n",
       "    </tr>\n",
       "  </tbody>\n",
       "</table>\n",
       "<p>5 rows × 22 columns</p>\n",
       "</div>"
      ],
      "text/plain": [
       "      Country Code        Country  Restaurant ID  \\\n",
       "9546           216  United States       17697389   \n",
       "9547           216  United States       17697424   \n",
       "9548           216  United States       17697332   \n",
       "9549           216  United States       17694056   \n",
       "9550           216  United States       17559793   \n",
       "\n",
       "                               Restaurant Name            City  \\\n",
       "9546                       The Screaming Eagle        Waterloo   \n",
       "9547                             The Thai Bowl        Waterloo   \n",
       "9548                Tokyo Japanese Steak House        Waterloo   \n",
       "9549  Theo Yianni's Authentic Greek Restaurant         Weirton   \n",
       "9550                 Fishpatrick's Crabby Cafe  Winchester Bay   \n",
       "\n",
       "                                          Address        Locality  \\\n",
       "9546            228 E 4th St., Waterloo, IA 50703        Waterloo   \n",
       "9547      624 Sycamore Street, Waterloo, IA 50703        Waterloo   \n",
       "9548        1931 Sears Street, Waterloo, IA 50702        Waterloo   \n",
       "9549          322 American Way, Weirton, WV 26062         Weirton   \n",
       "9550  196 Bayfront Loop, Winchester Bay, OR 97467  Winchester Bay   \n",
       "\n",
       "                    Locality Verbose   Longitude   Latitude  ...   Currency  \\\n",
       "9546              Waterloo, Waterloo  -92.335523  42.498400  ...  Dollar($)   \n",
       "9547              Waterloo, Waterloo  -92.335769  42.497919  ...  Dollar($)   \n",
       "9548              Waterloo, Waterloo  -92.323400  42.465580  ...  Dollar($)   \n",
       "9549                Weirton, Weirton  -80.529488  40.396043  ...  Dollar($)   \n",
       "9550  Winchester Bay, Winchester Bay -124.175346  43.678998  ...  Dollar($)   \n",
       "\n",
       "      Has Table booking Has Online delivery Is delivering now  \\\n",
       "9546                 No                  No                No   \n",
       "9547                 No                  No                No   \n",
       "9548                 No                  No                No   \n",
       "9549                 No                  No                No   \n",
       "9550                 No                  No                No   \n",
       "\n",
       "     Switch to order menu Price range Aggregate rating  Rating color  \\\n",
       "9546                   No           1              3.7        Yellow   \n",
       "9547                   No           1              3.5        Yellow   \n",
       "9548                   No           2              3.9        Yellow   \n",
       "9549                   No           2              3.9        Yellow   \n",
       "9550                   No           2              3.2        Orange   \n",
       "\n",
       "      Rating text Votes  \n",
       "9546         Good   101  \n",
       "9547         Good    58  \n",
       "9548         Good   156  \n",
       "9549         Good   156  \n",
       "9550      Average    16  \n",
       "\n",
       "[5 rows x 22 columns]"
      ]
     },
     "execution_count": 7,
     "metadata": {},
     "output_type": "execute_result"
    }
   ],
   "source": [
    "df.tail()"
   ]
  },
  {
   "cell_type": "code",
   "execution_count": 8,
   "id": "70c7ef53",
   "metadata": {},
   "outputs": [
    {
     "data": {
      "text/plain": [
       "(9551, 22)"
      ]
     },
     "execution_count": 8,
     "metadata": {},
     "output_type": "execute_result"
    }
   ],
   "source": [
    "df.shape   #checking the dimension of data"
   ]
  },
  {
   "cell_type": "code",
   "execution_count": 9,
   "id": "ca99144c",
   "metadata": {},
   "outputs": [
    {
     "data": {
      "text/plain": [
       "['Country Code',\n",
       " 'Country',\n",
       " 'Restaurant ID',\n",
       " 'Restaurant Name',\n",
       " 'City',\n",
       " 'Address',\n",
       " 'Locality',\n",
       " 'Locality Verbose',\n",
       " 'Longitude',\n",
       " 'Latitude',\n",
       " 'Cuisines',\n",
       " 'Average Cost for two',\n",
       " 'Currency',\n",
       " 'Has Table booking',\n",
       " 'Has Online delivery',\n",
       " 'Is delivering now',\n",
       " 'Switch to order menu',\n",
       " 'Price range',\n",
       " 'Aggregate rating',\n",
       " 'Rating color',\n",
       " 'Rating text',\n",
       " 'Votes']"
      ]
     },
     "execution_count": 9,
     "metadata": {},
     "output_type": "execute_result"
    }
   ],
   "source": [
    "df.columns.tolist()"
   ]
  },
  {
   "cell_type": "code",
   "execution_count": 10,
   "id": "e1614c53",
   "metadata": {},
   "outputs": [
    {
     "data": {
      "text/plain": [
       "Country Code              int64\n",
       "Country                  object\n",
       "Restaurant ID             int64\n",
       "Restaurant Name          object\n",
       "City                     object\n",
       "Address                  object\n",
       "Locality                 object\n",
       "Locality Verbose         object\n",
       "Longitude               float64\n",
       "Latitude                float64\n",
       "Cuisines                 object\n",
       "Average Cost for two      int64\n",
       "Currency                 object\n",
       "Has Table booking        object\n",
       "Has Online delivery      object\n",
       "Is delivering now        object\n",
       "Switch to order menu     object\n",
       "Price range               int64\n",
       "Aggregate rating        float64\n",
       "Rating color             object\n",
       "Rating text              object\n",
       "Votes                     int64\n",
       "dtype: object"
      ]
     },
     "execution_count": 10,
     "metadata": {},
     "output_type": "execute_result"
    }
   ],
   "source": [
    "df.dtypes   #datatype of all the columns"
   ]
  },
  {
   "cell_type": "code",
   "execution_count": 11,
   "id": "9936b1ad",
   "metadata": {},
   "outputs": [
    {
     "data": {
      "text/plain": [
       "Country Code            0\n",
       "Country                 0\n",
       "Restaurant ID           0\n",
       "Restaurant Name         0\n",
       "City                    0\n",
       "Address                 0\n",
       "Locality                0\n",
       "Locality Verbose        0\n",
       "Longitude               0\n",
       "Latitude                0\n",
       "Cuisines                9\n",
       "Average Cost for two    0\n",
       "Currency                0\n",
       "Has Table booking       0\n",
       "Has Online delivery     0\n",
       "Is delivering now       0\n",
       "Switch to order menu    0\n",
       "Price range             0\n",
       "Aggregate rating        0\n",
       "Rating color            0\n",
       "Rating text             0\n",
       "Votes                   0\n",
       "dtype: int64"
      ]
     },
     "execution_count": 11,
     "metadata": {},
     "output_type": "execute_result"
    }
   ],
   "source": [
    "df.isnull().sum()   #sum of all the null values in each columns"
   ]
  },
  {
   "cell_type": "code",
   "execution_count": 12,
   "id": "c14f8ce8",
   "metadata": {},
   "outputs": [],
   "source": [
    "#Here we can see that cuisines have 9 null values...will fill in the null values by the mode of the column\n",
    "\n",
    "df[\"Cuisines\"]= df[\"Cuisines\"].fillna(df[\"Cuisines\"].mode()[0])"
   ]
  },
  {
   "cell_type": "code",
   "execution_count": 13,
   "id": "46753fcd",
   "metadata": {},
   "outputs": [
    {
     "data": {
      "text/plain": [
       "Country Code            0\n",
       "Country                 0\n",
       "Restaurant ID           0\n",
       "Restaurant Name         0\n",
       "City                    0\n",
       "Address                 0\n",
       "Locality                0\n",
       "Locality Verbose        0\n",
       "Longitude               0\n",
       "Latitude                0\n",
       "Cuisines                0\n",
       "Average Cost for two    0\n",
       "Currency                0\n",
       "Has Table booking       0\n",
       "Has Online delivery     0\n",
       "Is delivering now       0\n",
       "Switch to order menu    0\n",
       "Price range             0\n",
       "Aggregate rating        0\n",
       "Rating color            0\n",
       "Rating text             0\n",
       "Votes                   0\n",
       "dtype: int64"
      ]
     },
     "execution_count": 13,
     "metadata": {},
     "output_type": "execute_result"
    }
   ],
   "source": [
    "df.isnull().sum()   #No more null values"
   ]
  },
  {
   "cell_type": "code",
   "execution_count": 14,
   "id": "baba9253",
   "metadata": {},
   "outputs": [
    {
     "name": "stdout",
     "output_type": "stream",
     "text": [
      "1      8652\n",
      "216     434\n",
      "215      80\n",
      "30       60\n",
      "189      60\n",
      "214      60\n",
      "148      40\n",
      "208      34\n",
      "14       24\n",
      "162      22\n",
      "94       21\n",
      "166      20\n",
      "184      20\n",
      "191      20\n",
      "37        4\n",
      "Name: Country Code, dtype: int64\n",
      "\n",
      "\n",
      "India             8652\n",
      "United States      434\n",
      "United Kingdom      80\n",
      "Brazil              60\n",
      "South Africa        60\n",
      "UAE                 60\n",
      "New Zealand         40\n",
      "Turkey              34\n",
      "Australia           24\n",
      "Phillipines         22\n",
      "Indonesia           21\n",
      "Qatar               20\n",
      "Singapore           20\n",
      "Sri Lanka           20\n",
      "Canada               4\n",
      "Name: Country, dtype: int64\n",
      "\n",
      "\n",
      "3400025     1\n",
      "309811      1\n",
      "18460981    1\n",
      "18287389    1\n",
      "1629        1\n",
      "           ..\n",
      "4096        1\n",
      "18358700    1\n",
      "2217        1\n",
      "18398571    1\n",
      "17559793    1\n",
      "Name: Restaurant ID, Length: 9551, dtype: int64\n",
      "\n",
      "\n",
      "Cafe Coffee Day                       83\n",
      "Domino's Pizza                        79\n",
      "Subway                                63\n",
      "Green Chick Chop                      51\n",
      "McDonald's                            48\n",
      "                                      ..\n",
      "Chor Bizarre - Hotel Broadway          1\n",
      "Thugs - Hotel Broadway                 1\n",
      "The Kylin Experience - Holiday Inn     1\n",
      "Cafe on 3 - Holiday Inn                1\n",
      "Fishpatrick's Crabby Cafe              1\n",
      "Name: Restaurant Name, Length: 7446, dtype: int64\n",
      "\n",
      "\n",
      "New Delhi           5473\n",
      "Gurgaon             1118\n",
      "Noida               1080\n",
      "Faridabad            251\n",
      "Ghaziabad             25\n",
      "                    ... \n",
      "Vineland Station       1\n",
      "Yorkton                1\n",
      "Bandung                1\n",
      "Quezon City            1\n",
      "Winchester Bay         1\n",
      "Name: City, Length: 141, dtype: int64\n",
      "\n",
      "\n",
      "Sector 41, Noida                                                                      11\n",
      "Dilli Haat, INA, New Delhi                                                            11\n",
      "Greater Kailash (GK) 1, New Delhi                                                     10\n",
      "The Imperial, Janpath, New Delhi                                                       9\n",
      "The Lalit, Barakhamba Avenue, Barakhamba Road, New Delhi                               8\n",
      "                                                                                      ..\n",
      "G-4, Local Shopping Complex, Gujranwala Town, New Delhi                                1\n",
      "State Bank Colony, Near Nanak Piau Gurudwara, GTK Road, Gujranwala Town, New Delhi     1\n",
      "Shop 6 & 7, DDA Market, Near Pentamed Hospital, Gujranwala Town, New Delhi             1\n",
      "A-199, Gujranwala Town, New Delhi                                                      1\n",
      "196 Bayfront Loop, Winchester Bay, OR 97467                                            1\n",
      "Name: Address, Length: 8918, dtype: int64\n",
      "\n",
      "\n",
      "Connaught Place    122\n",
      "Rajouri Garden      99\n",
      "Shahdara            87\n",
      "Defence Colony      86\n",
      "Pitampura           85\n",
      "                  ... \n",
      "Waltair Uplands      1\n",
      "Armidale             1\n",
      "Balingup             1\n",
      "Beechworth           1\n",
      "Winchester Bay       1\n",
      "Name: Locality, Length: 1208, dtype: int64\n",
      "\n",
      "\n",
      "Connaught Place, New Delhi             122\n",
      "Rajouri Garden, New Delhi               99\n",
      "Shahdara, New Delhi                     87\n",
      "Defence Colony, New Delhi               86\n",
      "Pitampura, New Delhi                    85\n",
      "                                      ... \n",
      "Hotel Maurya, Lodipur, Patna             1\n",
      "Maurya Lok, Fraser Road Area, Patna      1\n",
      "Patliputra Colony, Patna                 1\n",
      "Heritage Town, Puducherry                1\n",
      "Winchester Bay, Winchester Bay           1\n",
      "Name: Locality Verbose, Length: 1265, dtype: int64\n",
      "\n",
      "\n",
      " 0.000000      498\n",
      " 77.353663      19\n",
      " 77.230412      12\n",
      " 77.088688      10\n",
      " 77.251426       9\n",
      "              ... \n",
      " 77.303872       1\n",
      " 77.307939       1\n",
      " 77.299597       1\n",
      " 77.299004       1\n",
      "-124.175346      1\n",
      "Name: Longitude, Length: 8120, dtype: int64\n",
      "\n",
      "\n",
      "0.000000     498\n",
      "28.574309     16\n",
      "28.551456      9\n",
      "28.574300      9\n",
      "28.597103      8\n",
      "            ... \n",
      "28.701519      1\n",
      "28.699157      1\n",
      "28.694336      1\n",
      "28.699116      1\n",
      "43.678998      1\n",
      "Name: Latitude, Length: 8677, dtype: int64\n",
      "\n",
      "\n",
      "North Indian                                 945\n",
      "North Indian, Chinese                        511\n",
      "Fast Food                                    354\n",
      "Chinese                                      354\n",
      "North Indian, Mughlai                        334\n",
      "                                            ... \n",
      "Cafe, Mexican, Continental                     1\n",
      "North Indian, Continental, Asian, Italian      1\n",
      "Continental, Cafe                              1\n",
      "North Indian, Biryani, Mughlai                 1\n",
      "Burger, Greek, Sandwich                        1\n",
      "Name: Cuisines, Length: 1825, dtype: int64\n",
      "\n",
      "\n",
      "500       900\n",
      "300       897\n",
      "400       857\n",
      "200       687\n",
      "600       652\n",
      "         ... \n",
      "70000       1\n",
      "165000      1\n",
      "450000      1\n",
      "120000      1\n",
      "4300        1\n",
      "Name: Average Cost for two, Length: 140, dtype: int64\n",
      "\n",
      "\n",
      "Indian Rupees(Rs.)        8652\n",
      "Dollar($)                  482\n",
      "Pounds(£)                  80\n",
      "Brazilian Real(R$)          60\n",
      "Rand(R)                     60\n",
      "Emirati Diram(AED)          60\n",
      "NewZealand($)               40\n",
      "Turkish Lira(TL)            34\n",
      "Botswana Pula(P)            22\n",
      "Indonesian Rupiah(IDR)      21\n",
      "Qatari Rial(QR)             20\n",
      "Sri Lankan Rupee(LKR)       20\n",
      "Name: Currency, dtype: int64\n",
      "\n",
      "\n",
      "No     8393\n",
      "Yes    1158\n",
      "Name: Has Table booking, dtype: int64\n",
      "\n",
      "\n",
      "No     7100\n",
      "Yes    2451\n",
      "Name: Has Online delivery, dtype: int64\n",
      "\n",
      "\n",
      "No     9517\n",
      "Yes      34\n",
      "Name: Is delivering now, dtype: int64\n",
      "\n",
      "\n",
      "No    9551\n",
      "Name: Switch to order menu, dtype: int64\n",
      "\n",
      "\n",
      "1    4444\n",
      "2    3113\n",
      "3    1408\n",
      "4     586\n",
      "Name: Price range, dtype: int64\n",
      "\n",
      "\n",
      "0.0    2148\n",
      "3.2     522\n",
      "3.1     519\n",
      "3.4     498\n",
      "3.3     483\n",
      "3.5     480\n",
      "3.0     468\n",
      "3.6     458\n",
      "3.7     427\n",
      "3.8     400\n",
      "2.9     381\n",
      "3.9     335\n",
      "2.8     315\n",
      "4.1     274\n",
      "4.0     266\n",
      "2.7     250\n",
      "4.2     221\n",
      "2.6     191\n",
      "4.3     174\n",
      "4.4     144\n",
      "2.5     110\n",
      "4.5      95\n",
      "2.4      87\n",
      "4.6      78\n",
      "4.9      61\n",
      "2.3      47\n",
      "4.7      42\n",
      "2.2      27\n",
      "4.8      25\n",
      "2.1      15\n",
      "2.0       7\n",
      "1.9       2\n",
      "1.8       1\n",
      "Name: Aggregate rating, dtype: int64\n",
      "\n",
      "\n",
      "Orange        3737\n",
      "White         2148\n",
      "Yellow        2100\n",
      "Green         1079\n",
      "Dark Green     301\n",
      "Red            186\n",
      "Name: Rating color, dtype: int64\n",
      "\n",
      "\n",
      "Average      3737\n",
      "Not rated    2148\n",
      "Good         2100\n",
      "Very Good    1079\n",
      "Excellent     301\n",
      "Poor          186\n",
      "Name: Rating text, dtype: int64\n",
      "\n",
      "\n",
      "0       1094\n",
      "1        483\n",
      "2        327\n",
      "3        244\n",
      "4        207\n",
      "        ... \n",
      "1801       1\n",
      "1333       1\n",
      "1863       1\n",
      "1134       1\n",
      "575        1\n",
      "Name: Votes, Length: 1012, dtype: int64\n",
      "\n",
      "\n"
     ]
    }
   ],
   "source": [
    "#checking the value counts of unique values in each column...value_counts will give unique values and their number of presence at the same time\n",
    "\n",
    "for i in df.columns:\n",
    "    print(df[i].value_counts())\n",
    "    print('\\n')  #new line"
   ]
  },
  {
   "cell_type": "code",
   "execution_count": 15,
   "id": "df84450a",
   "metadata": {},
   "outputs": [
    {
     "name": "stdout",
     "output_type": "stream",
     "text": [
      "<class 'pandas.core.frame.DataFrame'>\n",
      "Int64Index: 9551 entries, 0 to 9550\n",
      "Data columns (total 22 columns):\n",
      " #   Column                Non-Null Count  Dtype  \n",
      "---  ------                --------------  -----  \n",
      " 0   Country Code          9551 non-null   int64  \n",
      " 1   Country               9551 non-null   object \n",
      " 2   Restaurant ID         9551 non-null   int64  \n",
      " 3   Restaurant Name       9551 non-null   object \n",
      " 4   City                  9551 non-null   object \n",
      " 5   Address               9551 non-null   object \n",
      " 6   Locality              9551 non-null   object \n",
      " 7   Locality Verbose      9551 non-null   object \n",
      " 8   Longitude             9551 non-null   float64\n",
      " 9   Latitude              9551 non-null   float64\n",
      " 10  Cuisines              9551 non-null   object \n",
      " 11  Average Cost for two  9551 non-null   int64  \n",
      " 12  Currency              9551 non-null   object \n",
      " 13  Has Table booking     9551 non-null   object \n",
      " 14  Has Online delivery   9551 non-null   object \n",
      " 15  Is delivering now     9551 non-null   object \n",
      " 16  Switch to order menu  9551 non-null   object \n",
      " 17  Price range           9551 non-null   int64  \n",
      " 18  Aggregate rating      9551 non-null   float64\n",
      " 19  Rating color          9551 non-null   object \n",
      " 20  Rating text           9551 non-null   object \n",
      " 21  Votes                 9551 non-null   int64  \n",
      "dtypes: float64(3), int64(5), object(14)\n",
      "memory usage: 1.7+ MB\n"
     ]
    }
   ],
   "source": [
    "df.info()"
   ]
  },
  {
   "cell_type": "code",
   "execution_count": 16,
   "id": "01b345b5",
   "metadata": {},
   "outputs": [
    {
     "data": {
      "text/plain": [
       "<AxesSubplot:>"
      ]
     },
     "execution_count": 16,
     "metadata": {},
     "output_type": "execute_result"
    },
    {
     "data": {
      "image/png": "[encoded data removed]",
      "text/plain": [
       "<Figure size 432x288 with 2 Axes>"
      ]
     },
     "metadata": {
      "needs_background": "light"
     },
     "output_type": "display_data"
    }
   ],
   "source": [
    "sns.heatmap(df.isnull(),cmap=\"cool_r\")   "
   ]
  },
  {
   "cell_type": "code",
   "execution_count": 17,
   "id": "a971639f",
   "metadata": {},
   "outputs": [
    {
     "data": {
      "text/plain": [
       "Country Code              15\n",
       "Country                   15\n",
       "Restaurant ID           9551\n",
       "Restaurant Name         7446\n",
       "City                     141\n",
       "Address                 8918\n",
       "Locality                1208\n",
       "Locality Verbose        1265\n",
       "Longitude               8120\n",
       "Latitude                8677\n",
       "Cuisines                1825\n",
       "Average Cost for two     140\n",
       "Currency                  12\n",
       "Has Table booking          2\n",
       "Has Online delivery        2\n",
       "Is delivering now          2\n",
       "Switch to order menu       1\n",
       "Price range                4\n",
       "Aggregate rating          33\n",
       "Rating color               6\n",
       "Rating text                6\n",
       "Votes                   1012\n",
       "dtype: int64"
      ]
     },
     "execution_count": 17,
     "metadata": {},
     "output_type": "execute_result"
    }
   ],
   "source": [
    "#checking number of unique values in each column\n",
    "\n",
    "df.nunique()"
   ]
  },
  {
   "cell_type": "code",
   "execution_count": 18,
   "id": "493d25e6",
   "metadata": {},
   "outputs": [
    {
     "data": {
      "text/html": [
       "<div>\n",
       "<style scoped>\n",
       "    .dataframe tbody tr th:only-of-type {\n",
       "        vertical-align: middle;\n",
       "    }\n",
       "\n",
       "    .dataframe tbody tr th {\n",
       "        vertical-align: top;\n",
       "    }\n",
       "\n",
       "    .dataframe thead th {\n",
       "        text-align: right;\n",
       "    }\n",
       "</style>\n",
       "<table border=\"1\" class=\"dataframe\">\n",
       "  <thead>\n",
       "    <tr style=\"text-align: right;\">\n",
       "      <th></th>\n",
       "      <th>Number of unique values</th>\n",
       "    </tr>\n",
       "  </thead>\n",
       "  <tbody>\n",
       "    <tr>\n",
       "      <th>Country Code</th>\n",
       "      <td>15</td>\n",
       "    </tr>\n",
       "    <tr>\n",
       "      <th>Country</th>\n",
       "      <td>15</td>\n",
       "    </tr>\n",
       "    <tr>\n",
       "      <th>Restaurant ID</th>\n",
       "      <td>9551</td>\n",
       "    </tr>\n",
       "    <tr>\n",
       "      <th>Restaurant Name</th>\n",
       "      <td>7446</td>\n",
       "    </tr>\n",
       "    <tr>\n",
       "      <th>City</th>\n",
       "      <td>141</td>\n",
       "    </tr>\n",
       "    <tr>\n",
       "      <th>Address</th>\n",
       "      <td>8918</td>\n",
       "    </tr>\n",
       "    <tr>\n",
       "      <th>Locality</th>\n",
       "      <td>1208</td>\n",
       "    </tr>\n",
       "    <tr>\n",
       "      <th>Locality Verbose</th>\n",
       "      <td>1265</td>\n",
       "    </tr>\n",
       "    <tr>\n",
       "      <th>Longitude</th>\n",
       "      <td>8120</td>\n",
       "    </tr>\n",
       "    <tr>\n",
       "      <th>Latitude</th>\n",
       "      <td>8677</td>\n",
       "    </tr>\n",
       "    <tr>\n",
       "      <th>Cuisines</th>\n",
       "      <td>1825</td>\n",
       "    </tr>\n",
       "    <tr>\n",
       "      <th>Average Cost for two</th>\n",
       "      <td>140</td>\n",
       "    </tr>\n",
       "    <tr>\n",
       "      <th>Currency</th>\n",
       "      <td>12</td>\n",
       "    </tr>\n",
       "    <tr>\n",
       "      <th>Has Table booking</th>\n",
       "      <td>2</td>\n",
       "    </tr>\n",
       "    <tr>\n",
       "      <th>Has Online delivery</th>\n",
       "      <td>2</td>\n",
       "    </tr>\n",
       "    <tr>\n",
       "      <th>Is delivering now</th>\n",
       "      <td>2</td>\n",
       "    </tr>\n",
       "    <tr>\n",
       "      <th>Switch to order menu</th>\n",
       "      <td>1</td>\n",
       "    </tr>\n",
       "    <tr>\n",
       "      <th>Price range</th>\n",
       "      <td>4</td>\n",
       "    </tr>\n",
       "    <tr>\n",
       "      <th>Aggregate rating</th>\n",
       "      <td>33</td>\n",
       "    </tr>\n",
       "    <tr>\n",
       "      <th>Rating color</th>\n",
       "      <td>6</td>\n",
       "    </tr>\n",
       "    <tr>\n",
       "      <th>Rating text</th>\n",
       "      <td>6</td>\n",
       "    </tr>\n",
       "    <tr>\n",
       "      <th>Votes</th>\n",
       "      <td>1012</td>\n",
       "    </tr>\n",
       "  </tbody>\n",
       "</table>\n",
       "</div>"
      ],
      "text/plain": [
       "                      Number of unique values\n",
       "Country Code                               15\n",
       "Country                                    15\n",
       "Restaurant ID                            9551\n",
       "Restaurant Name                          7446\n",
       "City                                      141\n",
       "Address                                  8918\n",
       "Locality                                 1208\n",
       "Locality Verbose                         1265\n",
       "Longitude                                8120\n",
       "Latitude                                 8677\n",
       "Cuisines                                 1825\n",
       "Average Cost for two                      140\n",
       "Currency                                   12\n",
       "Has Table booking                           2\n",
       "Has Online delivery                         2\n",
       "Is delivering now                           2\n",
       "Switch to order menu                        1\n",
       "Price range                                 4\n",
       "Aggregate rating                           33\n",
       "Rating color                                6\n",
       "Rating text                                 6\n",
       "Votes                                    1012"
      ]
     },
     "execution_count": 18,
     "metadata": {},
     "output_type": "execute_result"
    }
   ],
   "source": [
    "df.nunique().to_frame(\"Number of unique values\")"
   ]
  },
  {
   "cell_type": "markdown",
   "id": "e724ea11",
   "metadata": {},
   "source": [
    "#now drpping the Restaurant ID as it has all unique values that cannot be analysed and not useful"
   ]
  },
  {
   "cell_type": "code",
   "execution_count": 19,
   "id": "bad292f2",
   "metadata": {},
   "outputs": [],
   "source": [
    "df.drop(\"Restaurant ID\",axis=1,inplace=True)"
   ]
  },
  {
   "cell_type": "markdown",
   "id": "33e9093d",
   "metadata": {},
   "source": [
    "#Dropping country code as we have already merged the dataset with the country code dataset, the country code column may not be necessary anymore."
   ]
  },
  {
   "cell_type": "code",
   "execution_count": 20,
   "id": "1cc10809",
   "metadata": {},
   "outputs": [],
   "source": [
    "df.drop(\"Country Code\",axis=1,inplace=True)"
   ]
  },
  {
   "cell_type": "markdown",
   "id": "84987740",
   "metadata": {},
   "source": [
    "#Dropping address as it has almost all the unique values and is not useful in prediction"
   ]
  },
  {
   "cell_type": "code",
   "execution_count": 21,
   "id": "70618f2d",
   "metadata": {},
   "outputs": [],
   "source": [
    "df.drop(\"Address\",axis=1,inplace=True)"
   ]
  },
  {
   "cell_type": "markdown",
   "id": "de2fadc4",
   "metadata": {},
   "source": [
    "#Dropping locality verbose as This column provides a detailed description of the locality, which may not be needed if you have already included the \"Locality\" column."
   ]
  },
  {
   "cell_type": "code",
   "execution_count": 22,
   "id": "4573f954",
   "metadata": {},
   "outputs": [],
   "source": [
    "df.drop(\"Locality Verbose\",axis=1,inplace=True)"
   ]
  },
  {
   "cell_type": "markdown",
   "id": "238e3d0a",
   "metadata": {},
   "source": [
    "#Dropping latitude and longitude as you are not performing geospatial analysis, these columns may not be required."
   ]
  },
  {
   "cell_type": "code",
   "execution_count": 23,
   "id": "79881840",
   "metadata": {},
   "outputs": [],
   "source": [
    "df.drop(\"Longitude\",axis=1,inplace=True)\n",
    "df.drop(\"Latitude\",axis=1,inplace=True)"
   ]
  },
  {
   "cell_type": "markdown",
   "id": "b3e2fe06",
   "metadata": {},
   "source": [
    "#Dropping Switch to order menu as this column indicates whether the restaurant has an option to switch to an online menu,this information is not relevant for your analysis or prediction tasks"
   ]
  },
  {
   "cell_type": "code",
   "execution_count": 24,
   "id": "4faf1dff",
   "metadata": {},
   "outputs": [],
   "source": [
    "df.drop(\"Switch to order menu\",axis=1,inplace=True)"
   ]
  },
  {
   "cell_type": "markdown",
   "id": "dd397356",
   "metadata": {},
   "source": [
    "#Dropping Rating color and Rating text as hese columns provide additional information about the restaurant's rating but may not be necessary for the predicting average cost and price range"
   ]
  },
  {
   "cell_type": "code",
   "execution_count": 25,
   "id": "3004444e",
   "metadata": {},
   "outputs": [],
   "source": [
    "df.drop(\"Rating color\",axis=1,inplace=True)\n",
    "df.drop(\"Rating text\",axis=1,inplace=True)"
   ]
  },
  {
   "cell_type": "markdown",
   "id": "14cd2829",
   "metadata": {},
   "source": [
    "#Dropping Vote as the number of ratings casted by people may not be needed for the prediction tasks"
   ]
  },
  {
   "cell_type": "code",
   "execution_count": 26,
   "id": "b6a4b5e0",
   "metadata": {},
   "outputs": [],
   "source": [
    "df.drop(\"Votes\",axis=1,inplace=True)"
   ]
  },
  {
   "cell_type": "code",
   "execution_count": 27,
   "id": "3355ccc4",
   "metadata": {},
   "outputs": [
    {
     "data": {
      "text/html": [
       "<div>\n",
       "<style scoped>\n",
       "    .dataframe tbody tr th:only-of-type {\n",
       "        vertical-align: middle;\n",
       "    }\n",
       "\n",
       "    .dataframe tbody tr th {\n",
       "        vertical-align: top;\n",
       "    }\n",
       "\n",
       "    .dataframe thead th {\n",
       "        text-align: right;\n",
       "    }\n",
       "</style>\n",
       "<table border=\"1\" class=\"dataframe\">\n",
       "  <thead>\n",
       "    <tr style=\"text-align: right;\">\n",
       "      <th></th>\n",
       "      <th>Country</th>\n",
       "      <th>Restaurant Name</th>\n",
       "      <th>City</th>\n",
       "      <th>Locality</th>\n",
       "      <th>Cuisines</th>\n",
       "      <th>Average Cost for two</th>\n",
       "      <th>Currency</th>\n",
       "      <th>Has Table booking</th>\n",
       "      <th>Has Online delivery</th>\n",
       "      <th>Is delivering now</th>\n",
       "      <th>Price range</th>\n",
       "      <th>Aggregate rating</th>\n",
       "    </tr>\n",
       "  </thead>\n",
       "  <tbody>\n",
       "    <tr>\n",
       "      <th>0</th>\n",
       "      <td>India</td>\n",
       "      <td>Jahanpanah</td>\n",
       "      <td>Agra</td>\n",
       "      <td>Agra Cantt</td>\n",
       "      <td>North Indian, Mughlai</td>\n",
       "      <td>850</td>\n",
       "      <td>Indian Rupees(Rs.)</td>\n",
       "      <td>No</td>\n",
       "      <td>No</td>\n",
       "      <td>No</td>\n",
       "      <td>3</td>\n",
       "      <td>3.9</td>\n",
       "    </tr>\n",
       "    <tr>\n",
       "      <th>1</th>\n",
       "      <td>India</td>\n",
       "      <td>Rangrezz Restaurant</td>\n",
       "      <td>Agra</td>\n",
       "      <td>Agra Cantt</td>\n",
       "      <td>North Indian, Mughlai</td>\n",
       "      <td>700</td>\n",
       "      <td>Indian Rupees(Rs.)</td>\n",
       "      <td>No</td>\n",
       "      <td>No</td>\n",
       "      <td>No</td>\n",
       "      <td>2</td>\n",
       "      <td>3.5</td>\n",
       "    </tr>\n",
       "    <tr>\n",
       "      <th>2</th>\n",
       "      <td>India</td>\n",
       "      <td>Time2Eat - Mama Chicken</td>\n",
       "      <td>Agra</td>\n",
       "      <td>Agra Cantt</td>\n",
       "      <td>North Indian</td>\n",
       "      <td>500</td>\n",
       "      <td>Indian Rupees(Rs.)</td>\n",
       "      <td>No</td>\n",
       "      <td>No</td>\n",
       "      <td>No</td>\n",
       "      <td>2</td>\n",
       "      <td>3.6</td>\n",
       "    </tr>\n",
       "    <tr>\n",
       "      <th>3</th>\n",
       "      <td>India</td>\n",
       "      <td>Chokho Jeeman Marwari Jain Bhojanalya</td>\n",
       "      <td>Agra</td>\n",
       "      <td>Civil Lines</td>\n",
       "      <td>Rajasthani</td>\n",
       "      <td>400</td>\n",
       "      <td>Indian Rupees(Rs.)</td>\n",
       "      <td>No</td>\n",
       "      <td>No</td>\n",
       "      <td>No</td>\n",
       "      <td>2</td>\n",
       "      <td>4.0</td>\n",
       "    </tr>\n",
       "    <tr>\n",
       "      <th>4</th>\n",
       "      <td>India</td>\n",
       "      <td>Pinch Of Spice</td>\n",
       "      <td>Agra</td>\n",
       "      <td>Civil Lines</td>\n",
       "      <td>North Indian, Chinese, Mughlai</td>\n",
       "      <td>1000</td>\n",
       "      <td>Indian Rupees(Rs.)</td>\n",
       "      <td>No</td>\n",
       "      <td>No</td>\n",
       "      <td>No</td>\n",
       "      <td>3</td>\n",
       "      <td>4.2</td>\n",
       "    </tr>\n",
       "    <tr>\n",
       "      <th>...</th>\n",
       "      <td>...</td>\n",
       "      <td>...</td>\n",
       "      <td>...</td>\n",
       "      <td>...</td>\n",
       "      <td>...</td>\n",
       "      <td>...</td>\n",
       "      <td>...</td>\n",
       "      <td>...</td>\n",
       "      <td>...</td>\n",
       "      <td>...</td>\n",
       "      <td>...</td>\n",
       "      <td>...</td>\n",
       "    </tr>\n",
       "    <tr>\n",
       "      <th>9546</th>\n",
       "      <td>United States</td>\n",
       "      <td>The Screaming Eagle</td>\n",
       "      <td>Waterloo</td>\n",
       "      <td>Waterloo</td>\n",
       "      <td>American, Bar Food</td>\n",
       "      <td>10</td>\n",
       "      <td>Dollar($)</td>\n",
       "      <td>No</td>\n",
       "      <td>No</td>\n",
       "      <td>No</td>\n",
       "      <td>1</td>\n",
       "      <td>3.7</td>\n",
       "    </tr>\n",
       "    <tr>\n",
       "      <th>9547</th>\n",
       "      <td>United States</td>\n",
       "      <td>The Thai Bowl</td>\n",
       "      <td>Waterloo</td>\n",
       "      <td>Waterloo</td>\n",
       "      <td>Thai</td>\n",
       "      <td>10</td>\n",
       "      <td>Dollar($)</td>\n",
       "      <td>No</td>\n",
       "      <td>No</td>\n",
       "      <td>No</td>\n",
       "      <td>1</td>\n",
       "      <td>3.5</td>\n",
       "    </tr>\n",
       "    <tr>\n",
       "      <th>9548</th>\n",
       "      <td>United States</td>\n",
       "      <td>Tokyo Japanese Steak House</td>\n",
       "      <td>Waterloo</td>\n",
       "      <td>Waterloo</td>\n",
       "      <td>Japanese, Steak, Sushi</td>\n",
       "      <td>25</td>\n",
       "      <td>Dollar($)</td>\n",
       "      <td>No</td>\n",
       "      <td>No</td>\n",
       "      <td>No</td>\n",
       "      <td>2</td>\n",
       "      <td>3.9</td>\n",
       "    </tr>\n",
       "    <tr>\n",
       "      <th>9549</th>\n",
       "      <td>United States</td>\n",
       "      <td>Theo Yianni's Authentic Greek Restaurant</td>\n",
       "      <td>Weirton</td>\n",
       "      <td>Weirton</td>\n",
       "      <td>Burger, Greek, Sandwich</td>\n",
       "      <td>25</td>\n",
       "      <td>Dollar($)</td>\n",
       "      <td>No</td>\n",
       "      <td>No</td>\n",
       "      <td>No</td>\n",
       "      <td>2</td>\n",
       "      <td>3.9</td>\n",
       "    </tr>\n",
       "    <tr>\n",
       "      <th>9550</th>\n",
       "      <td>United States</td>\n",
       "      <td>Fishpatrick's Crabby Cafe</td>\n",
       "      <td>Winchester Bay</td>\n",
       "      <td>Winchester Bay</td>\n",
       "      <td>Burger, Seafood, Steak</td>\n",
       "      <td>25</td>\n",
       "      <td>Dollar($)</td>\n",
       "      <td>No</td>\n",
       "      <td>No</td>\n",
       "      <td>No</td>\n",
       "      <td>2</td>\n",
       "      <td>3.2</td>\n",
       "    </tr>\n",
       "  </tbody>\n",
       "</table>\n",
       "<p>9551 rows × 12 columns</p>\n",
       "</div>"
      ],
      "text/plain": [
       "            Country                           Restaurant Name            City  \\\n",
       "0             India                                Jahanpanah            Agra   \n",
       "1             India                       Rangrezz Restaurant            Agra   \n",
       "2             India                   Time2Eat - Mama Chicken            Agra   \n",
       "3             India     Chokho Jeeman Marwari Jain Bhojanalya            Agra   \n",
       "4             India                            Pinch Of Spice            Agra   \n",
       "...             ...                                       ...             ...   \n",
       "9546  United States                       The Screaming Eagle        Waterloo   \n",
       "9547  United States                             The Thai Bowl        Waterloo   \n",
       "9548  United States                Tokyo Japanese Steak House        Waterloo   \n",
       "9549  United States  Theo Yianni's Authentic Greek Restaurant         Weirton   \n",
       "9550  United States                 Fishpatrick's Crabby Cafe  Winchester Bay   \n",
       "\n",
       "            Locality                        Cuisines  Average Cost for two  \\\n",
       "0         Agra Cantt           North Indian, Mughlai                   850   \n",
       "1         Agra Cantt           North Indian, Mughlai                   700   \n",
       "2         Agra Cantt                    North Indian                   500   \n",
       "3        Civil Lines                      Rajasthani                   400   \n",
       "4        Civil Lines  North Indian, Chinese, Mughlai                  1000   \n",
       "...              ...                             ...                   ...   \n",
       "9546        Waterloo              American, Bar Food                    10   \n",
       "9547        Waterloo                            Thai                    10   \n",
       "9548        Waterloo          Japanese, Steak, Sushi                    25   \n",
       "9549         Weirton         Burger, Greek, Sandwich                    25   \n",
       "9550  Winchester Bay          Burger, Seafood, Steak                    25   \n",
       "\n",
       "                Currency Has Table booking Has Online delivery  \\\n",
       "0     Indian Rupees(Rs.)                No                  No   \n",
       "1     Indian Rupees(Rs.)                No                  No   \n",
       "2     Indian Rupees(Rs.)                No                  No   \n",
       "3     Indian Rupees(Rs.)                No                  No   \n",
       "4     Indian Rupees(Rs.)                No                  No   \n",
       "...                  ...               ...                 ...   \n",
       "9546           Dollar($)                No                  No   \n",
       "9547           Dollar($)                No                  No   \n",
       "9548           Dollar($)                No                  No   \n",
       "9549           Dollar($)                No                  No   \n",
       "9550           Dollar($)                No                  No   \n",
       "\n",
       "     Is delivering now  Price range  Aggregate rating  \n",
       "0                   No            3               3.9  \n",
       "1                   No            2               3.5  \n",
       "2                   No            2               3.6  \n",
       "3                   No            2               4.0  \n",
       "4                   No            3               4.2  \n",
       "...                ...          ...               ...  \n",
       "9546                No            1               3.7  \n",
       "9547                No            1               3.5  \n",
       "9548                No            2               3.9  \n",
       "9549                No            2               3.9  \n",
       "9550                No            2               3.2  \n",
       "\n",
       "[9551 rows x 12 columns]"
      ]
     },
     "execution_count": 27,
     "metadata": {},
     "output_type": "execute_result"
    }
   ],
   "source": [
    "df"
   ]
  },
  {
   "cell_type": "code",
   "execution_count": 28,
   "id": "a0f62ca9",
   "metadata": {},
   "outputs": [
    {
     "data": {
      "text/html": [
       "<div>\n",
       "<style scoped>\n",
       "    .dataframe tbody tr th:only-of-type {\n",
       "        vertical-align: middle;\n",
       "    }\n",
       "\n",
       "    .dataframe tbody tr th {\n",
       "        vertical-align: top;\n",
       "    }\n",
       "\n",
       "    .dataframe thead th {\n",
       "        text-align: right;\n",
       "    }\n",
       "</style>\n",
       "<table border=\"1\" class=\"dataframe\">\n",
       "  <thead>\n",
       "    <tr style=\"text-align: right;\">\n",
       "      <th></th>\n",
       "      <th>Average Cost for two</th>\n",
       "      <th>Price range</th>\n",
       "      <th>Aggregate rating</th>\n",
       "    </tr>\n",
       "  </thead>\n",
       "  <tbody>\n",
       "    <tr>\n",
       "      <th>count</th>\n",
       "      <td>9551.000000</td>\n",
       "      <td>9551.000000</td>\n",
       "      <td>9551.000000</td>\n",
       "    </tr>\n",
       "    <tr>\n",
       "      <th>mean</th>\n",
       "      <td>1199.210763</td>\n",
       "      <td>1.804837</td>\n",
       "      <td>2.666370</td>\n",
       "    </tr>\n",
       "    <tr>\n",
       "      <th>std</th>\n",
       "      <td>16121.183073</td>\n",
       "      <td>0.905609</td>\n",
       "      <td>1.516378</td>\n",
       "    </tr>\n",
       "    <tr>\n",
       "      <th>min</th>\n",
       "      <td>0.000000</td>\n",
       "      <td>1.000000</td>\n",
       "      <td>0.000000</td>\n",
       "    </tr>\n",
       "    <tr>\n",
       "      <th>25%</th>\n",
       "      <td>250.000000</td>\n",
       "      <td>1.000000</td>\n",
       "      <td>2.500000</td>\n",
       "    </tr>\n",
       "    <tr>\n",
       "      <th>50%</th>\n",
       "      <td>400.000000</td>\n",
       "      <td>2.000000</td>\n",
       "      <td>3.200000</td>\n",
       "    </tr>\n",
       "    <tr>\n",
       "      <th>75%</th>\n",
       "      <td>700.000000</td>\n",
       "      <td>2.000000</td>\n",
       "      <td>3.700000</td>\n",
       "    </tr>\n",
       "    <tr>\n",
       "      <th>max</th>\n",
       "      <td>800000.000000</td>\n",
       "      <td>4.000000</td>\n",
       "      <td>4.900000</td>\n",
       "    </tr>\n",
       "  </tbody>\n",
       "</table>\n",
       "</div>"
      ],
      "text/plain": [
       "       Average Cost for two  Price range  Aggregate rating\n",
       "count           9551.000000  9551.000000       9551.000000\n",
       "mean            1199.210763     1.804837          2.666370\n",
       "std            16121.183073     0.905609          1.516378\n",
       "min                0.000000     1.000000          0.000000\n",
       "25%              250.000000     1.000000          2.500000\n",
       "50%              400.000000     2.000000          3.200000\n",
       "75%              700.000000     2.000000          3.700000\n",
       "max           800000.000000     4.000000          4.900000"
      ]
     },
     "execution_count": 28,
     "metadata": {},
     "output_type": "execute_result"
    }
   ],
   "source": [
    "#statistical summary of numerical values\n",
    "\n",
    "df.describe()"
   ]
  },
  {
   "cell_type": "code",
   "execution_count": 29,
   "id": "74d929f3",
   "metadata": {},
   "outputs": [
    {
     "data": {
      "image/png": "[encoded data removed]",
      "text/plain": [
       "<Figure size 1584x720 with 2 Axes>"
      ]
     },
     "metadata": {
      "needs_background": "light"
     },
     "output_type": "display_data"
    }
   ],
   "source": [
    "plt.figure(figsize=(22,10))\n",
    "sns.heatmap(df.describe(),annot=True,fmt='0.2f',linewidth=1,linecolor='black',cmap='Spectral')\n",
    "plt.xlabel('Figure',fontsize=14)\n",
    "plt.ylabel(\"Features_name\",fontsize=14)\n",
    "plt.title(\"Descriptive Graph\",fontsize=20)\n",
    "plt.show()"
   ]
  },
  {
   "cell_type": "code",
   "execution_count": 30,
   "id": "604f0292",
   "metadata": {},
   "outputs": [
    {
     "name": "stdout",
     "output_type": "stream",
     "text": [
      "Categorical columns are: ['Country', 'Restaurant Name', 'City', 'Locality', 'Cuisines', 'Currency', 'Has Table booking', 'Has Online delivery', 'Is delivering now']\n",
      "\n",
      "\n",
      "Numerical columns are: ['Average Cost for two', 'Price range', 'Aggregate rating']\n",
      "\n",
      "\n"
     ]
    }
   ],
   "source": [
    "#Seperating Numerical and categorical columns\n",
    "\n",
    "categorical_col=[]\n",
    "for i in df.columns:\n",
    "    if df.dtypes[i]=='object':\n",
    "        categorical_col.append(i)\n",
    "print(\"Categorical columns are:\", categorical_col)\n",
    "print('\\n')\n",
    "\n",
    "numerical_col=[]\n",
    "for i in df.columns:\n",
    "    if df.dtypes[i]!='object':\n",
    "        numerical_col.append(i)\n",
    "print(\"Numerical columns are:\", numerical_col)\n",
    "print(\"\\n\")"
   ]
  },
  {
   "cell_type": "markdown",
   "id": "4f51e0b1",
   "metadata": {},
   "source": [
    "#### Univariate analysis"
   ]
  },
  {
   "cell_type": "code",
   "execution_count": 31,
   "id": "7061a40e",
   "metadata": {},
   "outputs": [
    {
     "name": "stdout",
     "output_type": "stream",
     "text": [
      "1    4444\n",
      "2    3113\n",
      "3    1408\n",
      "4     586\n",
      "Name: Price range, dtype: int64\n"
     ]
    },
    {
     "data": {
      "image/png": "[encoded data removed]",
      "text/plain": [
       "<Figure size 432x288 with 1 Axes>"
      ]
     },
     "metadata": {
      "needs_background": "light"
     },
     "output_type": "display_data"
    }
   ],
   "source": [
    "datamap=sns.countplot(df[\"Price range\"],data=df)\n",
    "print(df[\"Price range\"].value_counts())"
   ]
  },
  {
   "cell_type": "code",
   "execution_count": 32,
   "id": "b8e01290",
   "metadata": {},
   "outputs": [],
   "source": [
    "#Here we can see that maximum restaurents are in price range 1"
   ]
  },
  {
   "cell_type": "code",
   "execution_count": 33,
   "id": "88e840e8",
   "metadata": {},
   "outputs": [
    {
     "name": "stdout",
     "output_type": "stream",
     "text": [
      "No     9517\n",
      "Yes      34\n",
      "Name: Is delivering now, dtype: int64\n"
     ]
    },
    {
     "data": {
      "image/png": "[encoded data removed]",
      "text/plain": [
       "<Figure size 432x288 with 1 Axes>"
      ]
     },
     "metadata": {
      "needs_background": "light"
     },
     "output_type": "display_data"
    }
   ],
   "source": [
    "datamap=sns.countplot(df[\"Is delivering now\"],data=df)\n",
    "print(df[\"Is delivering now\"].value_counts())"
   ]
  },
  {
   "cell_type": "code",
   "execution_count": 34,
   "id": "7cf60dd4",
   "metadata": {},
   "outputs": [],
   "source": [
    "#Almost 99.7% restaurants are not delivering now"
   ]
  },
  {
   "cell_type": "code",
   "execution_count": 35,
   "id": "3180386d",
   "metadata": {},
   "outputs": [
    {
     "name": "stdout",
     "output_type": "stream",
     "text": [
      "No     7100\n",
      "Yes    2451\n",
      "Name: Has Online delivery, dtype: int64\n"
     ]
    },
    {
     "data": {
      "image/png": "[encoded data removed]",
      "text/plain": [
       "<Figure size 432x288 with 1 Axes>"
      ]
     },
     "metadata": {
      "needs_background": "light"
     },
     "output_type": "display_data"
    }
   ],
   "source": [
    "datamap=sns.countplot(df[\"Has Online delivery\"],data=df)\n",
    "print(df[\"Has Online delivery\"].value_counts())"
   ]
  },
  {
   "cell_type": "code",
   "execution_count": 36,
   "id": "cb9b80e3",
   "metadata": {},
   "outputs": [],
   "source": [
    "#Only 25% restaurants have online delivery option"
   ]
  },
  {
   "cell_type": "code",
   "execution_count": 37,
   "id": "ca514540",
   "metadata": {},
   "outputs": [
    {
     "name": "stdout",
     "output_type": "stream",
     "text": [
      "No     8393\n",
      "Yes    1158\n",
      "Name: Has Table booking, dtype: int64\n"
     ]
    },
    {
     "data": {
      "image/png": "[encoded data removed]",
      "text/plain": [
       "<Figure size 432x288 with 1 Axes>"
      ]
     },
     "metadata": {
      "needs_background": "light"
     },
     "output_type": "display_data"
    }
   ],
   "source": [
    "datamap=sns.countplot(df[\"Has Table booking\"],data=df)\n",
    "print(df[\"Has Table booking\"].value_counts())"
   ]
  },
  {
   "cell_type": "code",
   "execution_count": 38,
   "id": "7f5d823a",
   "metadata": {},
   "outputs": [],
   "source": [
    "#Only 12% restaurants have the facility of table booking"
   ]
  },
  {
   "cell_type": "code",
   "execution_count": 39,
   "id": "95916dc1",
   "metadata": {},
   "outputs": [
    {
     "name": "stdout",
     "output_type": "stream",
     "text": [
      "India             8652\n",
      "United States      434\n",
      "United Kingdom      80\n",
      "Brazil              60\n",
      "South Africa        60\n",
      "UAE                 60\n",
      "New Zealand         40\n",
      "Turkey              34\n",
      "Australia           24\n",
      "Phillipines         22\n",
      "Indonesia           21\n",
      "Qatar               20\n",
      "Singapore           20\n",
      "Sri Lanka           20\n",
      "Canada               4\n",
      "Name: Country, dtype: int64\n"
     ]
    },
    {
     "data": {
      "image/png": "[encoded data removed]",
      "text/plain": [
       "<Figure size 432x288 with 1 Axes>"
      ]
     },
     "metadata": {
      "needs_background": "light"
     },
     "output_type": "display_data"
    }
   ],
   "source": [
    "datamap=sns.countplot(df[\"Country\"],data=df)\n",
    "print(df[\"Country\"].value_counts())"
   ]
  },
  {
   "cell_type": "code",
   "execution_count": 40,
   "id": "2980b3f2",
   "metadata": {},
   "outputs": [],
   "source": [
    "#Maximum of these restaurants are from India"
   ]
  },
  {
   "cell_type": "code",
   "execution_count": 41,
   "id": "147818d3",
   "metadata": {},
   "outputs": [
    {
     "data": {
      "image/png": "[encoded data removed]",
      "text/plain": [
       "<Figure size 720x1152 with 3 Axes>"
      ]
     },
     "metadata": {},
     "output_type": "display_data"
    }
   ],
   "source": [
    "plt.figure(figsize=(10,16), facecolor='white')\n",
    "plotnumber=1\n",
    "for col in numerical_col:\n",
    "    if plotnumber<=8:\n",
    "        ax=plt.subplot(4,2,plotnumber)   \n",
    "        sns.distplot(df[col],color='m')\n",
    "        plt.xlabel(col,fontsize=12)\n",
    "        plt.yticks(rotation=0,fontsize=10)\n",
    "    plotnumber+=1\n",
    "plt.tight_layout()"
   ]
  },
  {
   "cell_type": "code",
   "execution_count": 42,
   "id": "2e57bbca",
   "metadata": {},
   "outputs": [
    {
     "data": {
      "text/plain": [
       "<seaborn.axisgrid.FacetGrid at 0x1df69ffc460>"
      ]
     },
     "execution_count": 42,
     "metadata": {},
     "output_type": "execute_result"
    },
    {
     "data": {
      "image/png": "[encoded data removed]",
      "text/plain": [
       "<Figure size 360x360 with 1 Axes>"
      ]
     },
     "metadata": {
      "needs_background": "light"
     },
     "output_type": "display_data"
    }
   ],
   "source": [
    "sns.lmplot(x='Average Cost for two',y='Price range',data=df)"
   ]
  },
  {
   "cell_type": "code",
   "execution_count": 43,
   "id": "ee28162e",
   "metadata": {},
   "outputs": [],
   "source": [
    "#Average cost for two and price range of the restaturant are positively correlated"
   ]
  },
  {
   "cell_type": "code",
   "execution_count": 44,
   "id": "0f2d864e",
   "metadata": {},
   "outputs": [
    {
     "data": {
      "text/plain": [
       "<seaborn.axisgrid.FacetGrid at 0x1df69ffcfa0>"
      ]
     },
     "execution_count": 44,
     "metadata": {},
     "output_type": "execute_result"
    },
    {
     "data": {
      "image/png": "[encoded data removed]",
      "text/plain": [
       "<Figure size 1440x360 with 4 Axes>"
      ]
     },
     "metadata": {
      "needs_background": "light"
     },
     "output_type": "display_data"
    }
   ],
   "source": [
    "sns.catplot(x='Has Online delivery',col='Price range',data=df,kind='count',palette='spring_r')"
   ]
  },
  {
   "cell_type": "code",
   "execution_count": 45,
   "id": "9706c436",
   "metadata": {},
   "outputs": [
    {
     "data": {
      "image/png": "[encoded data removed]",
      "text/plain": [
       "<Figure size 1080x360 with 3 Axes>"
      ]
     },
     "metadata": {
      "needs_background": "light"
     },
     "output_type": "display_data"
    }
   ],
   "source": [
    "plt.figure(figsize=(15,5))\n",
    "p=1\n",
    "for i in numerical_col:\n",
    "    if p<=3:    \n",
    "        plt.subplot(1,3,p) \n",
    "        sns.regplot(x='Price range',y=i,data=df,color='r')\n",
    "        plt.xlabel(\"Price range\")\n",
    "        plt.ylabel(i)\n",
    "    p+=1\n",
    "plt.show()"
   ]
  },
  {
   "cell_type": "code",
   "execution_count": 46,
   "id": "d6ee9add",
   "metadata": {},
   "outputs": [
    {
     "data": {
      "image/png": "[encoded data removed]",
      "text/plain": [
       "<Figure size 1080x360 with 3 Axes>"
      ]
     },
     "metadata": {
      "needs_background": "light"
     },
     "output_type": "display_data"
    }
   ],
   "source": [
    "plt.figure(figsize=(15,5))\n",
    "p=1\n",
    "for i in numerical_col:\n",
    "    if p<=3:    \n",
    "        plt.subplot(1,3,p) \n",
    "        sns.regplot(x='Average Cost for two',y=i,data=df,color='r')\n",
    "        plt.xlabel(\"Average Cost for two\")\n",
    "        plt.ylabel(i)\n",
    "    p+=1\n",
    "plt.show()"
   ]
  },
  {
   "cell_type": "markdown",
   "id": "463f8e06",
   "metadata": {},
   "source": [
    "#### Multivariate Analysis"
   ]
  },
  {
   "cell_type": "code",
   "execution_count": 47,
   "id": "5b935011",
   "metadata": {},
   "outputs": [
    {
     "data": {
      "text/plain": [
       "<seaborn.axisgrid.PairGrid at 0x1df6a6f5340>"
      ]
     },
     "execution_count": 47,
     "metadata": {},
     "output_type": "execute_result"
    },
    {
     "data": {
      "image/png": "[encoded data removed]",
      "text/plain": [
       "<Figure size 540x540 with 12 Axes>"
      ]
     },
     "metadata": {
      "needs_background": "light"
     },
     "output_type": "display_data"
    }
   ],
   "source": [
    "sns.pairplot(data=df,palette='Dark2')"
   ]
  },
  {
   "cell_type": "markdown",
   "id": "4ecad6d0",
   "metadata": {},
   "source": [
    "#### Checking for outliers"
   ]
  },
  {
   "cell_type": "code",
   "execution_count": 48,
   "id": "651ec7d2",
   "metadata": {},
   "outputs": [
    {
     "data": {
      "image/png": "[encoded data removed]",
      "text/plain": [
       "<Figure size 720x432 with 3 Axes>"
      ]
     },
     "metadata": {},
     "output_type": "display_data"
    }
   ],
   "source": [
    "#By plotting boxplot\n",
    "\n",
    "plt.figure(figsize=(10,6),facecolor='white')\n",
    "plotnumber=1\n",
    "for col in numerical_col:\n",
    "    if plotnumber<=3:\n",
    "        ax=plt.subplot(2,2,plotnumber)\n",
    "        sns.boxplot(df[col],palette='bright')\n",
    "        plt.xlabel(col,fontsize=12)\n",
    "        plt.yticks(rotation=0,fontsize=15)\n",
    "    plotnumber+=1\n",
    "plt.tight_layout()"
   ]
  },
  {
   "cell_type": "markdown",
   "id": "8b753d73",
   "metadata": {},
   "source": [
    "#We can see outliers in all three numerical columns. Will not remove outliers from Price Rnage(Categorical column)"
   ]
  },
  {
   "cell_type": "code",
   "execution_count": 49,
   "id": "0c1643e7",
   "metadata": {},
   "outputs": [
    {
     "data": {
      "text/html": [
       "<div>\n",
       "<style scoped>\n",
       "    .dataframe tbody tr th:only-of-type {\n",
       "        vertical-align: middle;\n",
       "    }\n",
       "\n",
       "    .dataframe tbody tr th {\n",
       "        vertical-align: top;\n",
       "    }\n",
       "\n",
       "    .dataframe thead th {\n",
       "        text-align: right;\n",
       "    }\n",
       "</style>\n",
       "<table border=\"1\" class=\"dataframe\">\n",
       "  <thead>\n",
       "    <tr style=\"text-align: right;\">\n",
       "      <th></th>\n",
       "      <th>Average Cost for two</th>\n",
       "      <th>Aggregate rating</th>\n",
       "    </tr>\n",
       "  </thead>\n",
       "  <tbody>\n",
       "    <tr>\n",
       "      <th>0</th>\n",
       "      <td>0.021663</td>\n",
       "      <td>0.813580</td>\n",
       "    </tr>\n",
       "    <tr>\n",
       "      <th>1</th>\n",
       "      <td>0.030968</td>\n",
       "      <td>0.549780</td>\n",
       "    </tr>\n",
       "    <tr>\n",
       "      <th>2</th>\n",
       "      <td>0.043374</td>\n",
       "      <td>0.615730</td>\n",
       "    </tr>\n",
       "    <tr>\n",
       "      <th>3</th>\n",
       "      <td>0.049578</td>\n",
       "      <td>0.879530</td>\n",
       "    </tr>\n",
       "    <tr>\n",
       "      <th>4</th>\n",
       "      <td>0.012358</td>\n",
       "      <td>1.011430</td>\n",
       "    </tr>\n",
       "    <tr>\n",
       "      <th>...</th>\n",
       "      <td>...</td>\n",
       "      <td>...</td>\n",
       "    </tr>\n",
       "    <tr>\n",
       "      <th>9546</th>\n",
       "      <td>0.073771</td>\n",
       "      <td>0.681680</td>\n",
       "    </tr>\n",
       "    <tr>\n",
       "      <th>9547</th>\n",
       "      <td>0.073771</td>\n",
       "      <td>0.549780</td>\n",
       "    </tr>\n",
       "    <tr>\n",
       "      <th>9548</th>\n",
       "      <td>0.072840</td>\n",
       "      <td>0.813580</td>\n",
       "    </tr>\n",
       "    <tr>\n",
       "      <th>9549</th>\n",
       "      <td>0.072840</td>\n",
       "      <td>0.813580</td>\n",
       "    </tr>\n",
       "    <tr>\n",
       "      <th>9550</th>\n",
       "      <td>0.072840</td>\n",
       "      <td>0.351929</td>\n",
       "    </tr>\n",
       "  </tbody>\n",
       "</table>\n",
       "<p>9551 rows × 2 columns</p>\n",
       "</div>"
      ],
      "text/plain": [
       "      Average Cost for two  Aggregate rating\n",
       "0                 0.021663          0.813580\n",
       "1                 0.030968          0.549780\n",
       "2                 0.043374          0.615730\n",
       "3                 0.049578          0.879530\n",
       "4                 0.012358          1.011430\n",
       "...                    ...               ...\n",
       "9546              0.073771          0.681680\n",
       "9547              0.073771          0.549780\n",
       "9548              0.072840          0.813580\n",
       "9549              0.072840          0.813580\n",
       "9550              0.072840          0.351929\n",
       "\n",
       "[9551 rows x 2 columns]"
      ]
     },
     "execution_count": 49,
     "metadata": {},
     "output_type": "execute_result"
    }
   ],
   "source": [
    "#By z score method\n",
    "\n",
    "\n",
    "from scipy.stats import zscore\n",
    "out_features=df[['Average Cost for two','Aggregate rating']]\n",
    "z=np.abs(zscore(out_features))  \n",
    "z"
   ]
  },
  {
   "cell_type": "code",
   "execution_count": 50,
   "id": "cef95223",
   "metadata": {},
   "outputs": [
    {
     "data": {
      "text/plain": [
       "(array([8740, 8741, 8742, 8743, 8744, 8745, 8746, 8747, 8748, 8749, 8750,\n",
       "        8751, 8752, 8753, 8754, 8755, 8756, 8757, 8758, 8759, 8760],\n",
       "       dtype=int64),\n",
       " array([0, 0, 0, 0, 0, 0, 0, 0, 0, 0, 0, 0, 0, 0, 0, 0, 0, 0, 0, 0, 0],\n",
       "       dtype=int64))"
      ]
     },
     "execution_count": 50,
     "metadata": {},
     "output_type": "execute_result"
    }
   ],
   "source": [
    "#threshold=3\n",
    "\n",
    "np.where(z>3)"
   ]
  },
  {
   "cell_type": "code",
   "execution_count": 51,
   "id": "1864f9bf",
   "metadata": {},
   "outputs": [
    {
     "data": {
      "text/html": [
       "<div>\n",
       "<style scoped>\n",
       "    .dataframe tbody tr th:only-of-type {\n",
       "        vertical-align: middle;\n",
       "    }\n",
       "\n",
       "    .dataframe tbody tr th {\n",
       "        vertical-align: top;\n",
       "    }\n",
       "\n",
       "    .dataframe thead th {\n",
       "        text-align: right;\n",
       "    }\n",
       "</style>\n",
       "<table border=\"1\" class=\"dataframe\">\n",
       "  <thead>\n",
       "    <tr style=\"text-align: right;\">\n",
       "      <th></th>\n",
       "      <th>Country</th>\n",
       "      <th>Restaurant Name</th>\n",
       "      <th>City</th>\n",
       "      <th>Locality</th>\n",
       "      <th>Cuisines</th>\n",
       "      <th>Average Cost for two</th>\n",
       "      <th>Currency</th>\n",
       "      <th>Has Table booking</th>\n",
       "      <th>Has Online delivery</th>\n",
       "      <th>Is delivering now</th>\n",
       "      <th>Price range</th>\n",
       "      <th>Aggregate rating</th>\n",
       "    </tr>\n",
       "  </thead>\n",
       "  <tbody>\n",
       "    <tr>\n",
       "      <th>0</th>\n",
       "      <td>India</td>\n",
       "      <td>Jahanpanah</td>\n",
       "      <td>Agra</td>\n",
       "      <td>Agra Cantt</td>\n",
       "      <td>North Indian, Mughlai</td>\n",
       "      <td>850</td>\n",
       "      <td>Indian Rupees(Rs.)</td>\n",
       "      <td>No</td>\n",
       "      <td>No</td>\n",
       "      <td>No</td>\n",
       "      <td>3</td>\n",
       "      <td>3.9</td>\n",
       "    </tr>\n",
       "    <tr>\n",
       "      <th>1</th>\n",
       "      <td>India</td>\n",
       "      <td>Rangrezz Restaurant</td>\n",
       "      <td>Agra</td>\n",
       "      <td>Agra Cantt</td>\n",
       "      <td>North Indian, Mughlai</td>\n",
       "      <td>700</td>\n",
       "      <td>Indian Rupees(Rs.)</td>\n",
       "      <td>No</td>\n",
       "      <td>No</td>\n",
       "      <td>No</td>\n",
       "      <td>2</td>\n",
       "      <td>3.5</td>\n",
       "    </tr>\n",
       "    <tr>\n",
       "      <th>2</th>\n",
       "      <td>India</td>\n",
       "      <td>Time2Eat - Mama Chicken</td>\n",
       "      <td>Agra</td>\n",
       "      <td>Agra Cantt</td>\n",
       "      <td>North Indian</td>\n",
       "      <td>500</td>\n",
       "      <td>Indian Rupees(Rs.)</td>\n",
       "      <td>No</td>\n",
       "      <td>No</td>\n",
       "      <td>No</td>\n",
       "      <td>2</td>\n",
       "      <td>3.6</td>\n",
       "    </tr>\n",
       "    <tr>\n",
       "      <th>3</th>\n",
       "      <td>India</td>\n",
       "      <td>Chokho Jeeman Marwari Jain Bhojanalya</td>\n",
       "      <td>Agra</td>\n",
       "      <td>Civil Lines</td>\n",
       "      <td>Rajasthani</td>\n",
       "      <td>400</td>\n",
       "      <td>Indian Rupees(Rs.)</td>\n",
       "      <td>No</td>\n",
       "      <td>No</td>\n",
       "      <td>No</td>\n",
       "      <td>2</td>\n",
       "      <td>4.0</td>\n",
       "    </tr>\n",
       "    <tr>\n",
       "      <th>4</th>\n",
       "      <td>India</td>\n",
       "      <td>Pinch Of Spice</td>\n",
       "      <td>Agra</td>\n",
       "      <td>Civil Lines</td>\n",
       "      <td>North Indian, Chinese, Mughlai</td>\n",
       "      <td>1000</td>\n",
       "      <td>Indian Rupees(Rs.)</td>\n",
       "      <td>No</td>\n",
       "      <td>No</td>\n",
       "      <td>No</td>\n",
       "      <td>3</td>\n",
       "      <td>4.2</td>\n",
       "    </tr>\n",
       "    <tr>\n",
       "      <th>...</th>\n",
       "      <td>...</td>\n",
       "      <td>...</td>\n",
       "      <td>...</td>\n",
       "      <td>...</td>\n",
       "      <td>...</td>\n",
       "      <td>...</td>\n",
       "      <td>...</td>\n",
       "      <td>...</td>\n",
       "      <td>...</td>\n",
       "      <td>...</td>\n",
       "      <td>...</td>\n",
       "      <td>...</td>\n",
       "    </tr>\n",
       "    <tr>\n",
       "      <th>9546</th>\n",
       "      <td>United States</td>\n",
       "      <td>The Screaming Eagle</td>\n",
       "      <td>Waterloo</td>\n",
       "      <td>Waterloo</td>\n",
       "      <td>American, Bar Food</td>\n",
       "      <td>10</td>\n",
       "      <td>Dollar($)</td>\n",
       "      <td>No</td>\n",
       "      <td>No</td>\n",
       "      <td>No</td>\n",
       "      <td>1</td>\n",
       "      <td>3.7</td>\n",
       "    </tr>\n",
       "    <tr>\n",
       "      <th>9547</th>\n",
       "      <td>United States</td>\n",
       "      <td>The Thai Bowl</td>\n",
       "      <td>Waterloo</td>\n",
       "      <td>Waterloo</td>\n",
       "      <td>Thai</td>\n",
       "      <td>10</td>\n",
       "      <td>Dollar($)</td>\n",
       "      <td>No</td>\n",
       "      <td>No</td>\n",
       "      <td>No</td>\n",
       "      <td>1</td>\n",
       "      <td>3.5</td>\n",
       "    </tr>\n",
       "    <tr>\n",
       "      <th>9548</th>\n",
       "      <td>United States</td>\n",
       "      <td>Tokyo Japanese Steak House</td>\n",
       "      <td>Waterloo</td>\n",
       "      <td>Waterloo</td>\n",
       "      <td>Japanese, Steak, Sushi</td>\n",
       "      <td>25</td>\n",
       "      <td>Dollar($)</td>\n",
       "      <td>No</td>\n",
       "      <td>No</td>\n",
       "      <td>No</td>\n",
       "      <td>2</td>\n",
       "      <td>3.9</td>\n",
       "    </tr>\n",
       "    <tr>\n",
       "      <th>9549</th>\n",
       "      <td>United States</td>\n",
       "      <td>Theo Yianni's Authentic Greek Restaurant</td>\n",
       "      <td>Weirton</td>\n",
       "      <td>Weirton</td>\n",
       "      <td>Burger, Greek, Sandwich</td>\n",
       "      <td>25</td>\n",
       "      <td>Dollar($)</td>\n",
       "      <td>No</td>\n",
       "      <td>No</td>\n",
       "      <td>No</td>\n",
       "      <td>2</td>\n",
       "      <td>3.9</td>\n",
       "    </tr>\n",
       "    <tr>\n",
       "      <th>9550</th>\n",
       "      <td>United States</td>\n",
       "      <td>Fishpatrick's Crabby Cafe</td>\n",
       "      <td>Winchester Bay</td>\n",
       "      <td>Winchester Bay</td>\n",
       "      <td>Burger, Seafood, Steak</td>\n",
       "      <td>25</td>\n",
       "      <td>Dollar($)</td>\n",
       "      <td>No</td>\n",
       "      <td>No</td>\n",
       "      <td>No</td>\n",
       "      <td>2</td>\n",
       "      <td>3.2</td>\n",
       "    </tr>\n",
       "  </tbody>\n",
       "</table>\n",
       "<p>9530 rows × 12 columns</p>\n",
       "</div>"
      ],
      "text/plain": [
       "            Country                           Restaurant Name            City  \\\n",
       "0             India                                Jahanpanah            Agra   \n",
       "1             India                       Rangrezz Restaurant            Agra   \n",
       "2             India                   Time2Eat - Mama Chicken            Agra   \n",
       "3             India     Chokho Jeeman Marwari Jain Bhojanalya            Agra   \n",
       "4             India                            Pinch Of Spice            Agra   \n",
       "...             ...                                       ...             ...   \n",
       "9546  United States                       The Screaming Eagle        Waterloo   \n",
       "9547  United States                             The Thai Bowl        Waterloo   \n",
       "9548  United States                Tokyo Japanese Steak House        Waterloo   \n",
       "9549  United States  Theo Yianni's Authentic Greek Restaurant         Weirton   \n",
       "9550  United States                 Fishpatrick's Crabby Cafe  Winchester Bay   \n",
       "\n",
       "            Locality                        Cuisines  Average Cost for two  \\\n",
       "0         Agra Cantt           North Indian, Mughlai                   850   \n",
       "1         Agra Cantt           North Indian, Mughlai                   700   \n",
       "2         Agra Cantt                    North Indian                   500   \n",
       "3        Civil Lines                      Rajasthani                   400   \n",
       "4        Civil Lines  North Indian, Chinese, Mughlai                  1000   \n",
       "...              ...                             ...                   ...   \n",
       "9546        Waterloo              American, Bar Food                    10   \n",
       "9547        Waterloo                            Thai                    10   \n",
       "9548        Waterloo          Japanese, Steak, Sushi                    25   \n",
       "9549         Weirton         Burger, Greek, Sandwich                    25   \n",
       "9550  Winchester Bay          Burger, Seafood, Steak                    25   \n",
       "\n",
       "                Currency Has Table booking Has Online delivery  \\\n",
       "0     Indian Rupees(Rs.)                No                  No   \n",
       "1     Indian Rupees(Rs.)                No                  No   \n",
       "2     Indian Rupees(Rs.)                No                  No   \n",
       "3     Indian Rupees(Rs.)                No                  No   \n",
       "4     Indian Rupees(Rs.)                No                  No   \n",
       "...                  ...               ...                 ...   \n",
       "9546           Dollar($)                No                  No   \n",
       "9547           Dollar($)                No                  No   \n",
       "9548           Dollar($)                No                  No   \n",
       "9549           Dollar($)                No                  No   \n",
       "9550           Dollar($)                No                  No   \n",
       "\n",
       "     Is delivering now  Price range  Aggregate rating  \n",
       "0                   No            3               3.9  \n",
       "1                   No            2               3.5  \n",
       "2                   No            2               3.6  \n",
       "3                   No            2               4.0  \n",
       "4                   No            3               4.2  \n",
       "...                ...          ...               ...  \n",
       "9546                No            1               3.7  \n",
       "9547                No            1               3.5  \n",
       "9548                No            2               3.9  \n",
       "9549                No            2               3.9  \n",
       "9550                No            2               3.2  \n",
       "\n",
       "[9530 rows x 12 columns]"
      ]
     },
     "execution_count": 51,
     "metadata": {},
     "output_type": "execute_result"
    }
   ],
   "source": [
    "#Now removing the data above Z score and creating a new df\n",
    "\n",
    "df1=df[(z<3).all(axis=1)]  \n",
    "df1"
   ]
  },
  {
   "cell_type": "code",
   "execution_count": 52,
   "id": "127ac8ac",
   "metadata": {},
   "outputs": [
    {
     "name": "stdout",
     "output_type": "stream",
     "text": [
      "Old dataframe 9551\n",
      "New dataframe 9530\n"
     ]
    }
   ],
   "source": [
    "print(\"Old dataframe\",df.shape[0])  #df.shape[0] will give only the rows\n",
    "print(\"New dataframe\",df1.shape[0])"
   ]
  },
  {
   "cell_type": "code",
   "execution_count": 53,
   "id": "a1b60a72",
   "metadata": {},
   "outputs": [
    {
     "name": "stdout",
     "output_type": "stream",
     "text": [
      "Data Loss Percentage: 0.21987226468432622\n"
     ]
    }
   ],
   "source": [
    "#Checking the data loss percentage after removing the outliers\n",
    "\n",
    "print(\"Data Loss Percentage:\", ((df.shape[0]-df1.shape[0])/df.shape[0])*100)    #Change in data/original data *100"
   ]
  },
  {
   "cell_type": "code",
   "execution_count": 54,
   "id": "5683fd62",
   "metadata": {},
   "outputs": [],
   "source": [
    "#Now lets check with IQR method:\n",
    "\n",
    "#1st Quantile\n",
    "Q1=out_features.quantile(0.25)\n",
    "\n",
    "#3rd Quantile\n",
    "Q3=out_features.quantile(0.75)\n",
    "\n",
    "IQR=Q3-Q1\n",
    "\n",
    "df2=df[~((df < (Q1-1.5*IQR))|(df> (Q3+ 1.5*IQR))).any(axis=1)]"
   ]
  },
  {
   "cell_type": "code",
   "execution_count": 55,
   "id": "448e6678",
   "metadata": {},
   "outputs": [
    {
     "name": "stdout",
     "output_type": "stream",
     "text": [
      "Old dataframe 9551\n",
      "New dataframe 6568\n"
     ]
    }
   ],
   "source": [
    "print(\"Old dataframe\",df.shape[0])  #df.shape[0] will give only the rows\n",
    "print(\"New dataframe\",df2.shape[0])"
   ]
  },
  {
   "cell_type": "code",
   "execution_count": 56,
   "id": "b522d2cb",
   "metadata": {},
   "outputs": [
    {
     "name": "stdout",
     "output_type": "stream",
     "text": [
      "Data Loss Percentage: 31.23233169301644\n"
     ]
    }
   ],
   "source": [
    "#Checking the data loss percentage after removing the outliers\n",
    "\n",
    "print(\"Data Loss Percentage:\", ((df.shape[0]-df2.shape[0])/df.shape[0])*100)    #Change in data/original data *100"
   ]
  },
  {
   "cell_type": "markdown",
   "id": "818608be",
   "metadata": {},
   "source": [
    "##This means both methods of removing outliers are acceptable. We can go ahead with any one of these. We will choose z score method as its giving less data loss comparatively."
   ]
  },
  {
   "cell_type": "code",
   "execution_count": 57,
   "id": "34455ffe",
   "metadata": {},
   "outputs": [],
   "source": [
    "df=df1"
   ]
  },
  {
   "cell_type": "markdown",
   "id": "51c17b72",
   "metadata": {},
   "source": [
    "#### Checking how the data is distributed in each column"
   ]
  },
  {
   "cell_type": "code",
   "execution_count": 58,
   "id": "aae792e6",
   "metadata": {},
   "outputs": [
    {
     "data": {
      "image/png": "[encoded data removed]",
      "text/plain": [
       "<Figure size 1080x360 with 3 Axes>"
      ]
     },
     "metadata": {},
     "output_type": "display_data"
    }
   ],
   "source": [
    "plt.figure(figsize=(15,5),facecolor='green')\n",
    "plotnumber=1\n",
    "\n",
    "for i in numerical_col:   \n",
    "    if plotnumber<=3:\n",
    "        plt.subplot(1,3,plotnumber)\n",
    "        sns.distplot(df[i],color='m')\n",
    "        plt.xlabel(i,fontsize=20)\n",
    "    plotnumber+=1\n",
    "plt.show()"
   ]
  },
  {
   "cell_type": "code",
   "execution_count": 59,
   "id": "630bc5e3",
   "metadata": {},
   "outputs": [
    {
     "data": {
      "text/plain": [
       "Average Cost for two    3.507449\n",
       "Price range             0.897088\n",
       "Aggregate rating       -0.953130\n",
       "dtype: float64"
      ]
     },
     "execution_count": 59,
     "metadata": {},
     "output_type": "execute_result"
    }
   ],
   "source": [
    "#Checking skewness\n",
    "\n",
    "\n",
    "df.skew()"
   ]
  },
  {
   "cell_type": "markdown",
   "id": "eb3d316b",
   "metadata": {},
   "source": [
    "#All the three columns are highly skewed. Will not remove skewness from Price range(Categorical column)"
   ]
  },
  {
   "cell_type": "code",
   "execution_count": 60,
   "id": "7c4bfbe0",
   "metadata": {},
   "outputs": [],
   "source": [
    "import scipy.stats as stats"
   ]
  },
  {
   "cell_type": "code",
   "execution_count": 61,
   "id": "912393bf",
   "metadata": {},
   "outputs": [],
   "source": [
    "#using cube root method but we can use other methods as well like sqrt,log,box cox,power transform\n",
    "\n",
    "df['Average Cost for two'],lambda_=stats.yeojohnson(df['Average Cost for two'])\n",
    "df['Aggregate rating'],lambda_=stats.yeojohnson(df['Aggregate rating'])"
   ]
  },
  {
   "cell_type": "code",
   "execution_count": 62,
   "id": "2e5c1ad0",
   "metadata": {},
   "outputs": [
    {
     "data": {
      "text/plain": [
       "Average Cost for two    0.076679\n",
       "Price range             0.897088\n",
       "Aggregate rating       -0.611961\n",
       "dtype: float64"
      ]
     },
     "execution_count": 62,
     "metadata": {},
     "output_type": "execute_result"
    }
   ],
   "source": [
    "#checking skewness again\n",
    "df.skew()"
   ]
  },
  {
   "cell_type": "code",
   "execution_count": 63,
   "id": "64bf22b9",
   "metadata": {},
   "outputs": [],
   "source": [
    "#Skewness remove dto great extent"
   ]
  },
  {
   "cell_type": "code",
   "execution_count": 64,
   "id": "0e328f0e",
   "metadata": {},
   "outputs": [
    {
     "data": {
      "image/png": "[encoded data removed]",
      "text/plain": [
       "<Figure size 1080x360 with 3 Axes>"
      ]
     },
     "metadata": {},
     "output_type": "display_data"
    }
   ],
   "source": [
    "#Let's visualize again\n",
    "\n",
    "\n",
    "plt.figure(figsize=(15,5),facecolor='green')\n",
    "plotnumber=1\n",
    "\n",
    "for i in numerical_col:   \n",
    "    if plotnumber<=3:\n",
    "        plt.subplot(1,3,plotnumber)\n",
    "        sns.distplot(df[i],color='m')\n",
    "        plt.xlabel(i,fontsize=20)\n",
    "    plotnumber+=1\n",
    "plt.show()"
   ]
  },
  {
   "cell_type": "code",
   "execution_count": 65,
   "id": "ab440e1d",
   "metadata": {},
   "outputs": [],
   "source": [
    "#Data looks normally distributed now"
   ]
  },
  {
   "cell_type": "markdown",
   "id": "f6b4c276",
   "metadata": {},
   "source": [
    "#### Encoding Categorical columns"
   ]
  },
  {
   "cell_type": "code",
   "execution_count": 66,
   "id": "b4fba971",
   "metadata": {},
   "outputs": [
    {
     "data": {
      "text/html": [
       "<div>\n",
       "<style scoped>\n",
       "    .dataframe tbody tr th:only-of-type {\n",
       "        vertical-align: middle;\n",
       "    }\n",
       "\n",
       "    .dataframe tbody tr th {\n",
       "        vertical-align: top;\n",
       "    }\n",
       "\n",
       "    .dataframe thead th {\n",
       "        text-align: right;\n",
       "    }\n",
       "</style>\n",
       "<table border=\"1\" class=\"dataframe\">\n",
       "  <thead>\n",
       "    <tr style=\"text-align: right;\">\n",
       "      <th></th>\n",
       "      <th>Country</th>\n",
       "      <th>Restaurant Name</th>\n",
       "      <th>City</th>\n",
       "      <th>Locality</th>\n",
       "      <th>Cuisines</th>\n",
       "      <th>Average Cost for two</th>\n",
       "      <th>Currency</th>\n",
       "      <th>Has Table booking</th>\n",
       "      <th>Has Online delivery</th>\n",
       "      <th>Is delivering now</th>\n",
       "      <th>Price range</th>\n",
       "      <th>Aggregate rating</th>\n",
       "    </tr>\n",
       "  </thead>\n",
       "  <tbody>\n",
       "    <tr>\n",
       "      <th>0</th>\n",
       "      <td>3.0</td>\n",
       "      <td>3197.0</td>\n",
       "      <td>1.0</td>\n",
       "      <td>17.0</td>\n",
       "      <td>1505.0</td>\n",
       "      <td>16.913259</td>\n",
       "      <td>4.0</td>\n",
       "      <td>0.0</td>\n",
       "      <td>0.0</td>\n",
       "      <td>0.0</td>\n",
       "      <td>3</td>\n",
       "      <td>8.776377</td>\n",
       "    </tr>\n",
       "    <tr>\n",
       "      <th>1</th>\n",
       "      <td>3.0</td>\n",
       "      <td>5250.0</td>\n",
       "      <td>1.0</td>\n",
       "      <td>17.0</td>\n",
       "      <td>1505.0</td>\n",
       "      <td>15.952851</td>\n",
       "      <td>4.0</td>\n",
       "      <td>0.0</td>\n",
       "      <td>0.0</td>\n",
       "      <td>0.0</td>\n",
       "      <td>2</td>\n",
       "      <td>7.473887</td>\n",
       "    </tr>\n",
       "    <tr>\n",
       "      <th>2</th>\n",
       "      <td>3.0</td>\n",
       "      <td>6904.0</td>\n",
       "      <td>1.0</td>\n",
       "      <td>17.0</td>\n",
       "      <td>1297.0</td>\n",
       "      <td>14.391579</td>\n",
       "      <td>4.0</td>\n",
       "      <td>0.0</td>\n",
       "      <td>0.0</td>\n",
       "      <td>0.0</td>\n",
       "      <td>2</td>\n",
       "      <td>7.791567</td>\n",
       "    </tr>\n",
       "    <tr>\n",
       "      <th>3</th>\n",
       "      <td>3.0</td>\n",
       "      <td>1635.0</td>\n",
       "      <td>1.0</td>\n",
       "      <td>200.0</td>\n",
       "      <td>1635.0</td>\n",
       "      <td>13.424125</td>\n",
       "      <td>4.0</td>\n",
       "      <td>0.0</td>\n",
       "      <td>0.0</td>\n",
       "      <td>0.0</td>\n",
       "      <td>2</td>\n",
       "      <td>9.115149</td>\n",
       "    </tr>\n",
       "    <tr>\n",
       "      <th>4</th>\n",
       "      <td>3.0</td>\n",
       "      <td>4911.0</td>\n",
       "      <td>1.0</td>\n",
       "      <td>200.0</td>\n",
       "      <td>1364.0</td>\n",
       "      <td>17.752530</td>\n",
       "      <td>4.0</td>\n",
       "      <td>0.0</td>\n",
       "      <td>0.0</td>\n",
       "      <td>0.0</td>\n",
       "      <td>3</td>\n",
       "      <td>9.808295</td>\n",
       "    </tr>\n",
       "    <tr>\n",
       "      <th>...</th>\n",
       "      <td>...</td>\n",
       "      <td>...</td>\n",
       "      <td>...</td>\n",
       "      <td>...</td>\n",
       "      <td>...</td>\n",
       "      <td>...</td>\n",
       "      <td>...</td>\n",
       "      <td>...</td>\n",
       "      <td>...</td>\n",
       "      <td>...</td>\n",
       "      <td>...</td>\n",
       "      <td>...</td>\n",
       "    </tr>\n",
       "    <tr>\n",
       "      <th>9546</th>\n",
       "      <td>13.0</td>\n",
       "      <td>6779.0</td>\n",
       "      <td>131.0</td>\n",
       "      <td>1155.0</td>\n",
       "      <td>18.0</td>\n",
       "      <td>3.244292</td>\n",
       "      <td>2.0</td>\n",
       "      <td>0.0</td>\n",
       "      <td>0.0</td>\n",
       "      <td>0.0</td>\n",
       "      <td>1</td>\n",
       "      <td>8.114560</td>\n",
       "    </tr>\n",
       "    <tr>\n",
       "      <th>9547</th>\n",
       "      <td>13.0</td>\n",
       "      <td>6824.0</td>\n",
       "      <td>131.0</td>\n",
       "      <td>1155.0</td>\n",
       "      <td>1783.0</td>\n",
       "      <td>3.244292</td>\n",
       "      <td>2.0</td>\n",
       "      <td>0.0</td>\n",
       "      <td>0.0</td>\n",
       "      <td>0.0</td>\n",
       "      <td>1</td>\n",
       "      <td>7.473887</td>\n",
       "    </tr>\n",
       "    <tr>\n",
       "      <th>9548</th>\n",
       "      <td>13.0</td>\n",
       "      <td>6930.0</td>\n",
       "      <td>131.0</td>\n",
       "      <td>1155.0</td>\n",
       "      <td>1117.0</td>\n",
       "      <td>4.945995</td>\n",
       "      <td>2.0</td>\n",
       "      <td>0.0</td>\n",
       "      <td>0.0</td>\n",
       "      <td>0.0</td>\n",
       "      <td>2</td>\n",
       "      <td>8.776377</td>\n",
       "    </tr>\n",
       "    <tr>\n",
       "      <th>9549</th>\n",
       "      <td>13.0</td>\n",
       "      <td>6868.0</td>\n",
       "      <td>132.0</td>\n",
       "      <td>1157.0</td>\n",
       "      <td>316.0</td>\n",
       "      <td>4.945995</td>\n",
       "      <td>2.0</td>\n",
       "      <td>0.0</td>\n",
       "      <td>0.0</td>\n",
       "      <td>0.0</td>\n",
       "      <td>2</td>\n",
       "      <td>8.776377</td>\n",
       "    </tr>\n",
       "    <tr>\n",
       "      <th>9550</th>\n",
       "      <td>13.0</td>\n",
       "      <td>2339.0</td>\n",
       "      <td>134.0</td>\n",
       "      <td>1167.0</td>\n",
       "      <td>326.0</td>\n",
       "      <td>4.945995</td>\n",
       "      <td>2.0</td>\n",
       "      <td>0.0</td>\n",
       "      <td>0.0</td>\n",
       "      <td>0.0</td>\n",
       "      <td>2</td>\n",
       "      <td>6.553005</td>\n",
       "    </tr>\n",
       "  </tbody>\n",
       "</table>\n",
       "<p>9530 rows × 12 columns</p>\n",
       "</div>"
      ],
      "text/plain": [
       "      Country  Restaurant Name   City  Locality  Cuisines  \\\n",
       "0         3.0           3197.0    1.0      17.0    1505.0   \n",
       "1         3.0           5250.0    1.0      17.0    1505.0   \n",
       "2         3.0           6904.0    1.0      17.0    1297.0   \n",
       "3         3.0           1635.0    1.0     200.0    1635.0   \n",
       "4         3.0           4911.0    1.0     200.0    1364.0   \n",
       "...       ...              ...    ...       ...       ...   \n",
       "9546     13.0           6779.0  131.0    1155.0      18.0   \n",
       "9547     13.0           6824.0  131.0    1155.0    1783.0   \n",
       "9548     13.0           6930.0  131.0    1155.0    1117.0   \n",
       "9549     13.0           6868.0  132.0    1157.0     316.0   \n",
       "9550     13.0           2339.0  134.0    1167.0     326.0   \n",
       "\n",
       "      Average Cost for two  Currency  Has Table booking  Has Online delivery  \\\n",
       "0                16.913259       4.0                0.0                  0.0   \n",
       "1                15.952851       4.0                0.0                  0.0   \n",
       "2                14.391579       4.0                0.0                  0.0   \n",
       "3                13.424125       4.0                0.0                  0.0   \n",
       "4                17.752530       4.0                0.0                  0.0   \n",
       "...                    ...       ...                ...                  ...   \n",
       "9546              3.244292       2.0                0.0                  0.0   \n",
       "9547              3.244292       2.0                0.0                  0.0   \n",
       "9548              4.945995       2.0                0.0                  0.0   \n",
       "9549              4.945995       2.0                0.0                  0.0   \n",
       "9550              4.945995       2.0                0.0                  0.0   \n",
       "\n",
       "      Is delivering now  Price range  Aggregate rating  \n",
       "0                   0.0            3          8.776377  \n",
       "1                   0.0            2          7.473887  \n",
       "2                   0.0            2          7.791567  \n",
       "3                   0.0            2          9.115149  \n",
       "4                   0.0            3          9.808295  \n",
       "...                 ...          ...               ...  \n",
       "9546                0.0            1          8.114560  \n",
       "9547                0.0            1          7.473887  \n",
       "9548                0.0            2          8.776377  \n",
       "9549                0.0            2          8.776377  \n",
       "9550                0.0            2          6.553005  \n",
       "\n",
       "[9530 rows x 12 columns]"
      ]
     },
     "execution_count": 66,
     "metadata": {},
     "output_type": "execute_result"
    }
   ],
   "source": [
    "from sklearn.preprocessing import OrdinalEncoder\n",
    "OE=OrdinalEncoder()\n",
    "for i in df.columns:\n",
    "    if df[i].dtypes=='object':\n",
    "        df[i]=OE.fit_transform(df[i].values.reshape(-1,1)) \n",
    "        \n",
    "df"
   ]
  },
  {
   "cell_type": "code",
   "execution_count": 67,
   "id": "41fc346d",
   "metadata": {},
   "outputs": [
    {
     "name": "stdout",
     "output_type": "stream",
     "text": [
      "<class 'pandas.core.frame.DataFrame'>\n",
      "Int64Index: 9530 entries, 0 to 9550\n",
      "Data columns (total 12 columns):\n",
      " #   Column                Non-Null Count  Dtype  \n",
      "---  ------                --------------  -----  \n",
      " 0   Country               9530 non-null   float64\n",
      " 1   Restaurant Name       9530 non-null   float64\n",
      " 2   City                  9530 non-null   float64\n",
      " 3   Locality              9530 non-null   float64\n",
      " 4   Cuisines              9530 non-null   float64\n",
      " 5   Average Cost for two  9530 non-null   float64\n",
      " 6   Currency              9530 non-null   float64\n",
      " 7   Has Table booking     9530 non-null   float64\n",
      " 8   Has Online delivery   9530 non-null   float64\n",
      " 9   Is delivering now     9530 non-null   float64\n",
      " 10  Price range           9530 non-null   int64  \n",
      " 11  Aggregate rating      9530 non-null   float64\n",
      "dtypes: float64(11), int64(1)\n",
      "memory usage: 967.9 KB\n"
     ]
    }
   ],
   "source": [
    "df.info()   #no object data"
   ]
  },
  {
   "cell_type": "code",
   "execution_count": 68,
   "id": "15d6f5d9",
   "metadata": {},
   "outputs": [
    {
     "data": {
      "text/html": [
       "<div>\n",
       "<style scoped>\n",
       "    .dataframe tbody tr th:only-of-type {\n",
       "        vertical-align: middle;\n",
       "    }\n",
       "\n",
       "    .dataframe tbody tr th {\n",
       "        vertical-align: top;\n",
       "    }\n",
       "\n",
       "    .dataframe thead th {\n",
       "        text-align: right;\n",
       "    }\n",
       "</style>\n",
       "<table border=\"1\" class=\"dataframe\">\n",
       "  <thead>\n",
       "    <tr style=\"text-align: right;\">\n",
       "      <th></th>\n",
       "      <th>Country</th>\n",
       "      <th>Restaurant Name</th>\n",
       "      <th>City</th>\n",
       "      <th>Locality</th>\n",
       "      <th>Cuisines</th>\n",
       "      <th>Average Cost for two</th>\n",
       "      <th>Currency</th>\n",
       "      <th>Has Table booking</th>\n",
       "      <th>Has Online delivery</th>\n",
       "      <th>Is delivering now</th>\n",
       "      <th>Price range</th>\n",
       "      <th>Aggregate rating</th>\n",
       "    </tr>\n",
       "  </thead>\n",
       "  <tbody>\n",
       "    <tr>\n",
       "      <th>count</th>\n",
       "      <td>9530.000000</td>\n",
       "      <td>9530.000000</td>\n",
       "      <td>9530.000000</td>\n",
       "      <td>9530.000000</td>\n",
       "      <td>9530.000000</td>\n",
       "      <td>9530.000000</td>\n",
       "      <td>9530.000000</td>\n",
       "      <td>9530.000000</td>\n",
       "      <td>9530.000000</td>\n",
       "      <td>9530.000000</td>\n",
       "      <td>9530.000000</td>\n",
       "      <td>9530.000000</td>\n",
       "    </tr>\n",
       "    <tr>\n",
       "      <th>mean</th>\n",
       "      <td>3.653305</td>\n",
       "      <td>3644.212172</td>\n",
       "      <td>75.611962</td>\n",
       "      <td>647.495383</td>\n",
       "      <td>982.593284</td>\n",
       "      <td>13.709764</td>\n",
       "      <td>3.948793</td>\n",
       "      <td>0.121511</td>\n",
       "      <td>0.257188</td>\n",
       "      <td>0.003568</td>\n",
       "      <td>1.802308</td>\n",
       "      <td>5.700678</td>\n",
       "    </tr>\n",
       "    <tr>\n",
       "      <th>std</th>\n",
       "      <td>2.394297</td>\n",
       "      <td>2137.693857</td>\n",
       "      <td>22.597091</td>\n",
       "      <td>311.038364</td>\n",
       "      <td>510.751484</td>\n",
       "      <td>4.073330</td>\n",
       "      <td>0.798717</td>\n",
       "      <td>0.326737</td>\n",
       "      <td>0.437107</td>\n",
       "      <td>0.059627</td>\n",
       "      <td>0.904945</td>\n",
       "      <td>3.433774</td>\n",
       "    </tr>\n",
       "    <tr>\n",
       "      <th>min</th>\n",
       "      <td>0.000000</td>\n",
       "      <td>0.000000</td>\n",
       "      <td>0.000000</td>\n",
       "      <td>0.000000</td>\n",
       "      <td>0.000000</td>\n",
       "      <td>0.000000</td>\n",
       "      <td>0.000000</td>\n",
       "      <td>0.000000</td>\n",
       "      <td>0.000000</td>\n",
       "      <td>0.000000</td>\n",
       "      <td>1.000000</td>\n",
       "      <td>0.000000</td>\n",
       "    </tr>\n",
       "    <tr>\n",
       "      <th>25%</th>\n",
       "      <td>3.000000</td>\n",
       "      <td>1772.250000</td>\n",
       "      <td>81.000000</td>\n",
       "      <td>373.000000</td>\n",
       "      <td>492.000000</td>\n",
       "      <td>11.549983</td>\n",
       "      <td>4.000000</td>\n",
       "      <td>0.000000</td>\n",
       "      <td>0.000000</td>\n",
       "      <td>0.000000</td>\n",
       "      <td>1.000000</td>\n",
       "      <td>4.595815</td>\n",
       "    </tr>\n",
       "    <tr>\n",
       "      <th>50%</th>\n",
       "      <td>3.000000</td>\n",
       "      <td>3585.500000</td>\n",
       "      <td>85.000000</td>\n",
       "      <td>685.000000</td>\n",
       "      <td>1119.500000</td>\n",
       "      <td>13.424125</td>\n",
       "      <td>4.000000</td>\n",
       "      <td>0.000000</td>\n",
       "      <td>0.000000</td>\n",
       "      <td>0.000000</td>\n",
       "      <td>2.000000</td>\n",
       "      <td>6.553005</td>\n",
       "    </tr>\n",
       "    <tr>\n",
       "      <th>75%</th>\n",
       "      <td>3.000000</td>\n",
       "      <td>5470.750000</td>\n",
       "      <td>85.000000</td>\n",
       "      <td>907.000000</td>\n",
       "      <td>1342.750000</td>\n",
       "      <td>15.952851</td>\n",
       "      <td>4.000000</td>\n",
       "      <td>0.000000</td>\n",
       "      <td>1.000000</td>\n",
       "      <td>0.000000</td>\n",
       "      <td>2.000000</td>\n",
       "      <td>8.114560</td>\n",
       "    </tr>\n",
       "    <tr>\n",
       "      <th>max</th>\n",
       "      <td>13.000000</td>\n",
       "      <td>7427.000000</td>\n",
       "      <td>136.000000</td>\n",
       "      <td>1188.000000</td>\n",
       "      <td>1811.000000</td>\n",
       "      <td>31.969377</td>\n",
       "      <td>10.000000</td>\n",
       "      <td>1.000000</td>\n",
       "      <td>1.000000</td>\n",
       "      <td>1.000000</td>\n",
       "      <td>4.000000</td>\n",
       "      <td>12.395681</td>\n",
       "    </tr>\n",
       "  </tbody>\n",
       "</table>\n",
       "</div>"
      ],
      "text/plain": [
       "           Country  Restaurant Name         City     Locality     Cuisines  \\\n",
       "count  9530.000000      9530.000000  9530.000000  9530.000000  9530.000000   \n",
       "mean      3.653305      3644.212172    75.611962   647.495383   982.593284   \n",
       "std       2.394297      2137.693857    22.597091   311.038364   510.751484   \n",
       "min       0.000000         0.000000     0.000000     0.000000     0.000000   \n",
       "25%       3.000000      1772.250000    81.000000   373.000000   492.000000   \n",
       "50%       3.000000      3585.500000    85.000000   685.000000  1119.500000   \n",
       "75%       3.000000      5470.750000    85.000000   907.000000  1342.750000   \n",
       "max      13.000000      7427.000000   136.000000  1188.000000  1811.000000   \n",
       "\n",
       "       Average Cost for two     Currency  Has Table booking  \\\n",
       "count           9530.000000  9530.000000        9530.000000   \n",
       "mean              13.709764     3.948793           0.121511   \n",
       "std                4.073330     0.798717           0.326737   \n",
       "min                0.000000     0.000000           0.000000   \n",
       "25%               11.549983     4.000000           0.000000   \n",
       "50%               13.424125     4.000000           0.000000   \n",
       "75%               15.952851     4.000000           0.000000   \n",
       "max               31.969377    10.000000           1.000000   \n",
       "\n",
       "       Has Online delivery  Is delivering now  Price range  Aggregate rating  \n",
       "count          9530.000000        9530.000000  9530.000000       9530.000000  \n",
       "mean              0.257188           0.003568     1.802308          5.700678  \n",
       "std               0.437107           0.059627     0.904945          3.433774  \n",
       "min               0.000000           0.000000     1.000000          0.000000  \n",
       "25%               0.000000           0.000000     1.000000          4.595815  \n",
       "50%               0.000000           0.000000     2.000000          6.553005  \n",
       "75%               1.000000           0.000000     2.000000          8.114560  \n",
       "max               1.000000           1.000000     4.000000         12.395681  "
      ]
     },
     "execution_count": 68,
     "metadata": {},
     "output_type": "execute_result"
    }
   ],
   "source": [
    "df.describe()  #count of all the values is same i.e. there are no null values "
   ]
  },
  {
   "cell_type": "markdown",
   "id": "94c7799c",
   "metadata": {},
   "source": [
    "#### Correlation between target variable and independent variables"
   ]
  },
  {
   "cell_type": "code",
   "execution_count": 69,
   "id": "ea0d79d4",
   "metadata": {},
   "outputs": [
    {
     "data": {
      "text/html": [
       "<div>\n",
       "<style scoped>\n",
       "    .dataframe tbody tr th:only-of-type {\n",
       "        vertical-align: middle;\n",
       "    }\n",
       "\n",
       "    .dataframe tbody tr th {\n",
       "        vertical-align: top;\n",
       "    }\n",
       "\n",
       "    .dataframe thead th {\n",
       "        text-align: right;\n",
       "    }\n",
       "</style>\n",
       "<table border=\"1\" class=\"dataframe\">\n",
       "  <thead>\n",
       "    <tr style=\"text-align: right;\">\n",
       "      <th></th>\n",
       "      <th>Country</th>\n",
       "      <th>Restaurant Name</th>\n",
       "      <th>City</th>\n",
       "      <th>Locality</th>\n",
       "      <th>Cuisines</th>\n",
       "      <th>Average Cost for two</th>\n",
       "      <th>Currency</th>\n",
       "      <th>Has Table booking</th>\n",
       "      <th>Has Online delivery</th>\n",
       "      <th>Is delivering now</th>\n",
       "      <th>Price range</th>\n",
       "      <th>Aggregate rating</th>\n",
       "    </tr>\n",
       "  </thead>\n",
       "  <tbody>\n",
       "    <tr>\n",
       "      <th>Country</th>\n",
       "      <td>1.000000</td>\n",
       "      <td>0.017209</td>\n",
       "      <td>-0.179194</td>\n",
       "      <td>-0.118675</td>\n",
       "      <td>-0.127136</td>\n",
       "      <td>-0.498623</td>\n",
       "      <td>-0.207277</td>\n",
       "      <td>-0.062180</td>\n",
       "      <td>-0.138102</td>\n",
       "      <td>-0.016328</td>\n",
       "      <td>0.168833</td>\n",
       "      <td>0.292790</td>\n",
       "    </tr>\n",
       "    <tr>\n",
       "      <th>Restaurant Name</th>\n",
       "      <td>0.017209</td>\n",
       "      <td>1.000000</td>\n",
       "      <td>-0.000867</td>\n",
       "      <td>0.005634</td>\n",
       "      <td>0.051546</td>\n",
       "      <td>0.037199</td>\n",
       "      <td>0.006750</td>\n",
       "      <td>0.041558</td>\n",
       "      <td>0.028655</td>\n",
       "      <td>0.012049</td>\n",
       "      <td>0.060282</td>\n",
       "      <td>0.027768</td>\n",
       "    </tr>\n",
       "    <tr>\n",
       "      <th>City</th>\n",
       "      <td>-0.179194</td>\n",
       "      <td>-0.000867</td>\n",
       "      <td>1.000000</td>\n",
       "      <td>0.095221</td>\n",
       "      <td>0.026309</td>\n",
       "      <td>0.027984</td>\n",
       "      <td>-0.051919</td>\n",
       "      <td>-0.004785</td>\n",
       "      <td>0.011359</td>\n",
       "      <td>-0.014238</td>\n",
       "      <td>-0.103085</td>\n",
       "      <td>-0.147207</td>\n",
       "    </tr>\n",
       "    <tr>\n",
       "      <th>Locality</th>\n",
       "      <td>-0.118675</td>\n",
       "      <td>0.005634</td>\n",
       "      <td>0.095221</td>\n",
       "      <td>1.000000</td>\n",
       "      <td>0.006459</td>\n",
       "      <td>-0.004709</td>\n",
       "      <td>0.034993</td>\n",
       "      <td>-0.066101</td>\n",
       "      <td>-0.031312</td>\n",
       "      <td>-0.007321</td>\n",
       "      <td>-0.114553</td>\n",
       "      <td>-0.184878</td>\n",
       "    </tr>\n",
       "    <tr>\n",
       "      <th>Cuisines</th>\n",
       "      <td>-0.127136</td>\n",
       "      <td>0.051546</td>\n",
       "      <td>0.026309</td>\n",
       "      <td>0.006459</td>\n",
       "      <td>1.000000</td>\n",
       "      <td>0.083767</td>\n",
       "      <td>0.084247</td>\n",
       "      <td>0.050850</td>\n",
       "      <td>-0.016324</td>\n",
       "      <td>0.007804</td>\n",
       "      <td>-0.006085</td>\n",
       "      <td>-0.095638</td>\n",
       "    </tr>\n",
       "    <tr>\n",
       "      <th>Average Cost for two</th>\n",
       "      <td>-0.498623</td>\n",
       "      <td>0.037199</td>\n",
       "      <td>0.027984</td>\n",
       "      <td>-0.004709</td>\n",
       "      <td>0.083767</td>\n",
       "      <td>1.000000</td>\n",
       "      <td>0.221433</td>\n",
       "      <td>0.526449</td>\n",
       "      <td>0.223355</td>\n",
       "      <td>0.029041</td>\n",
       "      <td>0.577204</td>\n",
       "      <td>0.164751</td>\n",
       "    </tr>\n",
       "    <tr>\n",
       "      <th>Currency</th>\n",
       "      <td>-0.207277</td>\n",
       "      <td>0.006750</td>\n",
       "      <td>-0.051919</td>\n",
       "      <td>0.034993</td>\n",
       "      <td>0.084247</td>\n",
       "      <td>0.221433</td>\n",
       "      <td>1.000000</td>\n",
       "      <td>0.008162</td>\n",
       "      <td>0.029310</td>\n",
       "      <td>0.003836</td>\n",
       "      <td>0.034922</td>\n",
       "      <td>-0.048883</td>\n",
       "    </tr>\n",
       "    <tr>\n",
       "      <th>Has Table booking</th>\n",
       "      <td>-0.062180</td>\n",
       "      <td>0.041558</td>\n",
       "      <td>-0.004785</td>\n",
       "      <td>-0.066101</td>\n",
       "      <td>0.050850</td>\n",
       "      <td>0.526449</td>\n",
       "      <td>0.008162</td>\n",
       "      <td>1.000000</td>\n",
       "      <td>0.100797</td>\n",
       "      <td>-0.016867</td>\n",
       "      <td>0.503962</td>\n",
       "      <td>0.196030</td>\n",
       "    </tr>\n",
       "    <tr>\n",
       "      <th>Has Online delivery</th>\n",
       "      <td>-0.138102</td>\n",
       "      <td>0.028655</td>\n",
       "      <td>0.011359</td>\n",
       "      <td>-0.031312</td>\n",
       "      <td>-0.016324</td>\n",
       "      <td>0.223355</td>\n",
       "      <td>0.029310</td>\n",
       "      <td>0.100797</td>\n",
       "      <td>1.000000</td>\n",
       "      <td>0.101691</td>\n",
       "      <td>0.079735</td>\n",
       "      <td>0.205727</td>\n",
       "    </tr>\n",
       "    <tr>\n",
       "      <th>Is delivering now</th>\n",
       "      <td>-0.016328</td>\n",
       "      <td>0.012049</td>\n",
       "      <td>-0.014238</td>\n",
       "      <td>-0.007321</td>\n",
       "      <td>0.007804</td>\n",
       "      <td>0.029041</td>\n",
       "      <td>0.003836</td>\n",
       "      <td>-0.016867</td>\n",
       "      <td>0.101691</td>\n",
       "      <td>1.000000</td>\n",
       "      <td>0.011128</td>\n",
       "      <td>0.014972</td>\n",
       "    </tr>\n",
       "    <tr>\n",
       "      <th>Price range</th>\n",
       "      <td>0.168833</td>\n",
       "      <td>0.060282</td>\n",
       "      <td>-0.103085</td>\n",
       "      <td>-0.114553</td>\n",
       "      <td>-0.006085</td>\n",
       "      <td>0.577204</td>\n",
       "      <td>0.034922</td>\n",
       "      <td>0.503962</td>\n",
       "      <td>0.079735</td>\n",
       "      <td>0.011128</td>\n",
       "      <td>1.000000</td>\n",
       "      <td>0.466743</td>\n",
       "    </tr>\n",
       "    <tr>\n",
       "      <th>Aggregate rating</th>\n",
       "      <td>0.292790</td>\n",
       "      <td>0.027768</td>\n",
       "      <td>-0.147207</td>\n",
       "      <td>-0.184878</td>\n",
       "      <td>-0.095638</td>\n",
       "      <td>0.164751</td>\n",
       "      <td>-0.048883</td>\n",
       "      <td>0.196030</td>\n",
       "      <td>0.205727</td>\n",
       "      <td>0.014972</td>\n",
       "      <td>0.466743</td>\n",
       "      <td>1.000000</td>\n",
       "    </tr>\n",
       "  </tbody>\n",
       "</table>\n",
       "</div>"
      ],
      "text/plain": [
       "                       Country  Restaurant Name      City  Locality  Cuisines  \\\n",
       "Country               1.000000         0.017209 -0.179194 -0.118675 -0.127136   \n",
       "Restaurant Name       0.017209         1.000000 -0.000867  0.005634  0.051546   \n",
       "City                 -0.179194        -0.000867  1.000000  0.095221  0.026309   \n",
       "Locality             -0.118675         0.005634  0.095221  1.000000  0.006459   \n",
       "Cuisines             -0.127136         0.051546  0.026309  0.006459  1.000000   \n",
       "Average Cost for two -0.498623         0.037199  0.027984 -0.004709  0.083767   \n",
       "Currency             -0.207277         0.006750 -0.051919  0.034993  0.084247   \n",
       "Has Table booking    -0.062180         0.041558 -0.004785 -0.066101  0.050850   \n",
       "Has Online delivery  -0.138102         0.028655  0.011359 -0.031312 -0.016324   \n",
       "Is delivering now    -0.016328         0.012049 -0.014238 -0.007321  0.007804   \n",
       "Price range           0.168833         0.060282 -0.103085 -0.114553 -0.006085   \n",
       "Aggregate rating      0.292790         0.027768 -0.147207 -0.184878 -0.095638   \n",
       "\n",
       "                      Average Cost for two  Currency  Has Table booking  \\\n",
       "Country                          -0.498623 -0.207277          -0.062180   \n",
       "Restaurant Name                   0.037199  0.006750           0.041558   \n",
       "City                              0.027984 -0.051919          -0.004785   \n",
       "Locality                         -0.004709  0.034993          -0.066101   \n",
       "Cuisines                          0.083767  0.084247           0.050850   \n",
       "Average Cost for two              1.000000  0.221433           0.526449   \n",
       "Currency                          0.221433  1.000000           0.008162   \n",
       "Has Table booking                 0.526449  0.008162           1.000000   \n",
       "Has Online delivery               0.223355  0.029310           0.100797   \n",
       "Is delivering now                 0.029041  0.003836          -0.016867   \n",
       "Price range                       0.577204  0.034922           0.503962   \n",
       "Aggregate rating                  0.164751 -0.048883           0.196030   \n",
       "\n",
       "                      Has Online delivery  Is delivering now  Price range  \\\n",
       "Country                         -0.138102          -0.016328     0.168833   \n",
       "Restaurant Name                  0.028655           0.012049     0.060282   \n",
       "City                             0.011359          -0.014238    -0.103085   \n",
       "Locality                        -0.031312          -0.007321    -0.114553   \n",
       "Cuisines                        -0.016324           0.007804    -0.006085   \n",
       "Average Cost for two             0.223355           0.029041     0.577204   \n",
       "Currency                         0.029310           0.003836     0.034922   \n",
       "Has Table booking                0.100797          -0.016867     0.503962   \n",
       "Has Online delivery              1.000000           0.101691     0.079735   \n",
       "Is delivering now                0.101691           1.000000     0.011128   \n",
       "Price range                      0.079735           0.011128     1.000000   \n",
       "Aggregate rating                 0.205727           0.014972     0.466743   \n",
       "\n",
       "                      Aggregate rating  \n",
       "Country                       0.292790  \n",
       "Restaurant Name               0.027768  \n",
       "City                         -0.147207  \n",
       "Locality                     -0.184878  \n",
       "Cuisines                     -0.095638  \n",
       "Average Cost for two          0.164751  \n",
       "Currency                     -0.048883  \n",
       "Has Table booking             0.196030  \n",
       "Has Online delivery           0.205727  \n",
       "Is delivering now             0.014972  \n",
       "Price range                   0.466743  \n",
       "Aggregate rating              1.000000  "
      ]
     },
     "execution_count": 69,
     "metadata": {},
     "output_type": "execute_result"
    }
   ],
   "source": [
    "cor=df.corr()    #-1 represents highly negative correlation and +1 is highly positive correlation\n",
    "cor"
   ]
  },
  {
   "cell_type": "code",
   "execution_count": 70,
   "id": "a7c16933",
   "metadata": {},
   "outputs": [
    {
     "data": {
      "image/png": "[encoded data removed]",
      "text/plain": [
       "<Figure size 1440x1440 with 2 Axes>"
      ]
     },
     "metadata": {
      "needs_background": "light"
     },
     "output_type": "display_data"
    }
   ],
   "source": [
    "#We can visualize this by plotting a heatmap\n",
    "\n",
    "plt.figure(figsize=(20,20))\n",
    "sns.heatmap(df.corr(),linewidths=0.1,fmt=\".1g\",linecolor=\"black\",annot=True,cmap=\"Blues_r\") \n",
    "plt.yticks(rotation=0)\n",
    "plt.show()"
   ]
  },
  {
   "cell_type": "code",
   "execution_count": 71,
   "id": "23ef45d9",
   "metadata": {},
   "outputs": [],
   "source": [
    "#Few feature variables show the problems of multicolliniarity like in Average cost for two and price range"
   ]
  },
  {
   "cell_type": "markdown",
   "id": "05456472",
   "metadata": {},
   "source": [
    "#### 1. Predicting the price range(Classification Task)"
   ]
  },
  {
   "cell_type": "code",
   "execution_count": 72,
   "id": "5db9123d",
   "metadata": {},
   "outputs": [
    {
     "data": {
      "text/plain": [
       "Price range             1.000000\n",
       "Average Cost for two    0.577204\n",
       "Has Table booking       0.503962\n",
       "Aggregate rating        0.466743\n",
       "Country                 0.168833\n",
       "Has Online delivery     0.079735\n",
       "Restaurant Name         0.060282\n",
       "Currency                0.034922\n",
       "Is delivering now       0.011128\n",
       "Cuisines               -0.006085\n",
       "City                   -0.103085\n",
       "Locality               -0.114553\n",
       "Name: Price range, dtype: float64"
      ]
     },
     "execution_count": 72,
     "metadata": {},
     "output_type": "execute_result"
    }
   ],
   "source": [
    "df.corr()[\"Price range\"].sort_values(ascending=False)   #arrange the correlation in descending order"
   ]
  },
  {
   "cell_type": "markdown",
   "id": "27f7f651",
   "metadata": {},
   "source": [
    "#All the features have moderate to low correlation with the target "
   ]
  },
  {
   "cell_type": "markdown",
   "id": "6b5fbc6e",
   "metadata": {},
   "source": [
    "#### Visualizing the correlation between the label and other features using bar plot"
   ]
  },
  {
   "cell_type": "code",
   "execution_count": 73,
   "id": "0ea8c3da",
   "metadata": {},
   "outputs": [
    {
     "data": {
      "image/png": "[encoded data removed]",
      "text/plain": [
       "<Figure size 1584x504 with 1 Axes>"
      ]
     },
     "metadata": {
      "needs_background": "light"
     },
     "output_type": "display_data"
    }
   ],
   "source": [
    "plt.figure(figsize=(22,7))\n",
    "df.corr()[\"Price range\"].sort_values(ascending=False).drop([\"Price range\"]).plot(kind='bar',color='m')   \n",
    "plt.xlabel('Feature',fontsize=15)\n",
    "plt.ylabel('Target',fontsize=15)\n",
    "plt.title(\"Correlation between Target and features using bar plot\")\n",
    "plt.show()"
   ]
  },
  {
   "cell_type": "markdown",
   "id": "b38cd764",
   "metadata": {},
   "source": [
    "#### Seperating Features(independent variables) and Label(Dependent or Target variable)"
   ]
  },
  {
   "cell_type": "code",
   "execution_count": 74,
   "id": "e6c24971",
   "metadata": {},
   "outputs": [],
   "source": [
    "x=df.drop([\"Price range\"],axis=1)\n",
    "y=df[\"Price range\"]"
   ]
  },
  {
   "cell_type": "code",
   "execution_count": 75,
   "id": "2541524c",
   "metadata": {},
   "outputs": [
    {
     "data": {
      "text/html": [
       "<div>\n",
       "<style scoped>\n",
       "    .dataframe tbody tr th:only-of-type {\n",
       "        vertical-align: middle;\n",
       "    }\n",
       "\n",
       "    .dataframe tbody tr th {\n",
       "        vertical-align: top;\n",
       "    }\n",
       "\n",
       "    .dataframe thead th {\n",
       "        text-align: right;\n",
       "    }\n",
       "</style>\n",
       "<table border=\"1\" class=\"dataframe\">\n",
       "  <thead>\n",
       "    <tr style=\"text-align: right;\">\n",
       "      <th></th>\n",
       "      <th>Country</th>\n",
       "      <th>Restaurant Name</th>\n",
       "      <th>City</th>\n",
       "      <th>Locality</th>\n",
       "      <th>Cuisines</th>\n",
       "      <th>Average Cost for two</th>\n",
       "      <th>Currency</th>\n",
       "      <th>Has Table booking</th>\n",
       "      <th>Has Online delivery</th>\n",
       "      <th>Is delivering now</th>\n",
       "      <th>Aggregate rating</th>\n",
       "    </tr>\n",
       "  </thead>\n",
       "  <tbody>\n",
       "    <tr>\n",
       "      <th>0</th>\n",
       "      <td>3.0</td>\n",
       "      <td>3197.0</td>\n",
       "      <td>1.0</td>\n",
       "      <td>17.0</td>\n",
       "      <td>1505.0</td>\n",
       "      <td>16.913259</td>\n",
       "      <td>4.0</td>\n",
       "      <td>0.0</td>\n",
       "      <td>0.0</td>\n",
       "      <td>0.0</td>\n",
       "      <td>8.776377</td>\n",
       "    </tr>\n",
       "    <tr>\n",
       "      <th>1</th>\n",
       "      <td>3.0</td>\n",
       "      <td>5250.0</td>\n",
       "      <td>1.0</td>\n",
       "      <td>17.0</td>\n",
       "      <td>1505.0</td>\n",
       "      <td>15.952851</td>\n",
       "      <td>4.0</td>\n",
       "      <td>0.0</td>\n",
       "      <td>0.0</td>\n",
       "      <td>0.0</td>\n",
       "      <td>7.473887</td>\n",
       "    </tr>\n",
       "    <tr>\n",
       "      <th>2</th>\n",
       "      <td>3.0</td>\n",
       "      <td>6904.0</td>\n",
       "      <td>1.0</td>\n",
       "      <td>17.0</td>\n",
       "      <td>1297.0</td>\n",
       "      <td>14.391579</td>\n",
       "      <td>4.0</td>\n",
       "      <td>0.0</td>\n",
       "      <td>0.0</td>\n",
       "      <td>0.0</td>\n",
       "      <td>7.791567</td>\n",
       "    </tr>\n",
       "    <tr>\n",
       "      <th>3</th>\n",
       "      <td>3.0</td>\n",
       "      <td>1635.0</td>\n",
       "      <td>1.0</td>\n",
       "      <td>200.0</td>\n",
       "      <td>1635.0</td>\n",
       "      <td>13.424125</td>\n",
       "      <td>4.0</td>\n",
       "      <td>0.0</td>\n",
       "      <td>0.0</td>\n",
       "      <td>0.0</td>\n",
       "      <td>9.115149</td>\n",
       "    </tr>\n",
       "    <tr>\n",
       "      <th>4</th>\n",
       "      <td>3.0</td>\n",
       "      <td>4911.0</td>\n",
       "      <td>1.0</td>\n",
       "      <td>200.0</td>\n",
       "      <td>1364.0</td>\n",
       "      <td>17.752530</td>\n",
       "      <td>4.0</td>\n",
       "      <td>0.0</td>\n",
       "      <td>0.0</td>\n",
       "      <td>0.0</td>\n",
       "      <td>9.808295</td>\n",
       "    </tr>\n",
       "    <tr>\n",
       "      <th>...</th>\n",
       "      <td>...</td>\n",
       "      <td>...</td>\n",
       "      <td>...</td>\n",
       "      <td>...</td>\n",
       "      <td>...</td>\n",
       "      <td>...</td>\n",
       "      <td>...</td>\n",
       "      <td>...</td>\n",
       "      <td>...</td>\n",
       "      <td>...</td>\n",
       "      <td>...</td>\n",
       "    </tr>\n",
       "    <tr>\n",
       "      <th>9546</th>\n",
       "      <td>13.0</td>\n",
       "      <td>6779.0</td>\n",
       "      <td>131.0</td>\n",
       "      <td>1155.0</td>\n",
       "      <td>18.0</td>\n",
       "      <td>3.244292</td>\n",
       "      <td>2.0</td>\n",
       "      <td>0.0</td>\n",
       "      <td>0.0</td>\n",
       "      <td>0.0</td>\n",
       "      <td>8.114560</td>\n",
       "    </tr>\n",
       "    <tr>\n",
       "      <th>9547</th>\n",
       "      <td>13.0</td>\n",
       "      <td>6824.0</td>\n",
       "      <td>131.0</td>\n",
       "      <td>1155.0</td>\n",
       "      <td>1783.0</td>\n",
       "      <td>3.244292</td>\n",
       "      <td>2.0</td>\n",
       "      <td>0.0</td>\n",
       "      <td>0.0</td>\n",
       "      <td>0.0</td>\n",
       "      <td>7.473887</td>\n",
       "    </tr>\n",
       "    <tr>\n",
       "      <th>9548</th>\n",
       "      <td>13.0</td>\n",
       "      <td>6930.0</td>\n",
       "      <td>131.0</td>\n",
       "      <td>1155.0</td>\n",
       "      <td>1117.0</td>\n",
       "      <td>4.945995</td>\n",
       "      <td>2.0</td>\n",
       "      <td>0.0</td>\n",
       "      <td>0.0</td>\n",
       "      <td>0.0</td>\n",
       "      <td>8.776377</td>\n",
       "    </tr>\n",
       "    <tr>\n",
       "      <th>9549</th>\n",
       "      <td>13.0</td>\n",
       "      <td>6868.0</td>\n",
       "      <td>132.0</td>\n",
       "      <td>1157.0</td>\n",
       "      <td>316.0</td>\n",
       "      <td>4.945995</td>\n",
       "      <td>2.0</td>\n",
       "      <td>0.0</td>\n",
       "      <td>0.0</td>\n",
       "      <td>0.0</td>\n",
       "      <td>8.776377</td>\n",
       "    </tr>\n",
       "    <tr>\n",
       "      <th>9550</th>\n",
       "      <td>13.0</td>\n",
       "      <td>2339.0</td>\n",
       "      <td>134.0</td>\n",
       "      <td>1167.0</td>\n",
       "      <td>326.0</td>\n",
       "      <td>4.945995</td>\n",
       "      <td>2.0</td>\n",
       "      <td>0.0</td>\n",
       "      <td>0.0</td>\n",
       "      <td>0.0</td>\n",
       "      <td>6.553005</td>\n",
       "    </tr>\n",
       "  </tbody>\n",
       "</table>\n",
       "<p>9530 rows × 11 columns</p>\n",
       "</div>"
      ],
      "text/plain": [
       "      Country  Restaurant Name   City  Locality  Cuisines  \\\n",
       "0         3.0           3197.0    1.0      17.0    1505.0   \n",
       "1         3.0           5250.0    1.0      17.0    1505.0   \n",
       "2         3.0           6904.0    1.0      17.0    1297.0   \n",
       "3         3.0           1635.0    1.0     200.0    1635.0   \n",
       "4         3.0           4911.0    1.0     200.0    1364.0   \n",
       "...       ...              ...    ...       ...       ...   \n",
       "9546     13.0           6779.0  131.0    1155.0      18.0   \n",
       "9547     13.0           6824.0  131.0    1155.0    1783.0   \n",
       "9548     13.0           6930.0  131.0    1155.0    1117.0   \n",
       "9549     13.0           6868.0  132.0    1157.0     316.0   \n",
       "9550     13.0           2339.0  134.0    1167.0     326.0   \n",
       "\n",
       "      Average Cost for two  Currency  Has Table booking  Has Online delivery  \\\n",
       "0                16.913259       4.0                0.0                  0.0   \n",
       "1                15.952851       4.0                0.0                  0.0   \n",
       "2                14.391579       4.0                0.0                  0.0   \n",
       "3                13.424125       4.0                0.0                  0.0   \n",
       "4                17.752530       4.0                0.0                  0.0   \n",
       "...                    ...       ...                ...                  ...   \n",
       "9546              3.244292       2.0                0.0                  0.0   \n",
       "9547              3.244292       2.0                0.0                  0.0   \n",
       "9548              4.945995       2.0                0.0                  0.0   \n",
       "9549              4.945995       2.0                0.0                  0.0   \n",
       "9550              4.945995       2.0                0.0                  0.0   \n",
       "\n",
       "      Is delivering now  Aggregate rating  \n",
       "0                   0.0          8.776377  \n",
       "1                   0.0          7.473887  \n",
       "2                   0.0          7.791567  \n",
       "3                   0.0          9.115149  \n",
       "4                   0.0          9.808295  \n",
       "...                 ...               ...  \n",
       "9546                0.0          8.114560  \n",
       "9547                0.0          7.473887  \n",
       "9548                0.0          8.776377  \n",
       "9549                0.0          8.776377  \n",
       "9550                0.0          6.553005  \n",
       "\n",
       "[9530 rows x 11 columns]"
      ]
     },
     "execution_count": 75,
     "metadata": {},
     "output_type": "execute_result"
    }
   ],
   "source": [
    "x"
   ]
  },
  {
   "cell_type": "markdown",
   "id": "5cfe0602",
   "metadata": {},
   "source": [
    "#### Feature scaling using Standard Scalarization"
   ]
  },
  {
   "cell_type": "code",
   "execution_count": 76,
   "id": "29f5bd23",
   "metadata": {},
   "outputs": [
    {
     "data": {
      "text/html": [
       "<div>\n",
       "<style scoped>\n",
       "    .dataframe tbody tr th:only-of-type {\n",
       "        vertical-align: middle;\n",
       "    }\n",
       "\n",
       "    .dataframe tbody tr th {\n",
       "        vertical-align: top;\n",
       "    }\n",
       "\n",
       "    .dataframe thead th {\n",
       "        text-align: right;\n",
       "    }\n",
       "</style>\n",
       "<table border=\"1\" class=\"dataframe\">\n",
       "  <thead>\n",
       "    <tr style=\"text-align: right;\">\n",
       "      <th></th>\n",
       "      <th>Country</th>\n",
       "      <th>Restaurant Name</th>\n",
       "      <th>City</th>\n",
       "      <th>Locality</th>\n",
       "      <th>Cuisines</th>\n",
       "      <th>Average Cost for two</th>\n",
       "      <th>Currency</th>\n",
       "      <th>Has Table booking</th>\n",
       "      <th>Has Online delivery</th>\n",
       "      <th>Is delivering now</th>\n",
       "      <th>Aggregate rating</th>\n",
       "    </tr>\n",
       "  </thead>\n",
       "  <tbody>\n",
       "    <tr>\n",
       "      <th>0</th>\n",
       "      <td>-0.272873</td>\n",
       "      <td>-0.209214</td>\n",
       "      <td>-3.302013</td>\n",
       "      <td>-2.027173</td>\n",
       "      <td>1.022873</td>\n",
       "      <td>0.786497</td>\n",
       "      <td>0.064115</td>\n",
       "      <td>-0.371912</td>\n",
       "      <td>-0.588418</td>\n",
       "      <td>-0.059837</td>\n",
       "      <td>0.895767</td>\n",
       "    </tr>\n",
       "    <tr>\n",
       "      <th>1</th>\n",
       "      <td>-0.272873</td>\n",
       "      <td>0.751217</td>\n",
       "      <td>-3.302013</td>\n",
       "      <td>-2.027173</td>\n",
       "      <td>1.022873</td>\n",
       "      <td>0.550705</td>\n",
       "      <td>0.064115</td>\n",
       "      <td>-0.371912</td>\n",
       "      <td>-0.588418</td>\n",
       "      <td>-0.059837</td>\n",
       "      <td>0.516429</td>\n",
       "    </tr>\n",
       "    <tr>\n",
       "      <th>2</th>\n",
       "      <td>-0.272873</td>\n",
       "      <td>1.524989</td>\n",
       "      <td>-3.302013</td>\n",
       "      <td>-2.027173</td>\n",
       "      <td>0.615609</td>\n",
       "      <td>0.167394</td>\n",
       "      <td>0.064115</td>\n",
       "      <td>-0.371912</td>\n",
       "      <td>-0.588418</td>\n",
       "      <td>-0.059837</td>\n",
       "      <td>0.608951</td>\n",
       "    </tr>\n",
       "    <tr>\n",
       "      <th>3</th>\n",
       "      <td>-0.272873</td>\n",
       "      <td>-0.939946</td>\n",
       "      <td>-3.302013</td>\n",
       "      <td>-1.438790</td>\n",
       "      <td>1.277414</td>\n",
       "      <td>-0.070128</td>\n",
       "      <td>0.064115</td>\n",
       "      <td>-0.371912</td>\n",
       "      <td>-0.588418</td>\n",
       "      <td>-0.059837</td>\n",
       "      <td>0.994431</td>\n",
       "    </tr>\n",
       "    <tr>\n",
       "      <th>4</th>\n",
       "      <td>-0.272873</td>\n",
       "      <td>0.592627</td>\n",
       "      <td>-3.302013</td>\n",
       "      <td>-1.438790</td>\n",
       "      <td>0.746795</td>\n",
       "      <td>0.992548</td>\n",
       "      <td>0.064115</td>\n",
       "      <td>-0.371912</td>\n",
       "      <td>-0.588418</td>\n",
       "      <td>-0.059837</td>\n",
       "      <td>1.196303</td>\n",
       "    </tr>\n",
       "    <tr>\n",
       "      <th>...</th>\n",
       "      <td>...</td>\n",
       "      <td>...</td>\n",
       "      <td>...</td>\n",
       "      <td>...</td>\n",
       "      <td>...</td>\n",
       "      <td>...</td>\n",
       "      <td>...</td>\n",
       "      <td>...</td>\n",
       "      <td>...</td>\n",
       "      <td>...</td>\n",
       "      <td>...</td>\n",
       "    </tr>\n",
       "    <tr>\n",
       "      <th>9525</th>\n",
       "      <td>3.903936</td>\n",
       "      <td>1.466511</td>\n",
       "      <td>2.451242</td>\n",
       "      <td>1.631732</td>\n",
       "      <td>-1.888676</td>\n",
       "      <td>-2.569402</td>\n",
       "      <td>-2.440033</td>\n",
       "      <td>-0.371912</td>\n",
       "      <td>-0.588418</td>\n",
       "      <td>-0.059837</td>\n",
       "      <td>0.703019</td>\n",
       "    </tr>\n",
       "    <tr>\n",
       "      <th>9526</th>\n",
       "      <td>3.903936</td>\n",
       "      <td>1.487563</td>\n",
       "      <td>2.451242</td>\n",
       "      <td>1.631732</td>\n",
       "      <td>1.567198</td>\n",
       "      <td>-2.569402</td>\n",
       "      <td>-2.440033</td>\n",
       "      <td>-0.371912</td>\n",
       "      <td>-0.588418</td>\n",
       "      <td>-0.059837</td>\n",
       "      <td>0.516429</td>\n",
       "    </tr>\n",
       "    <tr>\n",
       "      <th>9527</th>\n",
       "      <td>3.903936</td>\n",
       "      <td>1.537152</td>\n",
       "      <td>2.451242</td>\n",
       "      <td>1.631732</td>\n",
       "      <td>0.263169</td>\n",
       "      <td>-2.151613</td>\n",
       "      <td>-2.440033</td>\n",
       "      <td>-0.371912</td>\n",
       "      <td>-0.588418</td>\n",
       "      <td>-0.059837</td>\n",
       "      <td>0.895767</td>\n",
       "    </tr>\n",
       "    <tr>\n",
       "      <th>9528</th>\n",
       "      <td>3.903936</td>\n",
       "      <td>1.508147</td>\n",
       "      <td>2.495498</td>\n",
       "      <td>1.638162</td>\n",
       "      <td>-1.305191</td>\n",
       "      <td>-2.151613</td>\n",
       "      <td>-2.440033</td>\n",
       "      <td>-0.371912</td>\n",
       "      <td>-0.588418</td>\n",
       "      <td>-0.059837</td>\n",
       "      <td>0.895767</td>\n",
       "    </tr>\n",
       "    <tr>\n",
       "      <th>9529</th>\n",
       "      <td>3.903936</td>\n",
       "      <td>-0.610602</td>\n",
       "      <td>2.584010</td>\n",
       "      <td>1.670314</td>\n",
       "      <td>-1.285611</td>\n",
       "      <td>-2.151613</td>\n",
       "      <td>-2.440033</td>\n",
       "      <td>-0.371912</td>\n",
       "      <td>-0.588418</td>\n",
       "      <td>-0.059837</td>\n",
       "      <td>0.248232</td>\n",
       "    </tr>\n",
       "  </tbody>\n",
       "</table>\n",
       "<p>9530 rows × 11 columns</p>\n",
       "</div>"
      ],
      "text/plain": [
       "       Country  Restaurant Name      City  Locality  Cuisines  \\\n",
       "0    -0.272873        -0.209214 -3.302013 -2.027173  1.022873   \n",
       "1    -0.272873         0.751217 -3.302013 -2.027173  1.022873   \n",
       "2    -0.272873         1.524989 -3.302013 -2.027173  0.615609   \n",
       "3    -0.272873        -0.939946 -3.302013 -1.438790  1.277414   \n",
       "4    -0.272873         0.592627 -3.302013 -1.438790  0.746795   \n",
       "...        ...              ...       ...       ...       ...   \n",
       "9525  3.903936         1.466511  2.451242  1.631732 -1.888676   \n",
       "9526  3.903936         1.487563  2.451242  1.631732  1.567198   \n",
       "9527  3.903936         1.537152  2.451242  1.631732  0.263169   \n",
       "9528  3.903936         1.508147  2.495498  1.638162 -1.305191   \n",
       "9529  3.903936        -0.610602  2.584010  1.670314 -1.285611   \n",
       "\n",
       "      Average Cost for two  Currency  Has Table booking  Has Online delivery  \\\n",
       "0                 0.786497  0.064115          -0.371912            -0.588418   \n",
       "1                 0.550705  0.064115          -0.371912            -0.588418   \n",
       "2                 0.167394  0.064115          -0.371912            -0.588418   \n",
       "3                -0.070128  0.064115          -0.371912            -0.588418   \n",
       "4                 0.992548  0.064115          -0.371912            -0.588418   \n",
       "...                    ...       ...                ...                  ...   \n",
       "9525             -2.569402 -2.440033          -0.371912            -0.588418   \n",
       "9526             -2.569402 -2.440033          -0.371912            -0.588418   \n",
       "9527             -2.151613 -2.440033          -0.371912            -0.588418   \n",
       "9528             -2.151613 -2.440033          -0.371912            -0.588418   \n",
       "9529             -2.151613 -2.440033          -0.371912            -0.588418   \n",
       "\n",
       "      Is delivering now  Aggregate rating  \n",
       "0             -0.059837          0.895767  \n",
       "1             -0.059837          0.516429  \n",
       "2             -0.059837          0.608951  \n",
       "3             -0.059837          0.994431  \n",
       "4             -0.059837          1.196303  \n",
       "...                 ...               ...  \n",
       "9525          -0.059837          0.703019  \n",
       "9526          -0.059837          0.516429  \n",
       "9527          -0.059837          0.895767  \n",
       "9528          -0.059837          0.895767  \n",
       "9529          -0.059837          0.248232  \n",
       "\n",
       "[9530 rows x 11 columns]"
      ]
     },
     "execution_count": 76,
     "metadata": {},
     "output_type": "execute_result"
    }
   ],
   "source": [
    "from sklearn.preprocessing import StandardScaler\n",
    "scaler=StandardScaler()\n",
    "x=pd.DataFrame(scaler.fit_transform(x),columns=x.columns)  #x is df without Churn\n",
    "x"
   ]
  },
  {
   "cell_type": "markdown",
   "id": "cad1baa0",
   "metadata": {},
   "source": [
    "#### Checking Variance Inflation Factor(VIF)"
   ]
  },
  {
   "cell_type": "code",
   "execution_count": 77,
   "id": "0e45b516",
   "metadata": {},
   "outputs": [
    {
     "data": {
      "text/html": [
       "<div>\n",
       "<style scoped>\n",
       "    .dataframe tbody tr th:only-of-type {\n",
       "        vertical-align: middle;\n",
       "    }\n",
       "\n",
       "    .dataframe tbody tr th {\n",
       "        vertical-align: top;\n",
       "    }\n",
       "\n",
       "    .dataframe thead th {\n",
       "        text-align: right;\n",
       "    }\n",
       "</style>\n",
       "<table border=\"1\" class=\"dataframe\">\n",
       "  <thead>\n",
       "    <tr style=\"text-align: right;\">\n",
       "      <th></th>\n",
       "      <th>VIF values</th>\n",
       "      <th>Features</th>\n",
       "    </tr>\n",
       "  </thead>\n",
       "  <tbody>\n",
       "    <tr>\n",
       "      <th>0</th>\n",
       "      <td>1.830654</td>\n",
       "      <td>Country</td>\n",
       "    </tr>\n",
       "    <tr>\n",
       "      <th>1</th>\n",
       "      <td>1.007031</td>\n",
       "      <td>Restaurant Name</td>\n",
       "    </tr>\n",
       "    <tr>\n",
       "      <th>2</th>\n",
       "      <td>1.058521</td>\n",
       "      <td>City</td>\n",
       "    </tr>\n",
       "    <tr>\n",
       "      <th>3</th>\n",
       "      <td>1.046902</td>\n",
       "      <td>Locality</td>\n",
       "    </tr>\n",
       "    <tr>\n",
       "      <th>4</th>\n",
       "      <td>1.031725</td>\n",
       "      <td>Cuisines</td>\n",
       "    </tr>\n",
       "    <tr>\n",
       "      <th>5</th>\n",
       "      <td>2.283807</td>\n",
       "      <td>Average Cost for two</td>\n",
       "    </tr>\n",
       "    <tr>\n",
       "      <th>6</th>\n",
       "      <td>1.091263</td>\n",
       "      <td>Currency</td>\n",
       "    </tr>\n",
       "    <tr>\n",
       "      <th>7</th>\n",
       "      <td>1.518862</td>\n",
       "      <td>Has Table booking</td>\n",
       "    </tr>\n",
       "    <tr>\n",
       "      <th>8</th>\n",
       "      <td>1.115239</td>\n",
       "      <td>Has Online delivery</td>\n",
       "    </tr>\n",
       "    <tr>\n",
       "      <th>9</th>\n",
       "      <td>1.012491</td>\n",
       "      <td>Is delivering now</td>\n",
       "    </tr>\n",
       "    <tr>\n",
       "      <th>10</th>\n",
       "      <td>1.373796</td>\n",
       "      <td>Aggregate rating</td>\n",
       "    </tr>\n",
       "  </tbody>\n",
       "</table>\n",
       "</div>"
      ],
      "text/plain": [
       "    VIF values              Features\n",
       "0     1.830654               Country\n",
       "1     1.007031       Restaurant Name\n",
       "2     1.058521                  City\n",
       "3     1.046902              Locality\n",
       "4     1.031725              Cuisines\n",
       "5     2.283807  Average Cost for two\n",
       "6     1.091263              Currency\n",
       "7     1.518862     Has Table booking\n",
       "8     1.115239   Has Online delivery\n",
       "9     1.012491     Is delivering now\n",
       "10    1.373796      Aggregate rating"
      ]
     },
     "execution_count": 77,
     "metadata": {},
     "output_type": "execute_result"
    }
   ],
   "source": [
    "from statsmodels.stats.outliers_influence import variance_inflation_factor\n",
    "vif=pd.DataFrame()\n",
    "vif[\"VIF values\"]=[variance_inflation_factor(x.values,i)for i in range(len(x.columns))]\n",
    "vif[\"Features\"]=x.columns\n",
    "vif"
   ]
  },
  {
   "cell_type": "code",
   "execution_count": 78,
   "id": "e1e03fe7",
   "metadata": {},
   "outputs": [],
   "source": [
    "#VIF for all the columns is under control. VIF below 10 is acceptable"
   ]
  },
  {
   "cell_type": "code",
   "execution_count": 79,
   "id": "97a8704b",
   "metadata": {},
   "outputs": [
    {
     "data": {
      "text/plain": [
       "1    4444\n",
       "2    3112\n",
       "3    1388\n",
       "4     586\n",
       "Name: Price range, dtype: int64"
      ]
     },
     "execution_count": 79,
     "metadata": {},
     "output_type": "execute_result"
    }
   ],
   "source": [
    "y.value_counts()"
   ]
  },
  {
   "cell_type": "markdown",
   "id": "2793ca3e",
   "metadata": {},
   "source": [
    "#Here we can see that data is not balance since there is classification problem and the model can give priority to higher data resulting in biased analysis. Now we will balance the target variable data using oversampling method"
   ]
  },
  {
   "cell_type": "markdown",
   "id": "6c898a2d",
   "metadata": {},
   "source": [
    "#### Oversampling"
   ]
  },
  {
   "cell_type": "code",
   "execution_count": 80,
   "id": "dfe15f4b",
   "metadata": {},
   "outputs": [
    {
     "name": "stdout",
     "output_type": "stream",
     "text": [
      "Requirement already satisfied: imblearn in c:\\users\\hp\\anaconda3\\lib\\site-packages (0.0)\n",
      "Requirement already satisfied: imbalanced-learn in c:\\users\\hp\\anaconda3\\lib\\site-packages (from imblearn) (0.10.1)\n",
      "Requirement already satisfied: scipy>=1.3.2 in c:\\users\\hp\\anaconda3\\lib\\site-packages (from imbalanced-learn->imblearn) (1.7.3)\n",
      "Requirement already satisfied: threadpoolctl>=2.0.0 in c:\\users\\hp\\anaconda3\\lib\\site-packages (from imbalanced-learn->imblearn) (2.2.0)\n",
      "Requirement already satisfied: scikit-learn>=1.0.2 in c:\\users\\hp\\anaconda3\\lib\\site-packages (from imbalanced-learn->imblearn) (1.2.2)\n",
      "Requirement already satisfied: joblib>=1.1.1 in c:\\users\\hp\\anaconda3\\lib\\site-packages (from imbalanced-learn->imblearn) (1.2.0)\n",
      "Requirement already satisfied: numpy>=1.17.3 in c:\\users\\hp\\anaconda3\\lib\\site-packages (from imbalanced-learn->imblearn) (1.21.5)\n"
     ]
    }
   ],
   "source": [
    "!pip install imblearn"
   ]
  },
  {
   "cell_type": "code",
   "execution_count": 81,
   "id": "f407f7fd",
   "metadata": {},
   "outputs": [],
   "source": [
    "from imblearn.over_sampling import SMOTE\n",
    "SM=SMOTE()\n",
    "x,y=SM.fit_resample(x,y)"
   ]
  },
  {
   "cell_type": "code",
   "execution_count": 82,
   "id": "169e9372",
   "metadata": {},
   "outputs": [
    {
     "data": {
      "text/plain": [
       "3    4444\n",
       "2    4444\n",
       "4    4444\n",
       "1    4444\n",
       "Name: Price range, dtype: int64"
      ]
     },
     "execution_count": 82,
     "metadata": {},
     "output_type": "execute_result"
    }
   ],
   "source": [
    "y.value_counts()"
   ]
  },
  {
   "cell_type": "markdown",
   "id": "0630812f",
   "metadata": {},
   "source": [
    "#### Modelling"
   ]
  },
  {
   "cell_type": "code",
   "execution_count": 83,
   "id": "3d7409f1",
   "metadata": {},
   "outputs": [],
   "source": [
    "#Importing necessary libraries\n",
    "\n",
    "\n",
    "\n",
    "from sklearn.model_selection import train_test_split\n",
    "from sklearn.ensemble import RandomForestClassifier\n",
    "from sklearn.metrics import accuracy_score"
   ]
  },
  {
   "cell_type": "code",
   "execution_count": 84,
   "id": "862097e2",
   "metadata": {},
   "outputs": [
    {
     "name": "stdout",
     "output_type": "stream",
     "text": [
      "Best accuracy is 0.9900618788674292 at random_state 52\n"
     ]
    }
   ],
   "source": [
    "maxAccu=0\n",
    "maxRS=0\n",
    "for i in range(1,200):\n",
    "    x_train,x_test,y_train,y_test=train_test_split(x,y,test_size=0.30,random_state=i)\n",
    "    RFR=RandomForestClassifier()\n",
    "    RFR.fit(x_train,y_train)\n",
    "    pred=RFR.predict(x_test)\n",
    "    acc=accuracy_score(y_test,pred)\n",
    "    if acc>maxAccu:\n",
    "        maxAccu=acc\n",
    "        maxRS=i\n",
    "print(\"Best accuracy is\",maxAccu,\"at random_state\",maxRS)\n"
   ]
  },
  {
   "cell_type": "code",
   "execution_count": 85,
   "id": "3e8bb67e",
   "metadata": {},
   "outputs": [],
   "source": [
    "x_train,x_test,y_train,y_test=train_test_split(x,y,test_size=0.30,random_state=maxRS)"
   ]
  },
  {
   "cell_type": "code",
   "execution_count": 86,
   "id": "4d04233a",
   "metadata": {},
   "outputs": [],
   "source": [
    "#Importing all the classification libraries\n",
    "\n",
    "from sklearn.ensemble import RandomForestClassifier,ExtraTreesClassifier\n",
    "from sklearn.linear_model import LogisticRegression\n",
    "from sklearn.svm import SVC\n",
    "from sklearn.ensemble import GradientBoostingClassifier,AdaBoostClassifier,BaggingClassifier\n",
    "from sklearn.metrics import classification_report, confusion_matrix, roc_curve, accuracy_score\n",
    "from sklearn.model_selection import cross_val_score"
   ]
  },
  {
   "cell_type": "code",
   "execution_count": 87,
   "id": "c32e540c",
   "metadata": {},
   "outputs": [
    {
     "name": "stdout",
     "output_type": "stream",
     "text": [
      "0.988749296831052\n",
      "[[1292    6    0    0]\n",
      " [  11 1327    9    1]\n",
      " [   0    8 1302   11]\n",
      " [   0    0   14 1352]]\n",
      "              precision    recall  f1-score   support\n",
      "\n",
      "           1       0.99      1.00      0.99      1298\n",
      "           2       0.99      0.98      0.99      1348\n",
      "           3       0.98      0.99      0.98      1321\n",
      "           4       0.99      0.99      0.99      1366\n",
      "\n",
      "    accuracy                           0.99      5333\n",
      "   macro avg       0.99      0.99      0.99      5333\n",
      "weighted avg       0.99      0.99      0.99      5333\n",
      "\n"
     ]
    }
   ],
   "source": [
    "#Checking accuracy for Random Forest Classifier\n",
    "\n",
    "RFC=RandomForestClassifier()\n",
    "RFC.fit(x_train,y_train)\n",
    "predRFC=RFC.predict(x_test)\n",
    "print(accuracy_score(y_test,predRFC))\n",
    "print(confusion_matrix(y_test,predRFC))\n",
    "print(classification_report(y_test,predRFC))"
   ]
  },
  {
   "cell_type": "code",
   "execution_count": 88,
   "id": "5e08dfa6",
   "metadata": {},
   "outputs": [],
   "source": [
    "#My accuracy for this model is 99%"
   ]
  },
  {
   "cell_type": "code",
   "execution_count": 89,
   "id": "3f55445e",
   "metadata": {},
   "outputs": [
    {
     "name": "stdout",
     "output_type": "stream",
     "text": [
      "0.6649165572848303\n",
      "[[1025  246   26    1]\n",
      " [ 147  935  226   40]\n",
      " [  75  195  639  412]\n",
      " [ 136   41  242  947]]\n",
      "              precision    recall  f1-score   support\n",
      "\n",
      "           1       0.74      0.79      0.76      1298\n",
      "           2       0.66      0.69      0.68      1348\n",
      "           3       0.56      0.48      0.52      1321\n",
      "           4       0.68      0.69      0.68      1366\n",
      "\n",
      "    accuracy                           0.66      5333\n",
      "   macro avg       0.66      0.67      0.66      5333\n",
      "weighted avg       0.66      0.66      0.66      5333\n",
      "\n"
     ]
    }
   ],
   "source": [
    "#Checking accuracy for logistic regression model\n",
    "\n",
    "LR=LogisticRegression()\n",
    "LR.fit(x_train,y_train)\n",
    "predLR=LR.predict(x_test)\n",
    "print(accuracy_score(y_test,predLR))\n",
    "print(confusion_matrix(y_test,predLR))\n",
    "print(classification_report(y_test,predLR))"
   ]
  },
  {
   "cell_type": "code",
   "execution_count": 90,
   "id": "ae8547e6",
   "metadata": {},
   "outputs": [],
   "source": [
    "#My accuracy for this model is 66%"
   ]
  },
  {
   "cell_type": "code",
   "execution_count": 91,
   "id": "520b1f68",
   "metadata": {},
   "outputs": [
    {
     "name": "stdout",
     "output_type": "stream",
     "text": [
      "0.924245265329083\n",
      "[[1232   62    4    0]\n",
      " [  13 1224  108    3]\n",
      " [   0   43 1187   91]\n",
      " [   2    1   77 1286]]\n",
      "              precision    recall  f1-score   support\n",
      "\n",
      "           1       0.99      0.95      0.97      1298\n",
      "           2       0.92      0.91      0.91      1348\n",
      "           3       0.86      0.90      0.88      1321\n",
      "           4       0.93      0.94      0.94      1366\n",
      "\n",
      "    accuracy                           0.92      5333\n",
      "   macro avg       0.93      0.92      0.92      5333\n",
      "weighted avg       0.93      0.92      0.92      5333\n",
      "\n"
     ]
    }
   ],
   "source": [
    "#Checking accuracy for support vector machine classifier\n",
    "\n",
    "svc=SVC()\n",
    "svc.fit(x_train,y_train)\n",
    "predsvc=svc.predict(x_test)\n",
    "print(accuracy_score(y_test,predsvc))\n",
    "print(confusion_matrix(y_test,predsvc))\n",
    "print(classification_report(y_test,predsvc))"
   ]
  },
  {
   "cell_type": "code",
   "execution_count": 92,
   "id": "87e84bc1",
   "metadata": {},
   "outputs": [],
   "source": [
    "#My accuracy for this model is 92%"
   ]
  },
  {
   "cell_type": "code",
   "execution_count": 93,
   "id": "9f0afdc3",
   "metadata": {},
   "outputs": [
    {
     "name": "stdout",
     "output_type": "stream",
     "text": [
      "0.9673729608100506\n",
      "[[1294    3    1    0]\n",
      " [  12 1325   11    0]\n",
      " [   0   43 1237   41]\n",
      " [   0    0   63 1303]]\n",
      "              precision    recall  f1-score   support\n",
      "\n",
      "           1       0.99      1.00      0.99      1298\n",
      "           2       0.97      0.98      0.97      1348\n",
      "           3       0.94      0.94      0.94      1321\n",
      "           4       0.97      0.95      0.96      1366\n",
      "\n",
      "    accuracy                           0.97      5333\n",
      "   macro avg       0.97      0.97      0.97      5333\n",
      "weighted avg       0.97      0.97      0.97      5333\n",
      "\n"
     ]
    }
   ],
   "source": [
    "#Checking accuracy for Gradient Boosting Classifier\n",
    "\n",
    "GB=GradientBoostingClassifier()\n",
    "GB.fit(x_train,y_train)\n",
    "predGB=GB.predict(x_test)\n",
    "print(accuracy_score(y_test,predGB))\n",
    "print(confusion_matrix(y_test,predGB))\n",
    "print(classification_report(y_test,predGB))"
   ]
  },
  {
   "cell_type": "code",
   "execution_count": 94,
   "id": "2d5ebe50",
   "metadata": {},
   "outputs": [],
   "source": [
    "#My accuracy for this model is 97%"
   ]
  },
  {
   "cell_type": "code",
   "execution_count": 95,
   "id": "5da1594c",
   "metadata": {},
   "outputs": [
    {
     "name": "stdout",
     "output_type": "stream",
     "text": [
      "0.5529720607537971\n",
      "[[1256   42    0    0]\n",
      " [  33 1218   96    1]\n",
      " [   0 1078  194   49]\n",
      " [   0  976  109  281]]\n",
      "              precision    recall  f1-score   support\n",
      "\n",
      "           1       0.97      0.97      0.97      1298\n",
      "           2       0.37      0.90      0.52      1348\n",
      "           3       0.49      0.15      0.23      1321\n",
      "           4       0.85      0.21      0.33      1366\n",
      "\n",
      "    accuracy                           0.55      5333\n",
      "   macro avg       0.67      0.56      0.51      5333\n",
      "weighted avg       0.67      0.55      0.51      5333\n",
      "\n"
     ]
    }
   ],
   "source": [
    "#Checking accuracy for Ada Boost Classifier\n",
    "\n",
    "ABC=AdaBoostClassifier()\n",
    "ABC.fit(x_train,y_train)\n",
    "predABC=ABC.predict(x_test)\n",
    "print(accuracy_score(y_test,predABC))\n",
    "print(confusion_matrix(y_test,predABC))\n",
    "print(classification_report(y_test,predABC))"
   ]
  },
  {
   "cell_type": "code",
   "execution_count": 96,
   "id": "6fc64849",
   "metadata": {},
   "outputs": [],
   "source": [
    "#My accuracy for this model is 55%"
   ]
  },
  {
   "cell_type": "code",
   "execution_count": 97,
   "id": "6f555a04",
   "metadata": {},
   "outputs": [
    {
     "name": "stdout",
     "output_type": "stream",
     "text": [
      "0.9840615038439903\n",
      "[[1294    4    0    0]\n",
      " [   7 1331    9    1]\n",
      " [   0   20 1282   19]\n",
      " [   0    0   25 1341]]\n",
      "              precision    recall  f1-score   support\n",
      "\n",
      "           1       0.99      1.00      1.00      1298\n",
      "           2       0.98      0.99      0.98      1348\n",
      "           3       0.97      0.97      0.97      1321\n",
      "           4       0.99      0.98      0.98      1366\n",
      "\n",
      "    accuracy                           0.98      5333\n",
      "   macro avg       0.98      0.98      0.98      5333\n",
      "weighted avg       0.98      0.98      0.98      5333\n",
      "\n"
     ]
    }
   ],
   "source": [
    "#Checking accuracy for Bagging Classifier\n",
    "\n",
    "BC=BaggingClassifier()\n",
    "BC.fit(x_train,y_train)\n",
    "predBC=BC.predict(x_test)\n",
    "print(accuracy_score(y_test,predBC))\n",
    "print(confusion_matrix(y_test,predBC))\n",
    "print(classification_report(y_test,predBC))"
   ]
  },
  {
   "cell_type": "code",
   "execution_count": 98,
   "id": "0a20fc38",
   "metadata": {},
   "outputs": [],
   "source": [
    "#My accuracy for this model is 98%"
   ]
  },
  {
   "cell_type": "code",
   "execution_count": 99,
   "id": "62ef441f",
   "metadata": {},
   "outputs": [
    {
     "name": "stdout",
     "output_type": "stream",
     "text": [
      "0.9864991561972624\n",
      "[[1286   11    1    0]\n",
      " [   9 1320   17    2]\n",
      " [   0   13 1296   12]\n",
      " [   0    0    7 1359]]\n",
      "              precision    recall  f1-score   support\n",
      "\n",
      "           1       0.99      0.99      0.99      1298\n",
      "           2       0.98      0.98      0.98      1348\n",
      "           3       0.98      0.98      0.98      1321\n",
      "           4       0.99      0.99      0.99      1366\n",
      "\n",
      "    accuracy                           0.99      5333\n",
      "   macro avg       0.99      0.99      0.99      5333\n",
      "weighted avg       0.99      0.99      0.99      5333\n",
      "\n"
     ]
    }
   ],
   "source": [
    "#Checking accuracy for ExtraTrees Classifier\n",
    "\n",
    "ET=ExtraTreesClassifier()\n",
    "ET.fit(x_train,y_train)\n",
    "predET=ET.predict(x_test)\n",
    "print(accuracy_score(y_test,predET))\n",
    "print(confusion_matrix(y_test,predET))\n",
    "print(classification_report(y_test,predET))"
   ]
  },
  {
   "cell_type": "code",
   "execution_count": 100,
   "id": "16efbaa3",
   "metadata": {},
   "outputs": [],
   "source": [
    "#My accuracy for this model is 99%"
   ]
  },
  {
   "cell_type": "markdown",
   "id": "b0e3ffe4",
   "metadata": {},
   "source": [
    "#### Cross Validation Score"
   ]
  },
  {
   "cell_type": "code",
   "execution_count": 101,
   "id": "51af6f74",
   "metadata": {},
   "outputs": [],
   "source": [
    "from sklearn.model_selection import cross_val_score"
   ]
  },
  {
   "cell_type": "code",
   "execution_count": 102,
   "id": "4a8ead9e",
   "metadata": {},
   "outputs": [
    {
     "name": "stdout",
     "output_type": "stream",
     "text": [
      "[0.84223847 0.98424754 0.99437412 0.96624473 0.94571027]\n",
      "0.9465630245586389\n",
      "Difference between Accuracy score and Cross validation score is: 0.042186272272413006\n"
     ]
    }
   ],
   "source": [
    "#Checking cv score for Random Forest Classifier\n",
    "\n",
    "score=cross_val_score(RFC,x,y) \n",
    "print(score)  \n",
    "print(score.mean())   \n",
    "print(\"Difference between Accuracy score and Cross validation score is:\",accuracy_score(y_test,predRFC)-score.mean()) "
   ]
  },
  {
   "cell_type": "code",
   "execution_count": 103,
   "id": "6358bc4d",
   "metadata": {},
   "outputs": [
    {
     "name": "stdout",
     "output_type": "stream",
     "text": [
      "[0.64623172 0.61603376 0.70070323 0.61490858 0.66582278]\n",
      "0.6487400150930501\n",
      "Difference between Accuracy score and Cross validation score is: 0.01617654219178022\n"
     ]
    }
   ],
   "source": [
    "#Checking cv score for Logistic Regression\n",
    "\n",
    "score=cross_val_score(LR,x,y)  \n",
    "print(score)\n",
    "print(score.mean())   \n",
    "print(\"Difference between Accuracy score and Cross validation score is:\",accuracy_score(y_test,predLR)-score.mean()) "
   ]
  },
  {
   "cell_type": "code",
   "execution_count": 105,
   "id": "670625e2",
   "metadata": {},
   "outputs": [
    {
     "name": "stdout",
     "output_type": "stream",
     "text": [
      "[0.88357705 0.91448664 0.95386779 0.86554149 0.89198312]\n",
      "0.9018912192937908\n",
      "Difference between Accuracy score and Cross validation score is: 0.02235404603529223\n"
     ]
    }
   ],
   "source": [
    "#Checking cv score for Support Vector Machine Classifier\n",
    "\n",
    "score=cross_val_score(svc,x,y)  \n",
    "print(score)\n",
    "print(score.mean())   \n",
    "print(\"Difference between Accuracy score and Cross validation score is:\",accuracy_score(y_test,predsvc)-score.mean()) "
   ]
  },
  {
   "cell_type": "code",
   "execution_count": 106,
   "id": "20acf6c1",
   "metadata": {},
   "outputs": [
    {
     "name": "stdout",
     "output_type": "stream",
     "text": [
      "[0.75646794 0.67651195 0.74177215 0.52911392 0.69001406]\n",
      "0.6787760074294511\n",
      "Difference between Accuracy score and Cross validation score is: -0.12580394667565398\n"
     ]
    }
   ],
   "source": [
    "#Checking cv score for Ada Boosting Classifier\n",
    "\n",
    "score=cross_val_score(ABC,x,y)  \n",
    "print(score)\n",
    "print(score.mean())   \n",
    "print(\"Difference between Accuracy score and Cross validation score is:\",accuracy_score(y_test,predABC)-score.mean()) "
   ]
  },
  {
   "cell_type": "code",
   "execution_count": 107,
   "id": "a30f9c8e",
   "metadata": {},
   "outputs": [
    {
     "name": "stdout",
     "output_type": "stream",
     "text": [
      "[0.79696288 0.98368495 0.99184248 0.9676512  0.93895921]\n",
      "0.9358201427353225\n",
      "Difference between Accuracy score and Cross validation score is: 0.048241361108667724\n"
     ]
    }
   ],
   "source": [
    "#Checking cv score for Bagging Classifier\n",
    "\n",
    "score=cross_val_score(BC,x,y)  \n",
    "print(score)\n",
    "print(score.mean())   \n",
    "print(\"Difference between Accuracy score and Cross validation score is:\",accuracy_score(y_test,predBC)-score.mean()) "
   ]
  },
  {
   "cell_type": "code",
   "execution_count": 108,
   "id": "cd456ab9",
   "metadata": {},
   "outputs": [
    {
     "name": "stdout",
     "output_type": "stream",
     "text": [
      "[0.80989876 0.98115331 0.99043601 0.9628692  0.93839662]\n",
      "0.9365507792538592\n",
      "Difference between Accuracy score and Cross validation score is: 0.04994837694340315\n"
     ]
    }
   ],
   "source": [
    "#Checking cv score for Extra Trees Classifier\n",
    "\n",
    "score=cross_val_score(ET,x,y)  \n",
    "print(score)\n",
    "print(score.mean())   \n",
    "\n",
    "print(\"Difference between Accuracy score and Cross validation score is:\",accuracy_score(y_test,predET)-score.mean())"
   ]
  },
  {
   "cell_type": "markdown",
   "id": "b485bf3e",
   "metadata": {},
   "source": [
    "#Here the Logistic Regression is the best performing model because the Difference between Accuracy score and Cross validation score is the least here"
   ]
  },
  {
   "cell_type": "markdown",
   "id": "06b24255",
   "metadata": {},
   "source": [
    "### Hyper Parameter Tuning"
   ]
  },
  {
   "cell_type": "code",
   "execution_count": 109,
   "id": "667f9189",
   "metadata": {},
   "outputs": [
    {
     "name": "stdout",
     "output_type": "stream",
     "text": [
      "Requirement already satisfied: sklearn.model in c:\\users\\hp\\anaconda3\\lib\\site-packages (0.0.6)\n",
      "Requirement already satisfied: scikit-learn>=0.22 in c:\\users\\hp\\anaconda3\\lib\\site-packages (from sklearn.model) (1.2.2)\n",
      "Requirement already satisfied: pandas in c:\\users\\hp\\anaconda3\\lib\\site-packages (from sklearn.model) (1.4.2)\n",
      "Requirement already satisfied: joblib>=1.1.1 in c:\\users\\hp\\anaconda3\\lib\\site-packages (from scikit-learn>=0.22->sklearn.model) (1.2.0)\n",
      "Requirement already satisfied: threadpoolctl>=2.0.0 in c:\\users\\hp\\anaconda3\\lib\\site-packages (from scikit-learn>=0.22->sklearn.model) (2.2.0)\n",
      "Requirement already satisfied: scipy>=1.3.2 in c:\\users\\hp\\anaconda3\\lib\\site-packages (from scikit-learn>=0.22->sklearn.model) (1.7.3)\n",
      "Requirement already satisfied: numpy>=1.17.3 in c:\\users\\hp\\anaconda3\\lib\\site-packages (from scikit-learn>=0.22->sklearn.model) (1.21.5)\n",
      "Requirement already satisfied: pytz>=2020.1 in c:\\users\\hp\\anaconda3\\lib\\site-packages (from pandas->sklearn.model) (2021.3)\n",
      "Requirement already satisfied: python-dateutil>=2.8.1 in c:\\users\\hp\\anaconda3\\lib\\site-packages (from pandas->sklearn.model) (2.8.2)\n",
      "Requirement already satisfied: six>=1.5 in c:\\users\\hp\\anaconda3\\lib\\site-packages (from python-dateutil>=2.8.1->pandas->sklearn.model) (1.16.0)\n"
     ]
    }
   ],
   "source": [
    "!pip install sklearn.model"
   ]
  },
  {
   "cell_type": "code",
   "execution_count": 110,
   "id": "4230f29f",
   "metadata": {},
   "outputs": [],
   "source": [
    "from sklearn.model_selection import GridSearchCV"
   ]
  },
  {
   "cell_type": "code",
   "execution_count": 114,
   "id": "ab8383ff",
   "metadata": {},
   "outputs": [],
   "source": [
    "parameters={'penalty':['l1', 'l2', 'elasticnet', None],\n",
    "           'random_state': [10,50,1000],\n",
    "           'n_jobs':[-2,-1,1],\n",
    "           'dual':[True,False],\n",
    "           'fit_intercept':[True,False]} "
   ]
  },
  {
   "cell_type": "code",
   "execution_count": 115,
   "id": "e2353b3b",
   "metadata": {},
   "outputs": [],
   "source": [
    "GCV=GridSearchCV(LogisticRegression(),parameters,cv=5)"
   ]
  },
  {
   "cell_type": "code",
   "execution_count": 116,
   "id": "557f157c",
   "metadata": {},
   "outputs": [
    {
     "data": {
      "text/html": [
       "<style>#sk-container-id-1 {color: black;background-color: white;}#sk-container-id-1 pre{padding: 0;}#sk-container-id-1 div.sk-toggleable {background-color: white;}#sk-container-id-1 label.sk-toggleable__label {cursor: pointer;display: block;width: 100%;margin-bottom: 0;padding: 0.3em;box-sizing: border-box;text-align: center;}#sk-container-id-1 label.sk-toggleable__label-arrow:before {content: \"▸\";float: left;margin-right: 0.25em;color: #696969;}#sk-container-id-1 label.sk-toggleable__label-arrow:hover:before {color: black;}#sk-container-id-1 div.sk-estimator:hover label.sk-toggleable__label-arrow:before {color: black;}#sk-container-id-1 div.sk-toggleable__content {max-height: 0;max-width: 0;overflow: hidden;text-align: left;background-color: #f0f8ff;}#sk-container-id-1 div.sk-toggleable__content pre {margin: 0.2em;color: black;border-radius: 0.25em;background-color: #f0f8ff;}#sk-container-id-1 input.sk-toggleable__control:checked~div.sk-toggleable__content {max-height: 200px;max-width: 100%;overflow: auto;}#sk-container-id-1 input.sk-toggleable__control:checked~label.sk-toggleable__label-arrow:before {content: \"▾\";}#sk-container-id-1 div.sk-estimator input.sk-toggleable__control:checked~label.sk-toggleable__label {background-color: #d4ebff;}#sk-container-id-1 div.sk-label input.sk-toggleable__control:checked~label.sk-toggleable__label {background-color: #d4ebff;}#sk-container-id-1 input.sk-hidden--visually {border: 0;clip: rect(1px 1px 1px 1px);clip: rect(1px, 1px, 1px, 1px);height: 1px;margin: -1px;overflow: hidden;padding: 0;position: absolute;width: 1px;}#sk-container-id-1 div.sk-estimator {font-family: monospace;background-color: #f0f8ff;border: 1px dotted black;border-radius: 0.25em;box-sizing: border-box;margin-bottom: 0.5em;}#sk-container-id-1 div.sk-estimator:hover {background-color: #d4ebff;}#sk-container-id-1 div.sk-parallel-item::after {content: \"\";width: 100%;border-bottom: 1px solid gray;flex-grow: 1;}#sk-container-id-1 div.sk-label:hover label.sk-toggleable__label {background-color: #d4ebff;}#sk-container-id-1 div.sk-serial::before {content: \"\";position: absolute;border-left: 1px solid gray;box-sizing: border-box;top: 0;bottom: 0;left: 50%;z-index: 0;}#sk-container-id-1 div.sk-serial {display: flex;flex-direction: column;align-items: center;background-color: white;padding-right: 0.2em;padding-left: 0.2em;position: relative;}#sk-container-id-1 div.sk-item {position: relative;z-index: 1;}#sk-container-id-1 div.sk-parallel {display: flex;align-items: stretch;justify-content: center;background-color: white;position: relative;}#sk-container-id-1 div.sk-item::before, #sk-container-id-1 div.sk-parallel-item::before {content: \"\";position: absolute;border-left: 1px solid gray;box-sizing: border-box;top: 0;bottom: 0;left: 50%;z-index: -1;}#sk-container-id-1 div.sk-parallel-item {display: flex;flex-direction: column;z-index: 1;position: relative;background-color: white;}#sk-container-id-1 div.sk-parallel-item:first-child::after {align-self: flex-end;width: 50%;}#sk-container-id-1 div.sk-parallel-item:last-child::after {align-self: flex-start;width: 50%;}#sk-container-id-1 div.sk-parallel-item:only-child::after {width: 0;}#sk-container-id-1 div.sk-dashed-wrapped {border: 1px dashed gray;margin: 0 0.4em 0.5em 0.4em;box-sizing: border-box;padding-bottom: 0.4em;background-color: white;}#sk-container-id-1 div.sk-label label {font-family: monospace;font-weight: bold;display: inline-block;line-height: 1.2em;}#sk-container-id-1 div.sk-label-container {text-align: center;}#sk-container-id-1 div.sk-container {/* jupyter's `normalize.less` sets `[hidden] { display: none; }` but bootstrap.min.css set `[hidden] { display: none !important; }` so we also need the `!important` here to be able to override the default hidden behavior on the sphinx rendered scikit-learn.org. See: https://github.com/scikit-learn/scikit-learn/issues/21755 */display: inline-block !important;position: relative;}#sk-container-id-1 div.sk-text-repr-fallback {display: none;}</style><div id=\"sk-container-id-1\" class=\"sk-top-container\"><div class=\"sk-text-repr-fallback\"><pre>GridSearchCV(cv=5, estimator=LogisticRegression(),\n",
       "             param_grid={&#x27;dual&#x27;: [True, False], &#x27;fit_intercept&#x27;: [True, False],\n",
       "                         &#x27;n_jobs&#x27;: [-2, -1, 1],\n",
       "                         &#x27;penalty&#x27;: [&#x27;l1&#x27;, &#x27;l2&#x27;, &#x27;elasticnet&#x27;, None],\n",
       "                         &#x27;random_state&#x27;: [10, 50, 1000]})</pre><b>In a Jupyter environment, please rerun this cell to show the HTML representation or trust the notebook. <br />On GitHub, the HTML representation is unable to render, please try loading this page with nbviewer.org.</b></div><div class=\"sk-container\" hidden><div class=\"sk-item sk-dashed-wrapped\"><div class=\"sk-label-container\"><div class=\"sk-label sk-toggleable\"><input class=\"sk-toggleable__control sk-hidden--visually\" id=\"sk-estimator-id-1\" type=\"checkbox\" ><label for=\"sk-estimator-id-1\" class=\"sk-toggleable__label sk-toggleable__label-arrow\">GridSearchCV</label><div class=\"sk-toggleable__content\"><pre>GridSearchCV(cv=5, estimator=LogisticRegression(),\n",
       "             param_grid={&#x27;dual&#x27;: [True, False], &#x27;fit_intercept&#x27;: [True, False],\n",
       "                         &#x27;n_jobs&#x27;: [-2, -1, 1],\n",
       "                         &#x27;penalty&#x27;: [&#x27;l1&#x27;, &#x27;l2&#x27;, &#x27;elasticnet&#x27;, None],\n",
       "                         &#x27;random_state&#x27;: [10, 50, 1000]})</pre></div></div></div><div class=\"sk-parallel\"><div class=\"sk-parallel-item\"><div class=\"sk-item\"><div class=\"sk-label-container\"><div class=\"sk-label sk-toggleable\"><input class=\"sk-toggleable__control sk-hidden--visually\" id=\"sk-estimator-id-2\" type=\"checkbox\" ><label for=\"sk-estimator-id-2\" class=\"sk-toggleable__label sk-toggleable__label-arrow\">estimator: LogisticRegression</label><div class=\"sk-toggleable__content\"><pre>LogisticRegression()</pre></div></div></div><div class=\"sk-serial\"><div class=\"sk-item\"><div class=\"sk-estimator sk-toggleable\"><input class=\"sk-toggleable__control sk-hidden--visually\" id=\"sk-estimator-id-3\" type=\"checkbox\" ><label for=\"sk-estimator-id-3\" class=\"sk-toggleable__label sk-toggleable__label-arrow\">LogisticRegression</label><div class=\"sk-toggleable__content\"><pre>LogisticRegression()</pre></div></div></div></div></div></div></div></div></div></div>"
      ],
      "text/plain": [
       "GridSearchCV(cv=5, estimator=LogisticRegression(),\n",
       "             param_grid={'dual': [True, False], 'fit_intercept': [True, False],\n",
       "                         'n_jobs': [-2, -1, 1],\n",
       "                         'penalty': ['l1', 'l2', 'elasticnet', None],\n",
       "                         'random_state': [10, 50, 1000]})"
      ]
     },
     "execution_count": 116,
     "metadata": {},
     "output_type": "execute_result"
    }
   ],
   "source": [
    "GCV.fit(x_train,y_train)"
   ]
  },
  {
   "cell_type": "code",
   "execution_count": 117,
   "id": "2ec90dea",
   "metadata": {},
   "outputs": [
    {
     "data": {
      "text/plain": [
       "{'dual': False,\n",
       " 'fit_intercept': True,\n",
       " 'n_jobs': -2,\n",
       " 'penalty': None,\n",
       " 'random_state': 10}"
      ]
     },
     "execution_count": 117,
     "metadata": {},
     "output_type": "execute_result"
    }
   ],
   "source": [
    "GCV.best_params_"
   ]
  },
  {
   "cell_type": "code",
   "execution_count": 119,
   "id": "95f3e417",
   "metadata": {},
   "outputs": [
    {
     "name": "stdout",
     "output_type": "stream",
     "text": [
      "66.51040690043128\n"
     ]
    }
   ],
   "source": [
    "Final_model=LogisticRegression(dual= False,\n",
    " fit_intercept= True,\n",
    " n_jobs= -2,\n",
    " penalty= None,\n",
    " random_state= 10)\n",
    "Final_model.fit(x_train,y_train)\n",
    "pred=Final_model.predict(x_test)\n",
    "acc=accuracy_score(y_test,pred)\n",
    "print(acc*100)"
   ]
  },
  {
   "cell_type": "markdown",
   "id": "6175eb0c",
   "metadata": {},
   "source": [
    "#### Plotting ROC and compare AUC for the best model"
   ]
  },
  {
   "cell_type": "code",
   "execution_count": 120,
   "id": "a51eef28",
   "metadata": {},
   "outputs": [],
   "source": [
    "from sklearn.metrics import roc_auc_score\n",
    "from sklearn.metrics import roc_curve\n",
    "from sklearn.metrics import auc\n"
   ]
  },
  {
   "cell_type": "code",
   "execution_count": 121,
   "id": "893e9c6e",
   "metadata": {},
   "outputs": [
    {
     "ename": "ValueError",
     "evalue": "multiclass format is not supported",
     "output_type": "error",
     "traceback": [
      "\u001b[1;31m---------------------------------------------------------------------------\u001b[0m",
      "\u001b[1;31mValueError\u001b[0m                                Traceback (most recent call last)",
      "Input \u001b[1;32mIn [121]\u001b[0m, in \u001b[0;36m<cell line: 2>\u001b[1;34m()\u001b[0m\n\u001b[0;32m      1\u001b[0m y_pred_prob\u001b[38;5;241m=\u001b[39mFinal_model\u001b[38;5;241m.\u001b[39mpredict_proba(x_test)[:,\u001b[38;5;241m1\u001b[39m]\n\u001b[1;32m----> 2\u001b[0m fpr,tpr,thresholds\u001b[38;5;241m=\u001b[39m\u001b[43mroc_curve\u001b[49m\u001b[43m(\u001b[49m\u001b[43my_test\u001b[49m\u001b[43m,\u001b[49m\u001b[43my_pred_prob\u001b[49m\u001b[43m)\u001b[49m\n\u001b[0;32m      3\u001b[0m roc_auc\u001b[38;5;241m=\u001b[39mauc(fpr,tpr)\n\u001b[0;32m      5\u001b[0m plt\u001b[38;5;241m.\u001b[39mplot([\u001b[38;5;241m0\u001b[39m,\u001b[38;5;241m1\u001b[39m],[\u001b[38;5;241m0\u001b[39m,\u001b[38;5;241m1\u001b[39m],\u001b[38;5;124m'\u001b[39m\u001b[38;5;124mk--\u001b[39m\u001b[38;5;124m'\u001b[39m)\n",
      "File \u001b[1;32m~\\anaconda3\\lib\\site-packages\\sklearn\\metrics\\_ranking.py:992\u001b[0m, in \u001b[0;36mroc_curve\u001b[1;34m(y_true, y_score, pos_label, sample_weight, drop_intermediate)\u001b[0m\n\u001b[0;32m    904\u001b[0m \u001b[38;5;28;01mdef\u001b[39;00m \u001b[38;5;21mroc_curve\u001b[39m(\n\u001b[0;32m    905\u001b[0m     y_true, y_score, \u001b[38;5;241m*\u001b[39m, pos_label\u001b[38;5;241m=\u001b[39m\u001b[38;5;28;01mNone\u001b[39;00m, sample_weight\u001b[38;5;241m=\u001b[39m\u001b[38;5;28;01mNone\u001b[39;00m, drop_intermediate\u001b[38;5;241m=\u001b[39m\u001b[38;5;28;01mTrue\u001b[39;00m\n\u001b[0;32m    906\u001b[0m ):\n\u001b[0;32m    907\u001b[0m     \u001b[38;5;124;03m\"\"\"Compute Receiver operating characteristic (ROC).\u001b[39;00m\n\u001b[0;32m    908\u001b[0m \n\u001b[0;32m    909\u001b[0m \u001b[38;5;124;03m    Note: this implementation is restricted to the binary classification task.\u001b[39;00m\n\u001b[1;32m   (...)\u001b[0m\n\u001b[0;32m    990\u001b[0m \u001b[38;5;124;03m    array([1.8 , 0.8 , 0.4 , 0.35, 0.1 ])\u001b[39;00m\n\u001b[0;32m    991\u001b[0m \u001b[38;5;124;03m    \"\"\"\u001b[39;00m\n\u001b[1;32m--> 992\u001b[0m     fps, tps, thresholds \u001b[38;5;241m=\u001b[39m \u001b[43m_binary_clf_curve\u001b[49m\u001b[43m(\u001b[49m\n\u001b[0;32m    993\u001b[0m \u001b[43m        \u001b[49m\u001b[43my_true\u001b[49m\u001b[43m,\u001b[49m\u001b[43m \u001b[49m\u001b[43my_score\u001b[49m\u001b[43m,\u001b[49m\u001b[43m \u001b[49m\u001b[43mpos_label\u001b[49m\u001b[38;5;241;43m=\u001b[39;49m\u001b[43mpos_label\u001b[49m\u001b[43m,\u001b[49m\u001b[43m \u001b[49m\u001b[43msample_weight\u001b[49m\u001b[38;5;241;43m=\u001b[39;49m\u001b[43msample_weight\u001b[49m\n\u001b[0;32m    994\u001b[0m \u001b[43m    \u001b[49m\u001b[43m)\u001b[49m\n\u001b[0;32m    996\u001b[0m     \u001b[38;5;66;03m# Attempt to drop thresholds corresponding to points in between and\u001b[39;00m\n\u001b[0;32m    997\u001b[0m     \u001b[38;5;66;03m# collinear with other points. These are always suboptimal and do not\u001b[39;00m\n\u001b[0;32m    998\u001b[0m     \u001b[38;5;66;03m# appear on a plotted ROC curve (and thus do not affect the AUC).\u001b[39;00m\n\u001b[1;32m   (...)\u001b[0m\n\u001b[0;32m   1003\u001b[0m     \u001b[38;5;66;03m# but does not drop more complicated cases like fps = [1, 3, 7],\u001b[39;00m\n\u001b[0;32m   1004\u001b[0m     \u001b[38;5;66;03m# tps = [1, 2, 4]; there is no harm in keeping too many thresholds.\u001b[39;00m\n\u001b[0;32m   1005\u001b[0m     \u001b[38;5;28;01mif\u001b[39;00m drop_intermediate \u001b[38;5;129;01mand\u001b[39;00m \u001b[38;5;28mlen\u001b[39m(fps) \u001b[38;5;241m>\u001b[39m \u001b[38;5;241m2\u001b[39m:\n",
      "File \u001b[1;32m~\\anaconda3\\lib\\site-packages\\sklearn\\metrics\\_ranking.py:749\u001b[0m, in \u001b[0;36m_binary_clf_curve\u001b[1;34m(y_true, y_score, pos_label, sample_weight)\u001b[0m\n\u001b[0;32m    747\u001b[0m y_type \u001b[38;5;241m=\u001b[39m type_of_target(y_true, input_name\u001b[38;5;241m=\u001b[39m\u001b[38;5;124m\"\u001b[39m\u001b[38;5;124my_true\u001b[39m\u001b[38;5;124m\"\u001b[39m)\n\u001b[0;32m    748\u001b[0m \u001b[38;5;28;01mif\u001b[39;00m \u001b[38;5;129;01mnot\u001b[39;00m (y_type \u001b[38;5;241m==\u001b[39m \u001b[38;5;124m\"\u001b[39m\u001b[38;5;124mbinary\u001b[39m\u001b[38;5;124m\"\u001b[39m \u001b[38;5;129;01mor\u001b[39;00m (y_type \u001b[38;5;241m==\u001b[39m \u001b[38;5;124m\"\u001b[39m\u001b[38;5;124mmulticlass\u001b[39m\u001b[38;5;124m\"\u001b[39m \u001b[38;5;129;01mand\u001b[39;00m pos_label \u001b[38;5;129;01mis\u001b[39;00m \u001b[38;5;129;01mnot\u001b[39;00m \u001b[38;5;28;01mNone\u001b[39;00m)):\n\u001b[1;32m--> 749\u001b[0m     \u001b[38;5;28;01mraise\u001b[39;00m \u001b[38;5;167;01mValueError\u001b[39;00m(\u001b[38;5;124m\"\u001b[39m\u001b[38;5;132;01m{0}\u001b[39;00m\u001b[38;5;124m format is not supported\u001b[39m\u001b[38;5;124m\"\u001b[39m\u001b[38;5;241m.\u001b[39mformat(y_type))\n\u001b[0;32m    751\u001b[0m check_consistent_length(y_true, y_score, sample_weight)\n\u001b[0;32m    752\u001b[0m y_true \u001b[38;5;241m=\u001b[39m column_or_1d(y_true)\n",
      "\u001b[1;31mValueError\u001b[0m: multiclass format is not supported"
     ]
    }
   ],
   "source": [
    "y_pred_prob=Final_model.predict_proba(x_test)[:,1]\n",
    "fpr,tpr,thresholds=roc_curve(y_test,y_pred_prob)\n",
    "roc_auc=auc(fpr,tpr)\n",
    "\n",
    "plt.plot([0,1],[0,1],'k--')\n",
    "plt.plot(fpr,tpr,label=\"LogisticRegression(area=%0.2f)\"% roc_auc)\n",
    "plt.xlabel(\"False Positive Rate\")\n",
    "plt.ylabel(\"True Positive Rate\")\n",
    "plt.show()\n",
    "auc_score=roc_auc_score(y_test,Final_model.predict(x_test))\n",
    "print(\"AUC score:\",\"\\n\",auc_score)"
   ]
  },
  {
   "cell_type": "markdown",
   "id": "ad0554bd",
   "metadata": {},
   "source": [
    "#### 2. Predicting the average cost for two (Regression Task) "
   ]
  },
  {
   "cell_type": "code",
   "execution_count": 126,
   "id": "b1922c1e",
   "metadata": {},
   "outputs": [
    {
     "data": {
      "text/plain": [
       "Average Cost for two    1.000000\n",
       "Price range             0.577204\n",
       "Has Table booking       0.526449\n",
       "Has Online delivery     0.223355\n",
       "Currency                0.221433\n",
       "Aggregate rating        0.164751\n",
       "Cuisines                0.083767\n",
       "Restaurant Name         0.037199\n",
       "Is delivering now       0.029041\n",
       "City                    0.027984\n",
       "Locality               -0.004709\n",
       "Country                -0.498623\n",
       "Name: Average Cost for two, dtype: float64"
      ]
     },
     "execution_count": 126,
     "metadata": {},
     "output_type": "execute_result"
    }
   ],
   "source": [
    "#Checking the correlation of target variable only\n",
    "\n",
    "df.corr()['Average Cost for two'].sort_values(ascending=False)"
   ]
  },
  {
   "cell_type": "code",
   "execution_count": 127,
   "id": "93053476",
   "metadata": {},
   "outputs": [
    {
     "data": {
      "image/png": "[encoded data removed]",
      "text/plain": [
       "<Figure size 1584x504 with 1 Axes>"
      ]
     },
     "metadata": {
      "needs_background": "light"
     },
     "output_type": "display_data"
    }
   ],
   "source": [
    "#Visualizing the correlation between the features and the label using bar plot\n",
    "\n",
    "plt.figure(figsize=(22,7))\n",
    "df.corr()['Average Cost for two'].sort_values(ascending=False).drop(['Average Cost for two']).plot(kind='bar',color='y')\n",
    "plt.title(\"Correlation between features and label using bar plot\",fontsize=20)\n",
    "plt.xlabel(\"Features\")\n",
    "plt.ylabel(\"Target variable\")\n",
    "plt.show()"
   ]
  },
  {
   "cell_type": "markdown",
   "id": "d8a78d2c",
   "metadata": {},
   "source": [
    "#### Seperating features and label"
   ]
  },
  {
   "cell_type": "code",
   "execution_count": 128,
   "id": "04b5eca3",
   "metadata": {},
   "outputs": [],
   "source": [
    "x=df.drop(['Average Cost for two'],axis=1)\n",
    "y=df[\"Average Cost for two\"]"
   ]
  },
  {
   "cell_type": "code",
   "execution_count": 129,
   "id": "a48158e2",
   "metadata": {},
   "outputs": [
    {
     "name": "stdout",
     "output_type": "stream",
     "text": [
      "Feature dimensions: (9530, 11)\n",
      "Target dimensions: (9530,)\n"
     ]
    }
   ],
   "source": [
    "print(\"Feature dimensions:\",x.shape)\n",
    "print(\"Target dimensions:\",y.shape)"
   ]
  },
  {
   "cell_type": "markdown",
   "id": "c70c9154",
   "metadata": {},
   "source": [
    "#### Feature scaling using standard scalarisation"
   ]
  },
  {
   "cell_type": "code",
   "execution_count": 130,
   "id": "3d61dbb4",
   "metadata": {},
   "outputs": [
    {
     "data": {
      "text/html": [
       "<div>\n",
       "<style scoped>\n",
       "    .dataframe tbody tr th:only-of-type {\n",
       "        vertical-align: middle;\n",
       "    }\n",
       "\n",
       "    .dataframe tbody tr th {\n",
       "        vertical-align: top;\n",
       "    }\n",
       "\n",
       "    .dataframe thead th {\n",
       "        text-align: right;\n",
       "    }\n",
       "</style>\n",
       "<table border=\"1\" class=\"dataframe\">\n",
       "  <thead>\n",
       "    <tr style=\"text-align: right;\">\n",
       "      <th></th>\n",
       "      <th>Country</th>\n",
       "      <th>Restaurant Name</th>\n",
       "      <th>City</th>\n",
       "      <th>Locality</th>\n",
       "      <th>Cuisines</th>\n",
       "      <th>Currency</th>\n",
       "      <th>Has Table booking</th>\n",
       "      <th>Has Online delivery</th>\n",
       "      <th>Is delivering now</th>\n",
       "      <th>Price range</th>\n",
       "      <th>Aggregate rating</th>\n",
       "    </tr>\n",
       "  </thead>\n",
       "  <tbody>\n",
       "    <tr>\n",
       "      <th>0</th>\n",
       "      <td>-0.272873</td>\n",
       "      <td>-0.209214</td>\n",
       "      <td>-3.302013</td>\n",
       "      <td>-2.027173</td>\n",
       "      <td>1.022873</td>\n",
       "      <td>0.064115</td>\n",
       "      <td>-0.371912</td>\n",
       "      <td>-0.588418</td>\n",
       "      <td>-0.059837</td>\n",
       "      <td>1.323565</td>\n",
       "      <td>0.895767</td>\n",
       "    </tr>\n",
       "    <tr>\n",
       "      <th>1</th>\n",
       "      <td>-0.272873</td>\n",
       "      <td>0.751217</td>\n",
       "      <td>-3.302013</td>\n",
       "      <td>-2.027173</td>\n",
       "      <td>1.022873</td>\n",
       "      <td>0.064115</td>\n",
       "      <td>-0.371912</td>\n",
       "      <td>-0.588418</td>\n",
       "      <td>-0.059837</td>\n",
       "      <td>0.218468</td>\n",
       "      <td>0.516429</td>\n",
       "    </tr>\n",
       "    <tr>\n",
       "      <th>2</th>\n",
       "      <td>-0.272873</td>\n",
       "      <td>1.524989</td>\n",
       "      <td>-3.302013</td>\n",
       "      <td>-2.027173</td>\n",
       "      <td>0.615609</td>\n",
       "      <td>0.064115</td>\n",
       "      <td>-0.371912</td>\n",
       "      <td>-0.588418</td>\n",
       "      <td>-0.059837</td>\n",
       "      <td>0.218468</td>\n",
       "      <td>0.608951</td>\n",
       "    </tr>\n",
       "    <tr>\n",
       "      <th>3</th>\n",
       "      <td>-0.272873</td>\n",
       "      <td>-0.939946</td>\n",
       "      <td>-3.302013</td>\n",
       "      <td>-1.438790</td>\n",
       "      <td>1.277414</td>\n",
       "      <td>0.064115</td>\n",
       "      <td>-0.371912</td>\n",
       "      <td>-0.588418</td>\n",
       "      <td>-0.059837</td>\n",
       "      <td>0.218468</td>\n",
       "      <td>0.994431</td>\n",
       "    </tr>\n",
       "    <tr>\n",
       "      <th>4</th>\n",
       "      <td>-0.272873</td>\n",
       "      <td>0.592627</td>\n",
       "      <td>-3.302013</td>\n",
       "      <td>-1.438790</td>\n",
       "      <td>0.746795</td>\n",
       "      <td>0.064115</td>\n",
       "      <td>-0.371912</td>\n",
       "      <td>-0.588418</td>\n",
       "      <td>-0.059837</td>\n",
       "      <td>1.323565</td>\n",
       "      <td>1.196303</td>\n",
       "    </tr>\n",
       "    <tr>\n",
       "      <th>...</th>\n",
       "      <td>...</td>\n",
       "      <td>...</td>\n",
       "      <td>...</td>\n",
       "      <td>...</td>\n",
       "      <td>...</td>\n",
       "      <td>...</td>\n",
       "      <td>...</td>\n",
       "      <td>...</td>\n",
       "      <td>...</td>\n",
       "      <td>...</td>\n",
       "      <td>...</td>\n",
       "    </tr>\n",
       "    <tr>\n",
       "      <th>9525</th>\n",
       "      <td>3.903936</td>\n",
       "      <td>1.466511</td>\n",
       "      <td>2.451242</td>\n",
       "      <td>1.631732</td>\n",
       "      <td>-1.888676</td>\n",
       "      <td>-2.440033</td>\n",
       "      <td>-0.371912</td>\n",
       "      <td>-0.588418</td>\n",
       "      <td>-0.059837</td>\n",
       "      <td>-0.886629</td>\n",
       "      <td>0.703019</td>\n",
       "    </tr>\n",
       "    <tr>\n",
       "      <th>9526</th>\n",
       "      <td>3.903936</td>\n",
       "      <td>1.487563</td>\n",
       "      <td>2.451242</td>\n",
       "      <td>1.631732</td>\n",
       "      <td>1.567198</td>\n",
       "      <td>-2.440033</td>\n",
       "      <td>-0.371912</td>\n",
       "      <td>-0.588418</td>\n",
       "      <td>-0.059837</td>\n",
       "      <td>-0.886629</td>\n",
       "      <td>0.516429</td>\n",
       "    </tr>\n",
       "    <tr>\n",
       "      <th>9527</th>\n",
       "      <td>3.903936</td>\n",
       "      <td>1.537152</td>\n",
       "      <td>2.451242</td>\n",
       "      <td>1.631732</td>\n",
       "      <td>0.263169</td>\n",
       "      <td>-2.440033</td>\n",
       "      <td>-0.371912</td>\n",
       "      <td>-0.588418</td>\n",
       "      <td>-0.059837</td>\n",
       "      <td>0.218468</td>\n",
       "      <td>0.895767</td>\n",
       "    </tr>\n",
       "    <tr>\n",
       "      <th>9528</th>\n",
       "      <td>3.903936</td>\n",
       "      <td>1.508147</td>\n",
       "      <td>2.495498</td>\n",
       "      <td>1.638162</td>\n",
       "      <td>-1.305191</td>\n",
       "      <td>-2.440033</td>\n",
       "      <td>-0.371912</td>\n",
       "      <td>-0.588418</td>\n",
       "      <td>-0.059837</td>\n",
       "      <td>0.218468</td>\n",
       "      <td>0.895767</td>\n",
       "    </tr>\n",
       "    <tr>\n",
       "      <th>9529</th>\n",
       "      <td>3.903936</td>\n",
       "      <td>-0.610602</td>\n",
       "      <td>2.584010</td>\n",
       "      <td>1.670314</td>\n",
       "      <td>-1.285611</td>\n",
       "      <td>-2.440033</td>\n",
       "      <td>-0.371912</td>\n",
       "      <td>-0.588418</td>\n",
       "      <td>-0.059837</td>\n",
       "      <td>0.218468</td>\n",
       "      <td>0.248232</td>\n",
       "    </tr>\n",
       "  </tbody>\n",
       "</table>\n",
       "<p>9530 rows × 11 columns</p>\n",
       "</div>"
      ],
      "text/plain": [
       "       Country  Restaurant Name      City  Locality  Cuisines  Currency  \\\n",
       "0    -0.272873        -0.209214 -3.302013 -2.027173  1.022873  0.064115   \n",
       "1    -0.272873         0.751217 -3.302013 -2.027173  1.022873  0.064115   \n",
       "2    -0.272873         1.524989 -3.302013 -2.027173  0.615609  0.064115   \n",
       "3    -0.272873        -0.939946 -3.302013 -1.438790  1.277414  0.064115   \n",
       "4    -0.272873         0.592627 -3.302013 -1.438790  0.746795  0.064115   \n",
       "...        ...              ...       ...       ...       ...       ...   \n",
       "9525  3.903936         1.466511  2.451242  1.631732 -1.888676 -2.440033   \n",
       "9526  3.903936         1.487563  2.451242  1.631732  1.567198 -2.440033   \n",
       "9527  3.903936         1.537152  2.451242  1.631732  0.263169 -2.440033   \n",
       "9528  3.903936         1.508147  2.495498  1.638162 -1.305191 -2.440033   \n",
       "9529  3.903936        -0.610602  2.584010  1.670314 -1.285611 -2.440033   \n",
       "\n",
       "      Has Table booking  Has Online delivery  Is delivering now  Price range  \\\n",
       "0             -0.371912            -0.588418          -0.059837     1.323565   \n",
       "1             -0.371912            -0.588418          -0.059837     0.218468   \n",
       "2             -0.371912            -0.588418          -0.059837     0.218468   \n",
       "3             -0.371912            -0.588418          -0.059837     0.218468   \n",
       "4             -0.371912            -0.588418          -0.059837     1.323565   \n",
       "...                 ...                  ...                ...          ...   \n",
       "9525          -0.371912            -0.588418          -0.059837    -0.886629   \n",
       "9526          -0.371912            -0.588418          -0.059837    -0.886629   \n",
       "9527          -0.371912            -0.588418          -0.059837     0.218468   \n",
       "9528          -0.371912            -0.588418          -0.059837     0.218468   \n",
       "9529          -0.371912            -0.588418          -0.059837     0.218468   \n",
       "\n",
       "      Aggregate rating  \n",
       "0             0.895767  \n",
       "1             0.516429  \n",
       "2             0.608951  \n",
       "3             0.994431  \n",
       "4             1.196303  \n",
       "...                ...  \n",
       "9525          0.703019  \n",
       "9526          0.516429  \n",
       "9527          0.895767  \n",
       "9528          0.895767  \n",
       "9529          0.248232  \n",
       "\n",
       "[9530 rows x 11 columns]"
      ]
     },
     "execution_count": 130,
     "metadata": {},
     "output_type": "execute_result"
    }
   ],
   "source": [
    "#To remove the biasness\n",
    "\n",
    "from sklearn.preprocessing import StandardScaler\n",
    "scaler=StandardScaler()\n",
    "x=pd.DataFrame(scaler.fit_transform(x),columns=x.columns)\n",
    "x"
   ]
  },
  {
   "cell_type": "markdown",
   "id": "202d882f",
   "metadata": {},
   "source": [
    "#### Checking Variance Inflation Factor"
   ]
  },
  {
   "cell_type": "code",
   "execution_count": 131,
   "id": "277f67f1",
   "metadata": {},
   "outputs": [
    {
     "data": {
      "text/html": [
       "<div>\n",
       "<style scoped>\n",
       "    .dataframe tbody tr th:only-of-type {\n",
       "        vertical-align: middle;\n",
       "    }\n",
       "\n",
       "    .dataframe tbody tr th {\n",
       "        vertical-align: top;\n",
       "    }\n",
       "\n",
       "    .dataframe thead th {\n",
       "        text-align: right;\n",
       "    }\n",
       "</style>\n",
       "<table border=\"1\" class=\"dataframe\">\n",
       "  <thead>\n",
       "    <tr style=\"text-align: right;\">\n",
       "      <th></th>\n",
       "      <th>VIF values</th>\n",
       "      <th>Features</th>\n",
       "    </tr>\n",
       "  </thead>\n",
       "  <tbody>\n",
       "    <tr>\n",
       "      <th>0</th>\n",
       "      <td>1.267151</td>\n",
       "      <td>Country</td>\n",
       "    </tr>\n",
       "    <tr>\n",
       "      <th>1</th>\n",
       "      <td>1.007808</td>\n",
       "      <td>Restaurant Name</td>\n",
       "    </tr>\n",
       "    <tr>\n",
       "      <th>2</th>\n",
       "      <td>1.058487</td>\n",
       "      <td>City</td>\n",
       "    </tr>\n",
       "    <tr>\n",
       "      <th>3</th>\n",
       "      <td>1.046988</td>\n",
       "      <td>Locality</td>\n",
       "    </tr>\n",
       "    <tr>\n",
       "      <th>4</th>\n",
       "      <td>1.031773</td>\n",
       "      <td>Cuisines</td>\n",
       "    </tr>\n",
       "    <tr>\n",
       "      <th>5</th>\n",
       "      <td>1.066120</td>\n",
       "      <td>Currency</td>\n",
       "    </tr>\n",
       "    <tr>\n",
       "      <th>6</th>\n",
       "      <td>1.395154</td>\n",
       "      <td>Has Table booking</td>\n",
       "    </tr>\n",
       "    <tr>\n",
       "      <th>7</th>\n",
       "      <td>1.108650</td>\n",
       "      <td>Has Online delivery</td>\n",
       "    </tr>\n",
       "    <tr>\n",
       "      <th>8</th>\n",
       "      <td>1.012214</td>\n",
       "      <td>Is delivering now</td>\n",
       "    </tr>\n",
       "    <tr>\n",
       "      <th>9</th>\n",
       "      <td>1.695182</td>\n",
       "      <td>Price range</td>\n",
       "    </tr>\n",
       "    <tr>\n",
       "      <th>10</th>\n",
       "      <td>1.481245</td>\n",
       "      <td>Aggregate rating</td>\n",
       "    </tr>\n",
       "  </tbody>\n",
       "</table>\n",
       "</div>"
      ],
      "text/plain": [
       "    VIF values             Features\n",
       "0     1.267151              Country\n",
       "1     1.007808      Restaurant Name\n",
       "2     1.058487                 City\n",
       "3     1.046988             Locality\n",
       "4     1.031773             Cuisines\n",
       "5     1.066120             Currency\n",
       "6     1.395154    Has Table booking\n",
       "7     1.108650  Has Online delivery\n",
       "8     1.012214    Is delivering now\n",
       "9     1.695182          Price range\n",
       "10    1.481245     Aggregate rating"
      ]
     },
     "execution_count": 131,
     "metadata": {},
     "output_type": "execute_result"
    }
   ],
   "source": [
    "#Checking Vif in every scaled column\n",
    "\n",
    "from statsmodels.stats.outliers_influence import variance_inflation_factor\n",
    "vif=pd.DataFrame()\n",
    "vif[\"VIF values\"]=[variance_inflation_factor(x.values,i)for i in range(len(x.columns))]\n",
    "vif[\"Features\"]=x.columns\n",
    "\n",
    "vif"
   ]
  },
  {
   "cell_type": "code",
   "execution_count": 133,
   "id": "5102f1ce",
   "metadata": {},
   "outputs": [],
   "source": [
    "#VIF for all the columns is under control"
   ]
  },
  {
   "cell_type": "markdown",
   "id": "c3d7cf7b",
   "metadata": {},
   "source": [
    "#### Modelling"
   ]
  },
  {
   "cell_type": "code",
   "execution_count": 134,
   "id": "1b8fd3ab",
   "metadata": {},
   "outputs": [],
   "source": [
    "#Importing libraries\n",
    "\n",
    "from sklearn.model_selection import train_test_split\n",
    "from sklearn.metrics import mean_absolute_error\n",
    "from sklearn.metrics import mean_squared_error\n",
    "from sklearn.metrics import r2_score\n",
    "from sklearn.ensemble import GradientBoostingRegressor\n",
    "from sklearn.linear_model import LinearRegression"
   ]
  },
  {
   "cell_type": "code",
   "execution_count": 135,
   "id": "80c7d86f",
   "metadata": {},
   "outputs": [
    {
     "name": "stdout",
     "output_type": "stream",
     "text": [
      "Maximum R2 score is: 0.7756779860117389 on random state 169\n"
     ]
    }
   ],
   "source": [
    "maxAccu=0\n",
    "maxRS=0\n",
    "for i in range(1,200):\n",
    "    x_train,x_test,y_train,y_test=train_test_split(x,y,test_size=0.30,random_state=i)\n",
    "    lr=LinearRegression()\n",
    "    lr.fit(x_train,y_train)\n",
    "    pred=lr.predict(x_test)\n",
    "    acc=r2_score(y_test,pred)\n",
    "    if acc>maxAccu:\n",
    "        maxAccu=acc\n",
    "        maxRS=i\n",
    "print(\"Maximum R2 score is:\",maxAccu,\"on random state\",maxRS)"
   ]
  },
  {
   "cell_type": "code",
   "execution_count": 136,
   "id": "81d0148a",
   "metadata": {},
   "outputs": [],
   "source": [
    "x_train,x_test,y_train,y_test=train_test_split(x,y,test_size=0.30,random_state=maxRS)"
   ]
  },
  {
   "cell_type": "code",
   "execution_count": 137,
   "id": "79e135fe",
   "metadata": {},
   "outputs": [],
   "source": [
    "#Importing all the regressor models\n",
    "\n",
    "from sklearn.linear_model import LinearRegression\n",
    "from sklearn.ensemble import RandomForestRegressor\n",
    "from sklearn.tree import DecisionTreeRegressor\n",
    "from sklearn.neighbors import KNeighborsRegressor as KNN\n",
    "from sklearn.linear_model import Lasso,Ridge"
   ]
  },
  {
   "cell_type": "code",
   "execution_count": 138,
   "id": "e1d06568",
   "metadata": {},
   "outputs": [
    {
     "name": "stdout",
     "output_type": "stream",
     "text": [
      "R2 score: 0.7756779860117389\n",
      "R2 score on training data: 72.6859617954779\n",
      "Mean Absolute Error: 1.2939873503542434\n",
      "Mean Squared Error: 3.5627388981941306\n",
      "Root Mean Squared Error: 1.8875218934343863\n"
     ]
    }
   ],
   "source": [
    "LR=LinearRegression()\n",
    "LR.fit(x_train,y_train)\n",
    "pred_LR=LR.predict(x_test)\n",
    "pred_train=LR.predict(x_train)\n",
    "print(\"R2 score:\",r2_score(y_test,pred_LR))\n",
    "print(\"R2 score on training data:\",r2_score(y_train,pred_train)*100)\n",
    "print(\"Mean Absolute Error:\",mean_absolute_error(y_test,pred_LR))\n",
    "print(\"Mean Squared Error:\",mean_squared_error(y_test,pred_LR))\n",
    "print(\"Root Mean Squared Error:\",np.sqrt(mean_squared_error(y_test,pred_LR)))"
   ]
  },
  {
   "cell_type": "code",
   "execution_count": 139,
   "id": "1707e474",
   "metadata": {},
   "outputs": [
    {
     "name": "stdout",
     "output_type": "stream",
     "text": [
      "R2 score: 0.9157307856087747\n",
      "R2 score on training data: 98.71159914493039\n",
      "Mean Absolute Error: 0.836356546138483\n",
      "Mean Squared Error: 1.3383849524799196\n",
      "Root Mean Squared Error: 1.156885885677546\n"
     ]
    }
   ],
   "source": [
    "RFR=RandomForestRegressor()\n",
    "RFR.fit(x_train,y_train)\n",
    "pred_RFR=RFR.predict(x_test)\n",
    "pred_train=RFR.predict(x_train)\n",
    "print(\"R2 score:\",r2_score(y_test,pred_RFR))\n",
    "print(\"R2 score on training data:\",r2_score(y_train,pred_train)*100)\n",
    "print(\"Mean Absolute Error:\",mean_absolute_error(y_test,pred_RFR))\n",
    "print(\"Mean Squared Error:\",mean_squared_error(y_test,pred_RFR))\n",
    "print(\"Root Mean Squared Error:\",np.sqrt(mean_squared_error(y_test,pred_RFR)))"
   ]
  },
  {
   "cell_type": "code",
   "execution_count": 140,
   "id": "ef1f9a6a",
   "metadata": {},
   "outputs": [
    {
     "name": "stdout",
     "output_type": "stream",
     "text": [
      "R2 score: 0.8617400178622557\n",
      "R2 score on training data: 90.46902916352175\n",
      "Mean Absolute Error: 1.0807015104748245\n",
      "Mean Squared Error: 2.1958799658937806\n",
      "Root Mean Squared Error: 1.4818501833497815\n"
     ]
    }
   ],
   "source": [
    "knn=KNN()\n",
    "knn.fit(x_train,y_train)\n",
    "pred_knn=knn.predict(x_test)\n",
    "pred_train=knn.predict(x_train)\n",
    "print(\"R2 score:\",r2_score(y_test,pred_knn))\n",
    "print(\"R2 score on training data:\",r2_score(y_train,pred_train)*100)\n",
    "print(\"Mean Absolute Error:\",mean_absolute_error(y_test,pred_knn))\n",
    "print(\"Mean Squared Error:\",mean_squared_error(y_test,pred_knn))\n",
    "print(\"Root Mean Squared Error:\",np.sqrt(mean_squared_error(y_test,pred_knn)))"
   ]
  },
  {
   "cell_type": "code",
   "execution_count": 141,
   "id": "f9f94e0d",
   "metadata": {},
   "outputs": [
    {
     "name": "stdout",
     "output_type": "stream",
     "text": [
      "R2 score: 0.9046138925287003\n",
      "R2 score on training data: 90.74288532603309\n",
      "Mean Absolute Error: 0.937647019812978\n",
      "Mean Squared Error: 1.5149462569157792\n",
      "Root Mean Squared Error: 1.2308315306798812\n"
     ]
    }
   ],
   "source": [
    "GBR=GradientBoostingRegressor()\n",
    "GBR.fit(x_train,y_train)\n",
    "pred_GBR=GBR.predict(x_test)\n",
    "pred_train=GBR.predict(x_train)\n",
    "print(\"R2 score:\",r2_score(y_test,pred_GBR))\n",
    "print(\"R2 score on training data:\",r2_score(y_train,pred_train)*100)\n",
    "print(\"Mean Absolute Error:\",mean_absolute_error(y_test,pred_GBR))\n",
    "print(\"Mean Squared Error:\",mean_squared_error(y_test,pred_GBR))\n",
    "print(\"Root Mean Squared Error:\",np.sqrt(mean_squared_error(y_test,pred_GBR)))"
   ]
  },
  {
   "cell_type": "code",
   "execution_count": 142,
   "id": "3925f4ea",
   "metadata": {},
   "outputs": [
    {
     "name": "stdout",
     "output_type": "stream",
     "text": [
      "R2 score: 0.599275009189586\n",
      "R2 score on training data: 56.229928962278294\n",
      "Mean Absolute Error: 1.8431961873873768\n",
      "Mean Squared Error: 6.364415541996063\n",
      "Root Mean Squared Error: 2.52277932883478\n"
     ]
    }
   ],
   "source": [
    "lasso=Lasso()\n",
    "lasso.fit(x_train,y_train)\n",
    "pred_lasso=lasso.predict(x_test)\n",
    "pred_train=lasso.predict(x_train)\n",
    "print(\"R2 score:\",r2_score(y_test,pred_lasso))\n",
    "print(\"R2 score on training data:\",r2_score(y_train,pred_train)*100)\n",
    "print(\"Mean Absolute Error:\",mean_absolute_error(y_test,pred_lasso))\n",
    "print(\"Mean Squared Error:\",mean_squared_error(y_test,pred_lasso))\n",
    "print(\"Root Mean Squared Error:\",np.sqrt(mean_squared_error(y_test,pred_lasso)))"
   ]
  },
  {
   "cell_type": "code",
   "execution_count": 143,
   "id": "8e531ca5",
   "metadata": {},
   "outputs": [
    {
     "name": "stdout",
     "output_type": "stream",
     "text": [
      "R2 score: 0.7756724341977848\n",
      "R2 score on training data: 72.68596007968307\n",
      "Mean Absolute Error: 1.2940305283102214\n",
      "Mean Squared Error: 3.562827073505943\n",
      "Root Mean Squared Error: 1.8875452507174346\n"
     ]
    }
   ],
   "source": [
    "rd=Ridge()\n",
    "rd.fit(x_train,y_train)\n",
    "pred_rd=rd.predict(x_test)\n",
    "pred_train=rd.predict(x_train)\n",
    "print(\"R2 score:\",r2_score(y_test,pred_rd))\n",
    "print(\"R2 score on training data:\",r2_score(y_train,pred_train)*100)\n",
    "print(\"Mean Absolute Error:\",mean_absolute_error(y_test,pred_rd))\n",
    "print(\"Mean Squared Error:\",mean_squared_error(y_test,pred_rd))\n",
    "print(\"Root Mean Squared Error:\",np.sqrt(mean_squared_error(y_test,pred_rd)))"
   ]
  },
  {
   "cell_type": "code",
   "execution_count": 144,
   "id": "a2b06c57",
   "metadata": {},
   "outputs": [
    {
     "name": "stdout",
     "output_type": "stream",
     "text": [
      "R2 score: 0.8373890000616492\n",
      "R2 score on training data: 99.99905235096577\n",
      "Mean Absolute Error: 1.0489714773329157\n",
      "Mean Squared Error: 2.5826289825702218\n",
      "Root Mean Squared Error: 1.6070559985794588\n"
     ]
    }
   ],
   "source": [
    "dtr=DecisionTreeRegressor()\n",
    "dtr.fit(x_train,y_train)\n",
    "pred_dtr=dtr.predict(x_test)\n",
    "pred_train=dtr.predict(x_train)\n",
    "print(\"R2 score:\",r2_score(y_test,pred_dtr))\n",
    "print(\"R2 score on training data:\",r2_score(y_train,pred_train)*100)\n",
    "print(\"Mean Absolute Error:\",mean_absolute_error(y_test,pred_dtr))\n",
    "print(\"Mean Squared Error:\",mean_squared_error(y_test,pred_dtr))\n",
    "print(\"Root Mean Squared Error:\",np.sqrt(mean_squared_error(y_test,pred_dtr)))"
   ]
  },
  {
   "cell_type": "code",
   "execution_count": 145,
   "id": "fe6a53be",
   "metadata": {},
   "outputs": [
    {
     "name": "stdout",
     "output_type": "stream",
     "text": [
      "R2 score: 0.8614226989666003\n",
      "R2 score on training data: 84.78867962603232\n",
      "Mean Absolute Error: 1.0352352471608868\n",
      "Mean Squared Error: 2.2009197047610645\n",
      "Root Mean Squared Error: 1.483549697435534\n"
     ]
    }
   ],
   "source": [
    "from sklearn.svm import SVR\n",
    "svr=SVR()\n",
    "svr.fit(x_train,y_train)\n",
    "pred_svr=svr.predict(x_test)\n",
    "pred_train=svr.predict(x_train)\n",
    "print(\"R2 score:\",r2_score(y_test,pred_svr))\n",
    "print(\"R2 score on training data:\",r2_score(y_train,pred_train)*100)\n",
    "print(\"Mean Absolute Error:\",mean_absolute_error(y_test,pred_svr))\n",
    "print(\"Mean Squared Error:\",mean_squared_error(y_test,pred_svr))\n",
    "print(\"Root Mean Squared Error:\",np.sqrt(mean_squared_error(y_test,pred_svr)))"
   ]
  },
  {
   "cell_type": "code",
   "execution_count": 146,
   "id": "4fd5db1d",
   "metadata": {},
   "outputs": [
    {
     "name": "stdout",
     "output_type": "stream",
     "text": [
      "R2 score: 0.9108994239785555\n",
      "R2 score on training data: 99.99905062551971\n",
      "Mean Absolute Error: 0.8559154144490791\n",
      "Mean Squared Error: 1.4151178584715962\n",
      "Root Mean Squared Error: 1.1895872639161855\n"
     ]
    }
   ],
   "source": [
    "from sklearn.ensemble import ExtraTreesRegressor\n",
    "etr=ExtraTreesRegressor()\n",
    "etr.fit(x_train,y_train)\n",
    "pred_etr=etr.predict(x_test)\n",
    "pred_train=etr.predict(x_train)\n",
    "print(\"R2 score:\",r2_score(y_test,pred_etr))\n",
    "print(\"R2 score on training data:\",r2_score(y_train,pred_train)*100)\n",
    "print(\"Mean Absolute Error:\",mean_absolute_error(y_test,pred_etr))\n",
    "print(\"Mean Squared Error:\",mean_squared_error(y_test,pred_etr))\n",
    "print(\"Root Mean Squared Error:\",np.sqrt(mean_squared_error(y_test,pred_etr)))"
   ]
  },
  {
   "cell_type": "code",
   "execution_count": 147,
   "id": "00adc57e",
   "metadata": {},
   "outputs": [],
   "source": [
    "from sklearn.model_selection import cross_val_score\n"
   ]
  },
  {
   "cell_type": "code",
   "execution_count": 148,
   "id": "97383598",
   "metadata": {},
   "outputs": [
    {
     "name": "stdout",
     "output_type": "stream",
     "text": [
      "[ 0.70670322  0.78519849  0.74777186  0.78157118 -1.14867658]\n",
      "0.3745136344947316\n",
      "Difference between R2 score and CVS is: 40.11643515170073\n"
     ]
    }
   ],
   "source": [
    "#Checking cvs for every model\n",
    "score=cross_val_score(LR,x,y)\n",
    "print(score)\n",
    "print(score.mean())\n",
    "print(\"Difference between R2 score and CVS is:\",(r2_score(y_test,pred_LR)-score.mean())*100)"
   ]
  },
  {
   "cell_type": "code",
   "execution_count": 149,
   "id": "944a928b",
   "metadata": {},
   "outputs": [
    {
     "name": "stdout",
     "output_type": "stream",
     "text": [
      "[-0.43893045  0.8763111   0.8397582   0.88890918 -1.15367807]\n",
      "0.20247398998539978\n",
      "Difference between R2 score and CVS is: 71.3256795623375\n"
     ]
    }
   ],
   "source": [
    "score=cross_val_score(RFR,x,y)\n",
    "print(score)\n",
    "print(score.mean())\n",
    "print(\"Difference between R2 score and CVS is:\",(r2_score(y_test,pred_RFR)-score.mean())*100)"
   ]
  },
  {
   "cell_type": "code",
   "execution_count": 150,
   "id": "af89c6c6",
   "metadata": {},
   "outputs": [
    {
     "name": "stdout",
     "output_type": "stream",
     "text": [
      "[ 0.12213702  0.81045533  0.7758456   0.76992194 -1.07238673]\n",
      "0.2811946336455663\n",
      "Difference between R2 score and CVS is: 58.054538421668944\n"
     ]
    }
   ],
   "source": [
    "score=cross_val_score(knn,x,y)\n",
    "print(score)\n",
    "print(score.mean())\n",
    "print(\"Difference between R2 score and CVS is:\",(r2_score(y_test,pred_knn)-score.mean())*100)"
   ]
  },
  {
   "cell_type": "code",
   "execution_count": 151,
   "id": "61a1978d",
   "metadata": {},
   "outputs": [
    {
     "name": "stdout",
     "output_type": "stream",
     "text": [
      "[ 0.72227653  0.86007059  0.82164226  0.86682736 -1.07039402]\n",
      "0.44008454420501336\n",
      "Difference between R2 score and CVS is: 46.45293483236869\n"
     ]
    }
   ],
   "source": [
    "score=cross_val_score(GBR,x,y)\n",
    "print(score)\n",
    "print(score.mean())\n",
    "print(\"Difference between R2 score and CVS is:\",(r2_score(y_test,pred_GBR)-score.mean())*100)"
   ]
  },
  {
   "cell_type": "code",
   "execution_count": 153,
   "id": "63e9ecf2",
   "metadata": {},
   "outputs": [
    {
     "name": "stdout",
     "output_type": "stream",
     "text": [
      "[ 0.70660074  0.78516851  0.74775119  0.78153603 -1.14843177]\n",
      "0.374524941134007\n",
      "Difference between R2 score and CVS is: 40.11474930637778\n"
     ]
    }
   ],
   "source": [
    "score=cross_val_score(rd,x,y)\n",
    "print(score)\n",
    "print(score.mean())\n",
    "print(\"Difference between R2 score and CVS is:\",(r2_score(y_test,pred_rd)-score.mean())*100)"
   ]
  },
  {
   "cell_type": "code",
   "execution_count": 154,
   "id": "8d739022",
   "metadata": {},
   "outputs": [
    {
     "name": "stdout",
     "output_type": "stream",
     "text": [
      "[-3.63831983  0.75963082  0.71246354  0.81509265 -1.27321282]\n",
      "-0.5248691271773164\n",
      "Difference between R2 score and CVS is: 136.22581272389655\n"
     ]
    }
   ],
   "source": [
    "score=cross_val_score(dtr,x,y)\n",
    "print(score)\n",
    "print(score.mean())\n",
    "print(\"Difference between R2 score and CVS is:\",(r2_score(y_test,pred_dtr)-score.mean())*100)"
   ]
  },
  {
   "cell_type": "code",
   "execution_count": 155,
   "id": "b977570b",
   "metadata": {},
   "outputs": [
    {
     "name": "stdout",
     "output_type": "stream",
     "text": [
      "[-0.33043105  0.82350106  0.77623444  0.81303845 -0.97807866]\n",
      "0.2208528501128298\n",
      "Difference between R2 score and CVS is: 64.05698488537706\n"
     ]
    }
   ],
   "source": [
    "score=cross_val_score(svr,x,y)\n",
    "print(score)\n",
    "print(score.mean())\n",
    "print(\"Difference between R2 score and CVS is:\",(r2_score(y_test,pred_svr)-score.mean())*100)"
   ]
  },
  {
   "cell_type": "code",
   "execution_count": 156,
   "id": "806ffb73",
   "metadata": {},
   "outputs": [
    {
     "name": "stdout",
     "output_type": "stream",
     "text": [
      "[ 0.27702026  0.86746396  0.82969903  0.88138945 -1.13835866]\n",
      "0.3434428097516832\n",
      "Difference between R2 score and CVS is: 56.745661422687235\n"
     ]
    }
   ],
   "source": [
    "score=cross_val_score(etr,x,y)\n",
    "print(score)\n",
    "print(score.mean())\n",
    "print(\"Difference between R2 score and CVS is:\",(r2_score(y_test,pred_etr)-score.mean())*100)"
   ]
  },
  {
   "cell_type": "markdown",
   "id": "9e631bce",
   "metadata": {},
   "source": [
    "#In the models where the difference is coming high it means there is over fitting problem. Which means that the model is performing well on the training data but not very well on the unseen data."
   ]
  },
  {
   "cell_type": "code",
   "execution_count": 157,
   "id": "2e8c6352",
   "metadata": {},
   "outputs": [],
   "source": [
    "#From the difference we conclude ridge is the best performing model"
   ]
  },
  {
   "cell_type": "markdown",
   "id": "77877b59",
   "metadata": {},
   "source": [
    "#### HyperParameter tuning"
   ]
  },
  {
   "cell_type": "code",
   "execution_count": 158,
   "id": "78628222",
   "metadata": {},
   "outputs": [],
   "source": [
    "from sklearn.model_selection import GridSearchCV\n"
   ]
  },
  {
   "cell_type": "code",
   "execution_count": 159,
   "id": "afa1a305",
   "metadata": {},
   "outputs": [],
   "source": [
    "param={'alpha':[1.0,.05,.4,2],'fit_intercept':[True,False],\n",
    "      'solver':['auto','svd','cholesky','lsqr','sag','saga','lbfgs'],\n",
    "      'positive':[False,True],\n",
    "      'random_state':[1,4,10,20]}\n",
    "\n",
    "gscv=GridSearchCV(Ridge(),param,cv=5)"
   ]
  },
  {
   "cell_type": "code",
   "execution_count": 160,
   "id": "67a4dd5e",
   "metadata": {},
   "outputs": [
    {
     "data": {
      "text/html": [
       "<style>#sk-container-id-2 {color: black;background-color: white;}#sk-container-id-2 pre{padding: 0;}#sk-container-id-2 div.sk-toggleable {background-color: white;}#sk-container-id-2 label.sk-toggleable__label {cursor: pointer;display: block;width: 100%;margin-bottom: 0;padding: 0.3em;box-sizing: border-box;text-align: center;}#sk-container-id-2 label.sk-toggleable__label-arrow:before {content: \"▸\";float: left;margin-right: 0.25em;color: #696969;}#sk-container-id-2 label.sk-toggleable__label-arrow:hover:before {color: black;}#sk-container-id-2 div.sk-estimator:hover label.sk-toggleable__label-arrow:before {color: black;}#sk-container-id-2 div.sk-toggleable__content {max-height: 0;max-width: 0;overflow: hidden;text-align: left;background-color: #f0f8ff;}#sk-container-id-2 div.sk-toggleable__content pre {margin: 0.2em;color: black;border-radius: 0.25em;background-color: #f0f8ff;}#sk-container-id-2 input.sk-toggleable__control:checked~div.sk-toggleable__content {max-height: 200px;max-width: 100%;overflow: auto;}#sk-container-id-2 input.sk-toggleable__control:checked~label.sk-toggleable__label-arrow:before {content: \"▾\";}#sk-container-id-2 div.sk-estimator input.sk-toggleable__control:checked~label.sk-toggleable__label {background-color: #d4ebff;}#sk-container-id-2 div.sk-label input.sk-toggleable__control:checked~label.sk-toggleable__label {background-color: #d4ebff;}#sk-container-id-2 input.sk-hidden--visually {border: 0;clip: rect(1px 1px 1px 1px);clip: rect(1px, 1px, 1px, 1px);height: 1px;margin: -1px;overflow: hidden;padding: 0;position: absolute;width: 1px;}#sk-container-id-2 div.sk-estimator {font-family: monospace;background-color: #f0f8ff;border: 1px dotted black;border-radius: 0.25em;box-sizing: border-box;margin-bottom: 0.5em;}#sk-container-id-2 div.sk-estimator:hover {background-color: #d4ebff;}#sk-container-id-2 div.sk-parallel-item::after {content: \"\";width: 100%;border-bottom: 1px solid gray;flex-grow: 1;}#sk-container-id-2 div.sk-label:hover label.sk-toggleable__label {background-color: #d4ebff;}#sk-container-id-2 div.sk-serial::before {content: \"\";position: absolute;border-left: 1px solid gray;box-sizing: border-box;top: 0;bottom: 0;left: 50%;z-index: 0;}#sk-container-id-2 div.sk-serial {display: flex;flex-direction: column;align-items: center;background-color: white;padding-right: 0.2em;padding-left: 0.2em;position: relative;}#sk-container-id-2 div.sk-item {position: relative;z-index: 1;}#sk-container-id-2 div.sk-parallel {display: flex;align-items: stretch;justify-content: center;background-color: white;position: relative;}#sk-container-id-2 div.sk-item::before, #sk-container-id-2 div.sk-parallel-item::before {content: \"\";position: absolute;border-left: 1px solid gray;box-sizing: border-box;top: 0;bottom: 0;left: 50%;z-index: -1;}#sk-container-id-2 div.sk-parallel-item {display: flex;flex-direction: column;z-index: 1;position: relative;background-color: white;}#sk-container-id-2 div.sk-parallel-item:first-child::after {align-self: flex-end;width: 50%;}#sk-container-id-2 div.sk-parallel-item:last-child::after {align-self: flex-start;width: 50%;}#sk-container-id-2 div.sk-parallel-item:only-child::after {width: 0;}#sk-container-id-2 div.sk-dashed-wrapped {border: 1px dashed gray;margin: 0 0.4em 0.5em 0.4em;box-sizing: border-box;padding-bottom: 0.4em;background-color: white;}#sk-container-id-2 div.sk-label label {font-family: monospace;font-weight: bold;display: inline-block;line-height: 1.2em;}#sk-container-id-2 div.sk-label-container {text-align: center;}#sk-container-id-2 div.sk-container {/* jupyter's `normalize.less` sets `[hidden] { display: none; }` but bootstrap.min.css set `[hidden] { display: none !important; }` so we also need the `!important` here to be able to override the default hidden behavior on the sphinx rendered scikit-learn.org. See: https://github.com/scikit-learn/scikit-learn/issues/21755 */display: inline-block !important;position: relative;}#sk-container-id-2 div.sk-text-repr-fallback {display: none;}</style><div id=\"sk-container-id-2\" class=\"sk-top-container\"><div class=\"sk-text-repr-fallback\"><pre>GridSearchCV(cv=5, estimator=Ridge(),\n",
       "             param_grid={&#x27;alpha&#x27;: [1.0, 0.05, 0.4, 2],\n",
       "                         &#x27;fit_intercept&#x27;: [True, False],\n",
       "                         &#x27;positive&#x27;: [False, True],\n",
       "                         &#x27;random_state&#x27;: [1, 4, 10, 20],\n",
       "                         &#x27;solver&#x27;: [&#x27;auto&#x27;, &#x27;svd&#x27;, &#x27;cholesky&#x27;, &#x27;lsqr&#x27;, &#x27;sag&#x27;,\n",
       "                                    &#x27;saga&#x27;, &#x27;lbfgs&#x27;]})</pre><b>In a Jupyter environment, please rerun this cell to show the HTML representation or trust the notebook. <br />On GitHub, the HTML representation is unable to render, please try loading this page with nbviewer.org.</b></div><div class=\"sk-container\" hidden><div class=\"sk-item sk-dashed-wrapped\"><div class=\"sk-label-container\"><div class=\"sk-label sk-toggleable\"><input class=\"sk-toggleable__control sk-hidden--visually\" id=\"sk-estimator-id-4\" type=\"checkbox\" ><label for=\"sk-estimator-id-4\" class=\"sk-toggleable__label sk-toggleable__label-arrow\">GridSearchCV</label><div class=\"sk-toggleable__content\"><pre>GridSearchCV(cv=5, estimator=Ridge(),\n",
       "             param_grid={&#x27;alpha&#x27;: [1.0, 0.05, 0.4, 2],\n",
       "                         &#x27;fit_intercept&#x27;: [True, False],\n",
       "                         &#x27;positive&#x27;: [False, True],\n",
       "                         &#x27;random_state&#x27;: [1, 4, 10, 20],\n",
       "                         &#x27;solver&#x27;: [&#x27;auto&#x27;, &#x27;svd&#x27;, &#x27;cholesky&#x27;, &#x27;lsqr&#x27;, &#x27;sag&#x27;,\n",
       "                                    &#x27;saga&#x27;, &#x27;lbfgs&#x27;]})</pre></div></div></div><div class=\"sk-parallel\"><div class=\"sk-parallel-item\"><div class=\"sk-item\"><div class=\"sk-label-container\"><div class=\"sk-label sk-toggleable\"><input class=\"sk-toggleable__control sk-hidden--visually\" id=\"sk-estimator-id-5\" type=\"checkbox\" ><label for=\"sk-estimator-id-5\" class=\"sk-toggleable__label sk-toggleable__label-arrow\">estimator: Ridge</label><div class=\"sk-toggleable__content\"><pre>Ridge()</pre></div></div></div><div class=\"sk-serial\"><div class=\"sk-item\"><div class=\"sk-estimator sk-toggleable\"><input class=\"sk-toggleable__control sk-hidden--visually\" id=\"sk-estimator-id-6\" type=\"checkbox\" ><label for=\"sk-estimator-id-6\" class=\"sk-toggleable__label sk-toggleable__label-arrow\">Ridge</label><div class=\"sk-toggleable__content\"><pre>Ridge()</pre></div></div></div></div></div></div></div></div></div></div>"
      ],
      "text/plain": [
       "GridSearchCV(cv=5, estimator=Ridge(),\n",
       "             param_grid={'alpha': [1.0, 0.05, 0.4, 2],\n",
       "                         'fit_intercept': [True, False],\n",
       "                         'positive': [False, True],\n",
       "                         'random_state': [1, 4, 10, 20],\n",
       "                         'solver': ['auto', 'svd', 'cholesky', 'lsqr', 'sag',\n",
       "                                    'saga', 'lbfgs']})"
      ]
     },
     "execution_count": 160,
     "metadata": {},
     "output_type": "execute_result"
    }
   ],
   "source": [
    "gscv.fit(x_train,y_train)"
   ]
  },
  {
   "cell_type": "code",
   "execution_count": 161,
   "id": "8c9782c6",
   "metadata": {},
   "outputs": [
    {
     "data": {
      "text/plain": [
       "{'alpha': 0.4,\n",
       " 'fit_intercept': True,\n",
       " 'positive': False,\n",
       " 'random_state': 4,\n",
       " 'solver': 'sag'}"
      ]
     },
     "execution_count": 161,
     "metadata": {},
     "output_type": "execute_result"
    }
   ],
   "source": [
    "gscv.best_params_"
   ]
  },
  {
   "cell_type": "code",
   "execution_count": 162,
   "id": "61e76cf4",
   "metadata": {},
   "outputs": [],
   "source": [
    "Model=Ridge(alpha= 0.4,fit_intercept= True,positive=False,random_state= 4,solver='sag')"
   ]
  },
  {
   "cell_type": "code",
   "execution_count": 163,
   "id": "f2fc5557",
   "metadata": {},
   "outputs": [
    {
     "name": "stdout",
     "output_type": "stream",
     "text": [
      "R2 score: 0.7756784157284529\n",
      "Mean Absolute Error: 1.2939709575646932\n",
      "Mean Squared Error: 3.562732073324716\n",
      "Root Mean Squared Error: 1.8875200855420629\n"
     ]
    }
   ],
   "source": [
    "Model.fit(x_train,y_train)\n",
    "pred=Model.predict(x_test)\n",
    "print(\"R2 score:\",r2_score(y_test,pred))\n",
    "print(\"Mean Absolute Error:\",mean_absolute_error(y_test,pred))\n",
    "print(\"Mean Squared Error:\",mean_squared_error(y_test,pred))\n",
    "print(\"Root Mean Squared Error:\",np.sqrt(mean_squared_error(y_test,pred)))"
   ]
  },
  {
   "cell_type": "code",
   "execution_count": 164,
   "id": "1429c0a9",
   "metadata": {},
   "outputs": [],
   "source": [
    "import pickle\n",
    "filename='Zomato.pkl'\n",
    "pickle.dump(Model,open(filename, 'wb'))  #saved model\n"
   ]
  },
  {
   "cell_type": "code",
   "execution_count": 165,
   "id": "a2de9687",
   "metadata": {},
   "outputs": [
    {
     "name": "stdout",
     "output_type": "stream",
     "text": [
      "77.56784157284528\n"
     ]
    }
   ],
   "source": [
    "#loading the model\n",
    "\n",
    "loaded_model=pickle.load(open('Zomato.pkl','rb'))  #read binary mode\n",
    "result=loaded_model.score(x_test,y_test)\n",
    "print(result*100)"
   ]
  },
  {
   "cell_type": "code",
   "execution_count": 166,
   "id": "dc7ab6cd",
   "metadata": {},
   "outputs": [
    {
     "data": {
      "text/html": [
       "<div>\n",
       "<style scoped>\n",
       "    .dataframe tbody tr th:only-of-type {\n",
       "        vertical-align: middle;\n",
       "    }\n",
       "\n",
       "    .dataframe tbody tr th {\n",
       "        vertical-align: top;\n",
       "    }\n",
       "\n",
       "    .dataframe thead th {\n",
       "        text-align: right;\n",
       "    }\n",
       "</style>\n",
       "<table border=\"1\" class=\"dataframe\">\n",
       "  <thead>\n",
       "    <tr style=\"text-align: right;\">\n",
       "      <th></th>\n",
       "      <th>0</th>\n",
       "      <th>1</th>\n",
       "      <th>2</th>\n",
       "      <th>3</th>\n",
       "      <th>4</th>\n",
       "      <th>5</th>\n",
       "      <th>6</th>\n",
       "      <th>7</th>\n",
       "      <th>8</th>\n",
       "      <th>9</th>\n",
       "      <th>...</th>\n",
       "      <th>2849</th>\n",
       "      <th>2850</th>\n",
       "      <th>2851</th>\n",
       "      <th>2852</th>\n",
       "      <th>2853</th>\n",
       "      <th>2854</th>\n",
       "      <th>2855</th>\n",
       "      <th>2856</th>\n",
       "      <th>2857</th>\n",
       "      <th>2858</th>\n",
       "    </tr>\n",
       "  </thead>\n",
       "  <tbody>\n",
       "    <tr>\n",
       "      <th>Predicted</th>\n",
       "      <td>11.749308</td>\n",
       "      <td>14.056737</td>\n",
       "      <td>15.014155</td>\n",
       "      <td>15.050994</td>\n",
       "      <td>14.244925</td>\n",
       "      <td>14.888847</td>\n",
       "      <td>15.004025</td>\n",
       "      <td>11.885566</td>\n",
       "      <td>15.072679</td>\n",
       "      <td>11.729056</td>\n",
       "      <td>...</td>\n",
       "      <td>14.310235</td>\n",
       "      <td>16.920782</td>\n",
       "      <td>11.842028</td>\n",
       "      <td>21.861518</td>\n",
       "      <td>20.127533</td>\n",
       "      <td>11.830412</td>\n",
       "      <td>11.804250</td>\n",
       "      <td>11.844132</td>\n",
       "      <td>10.594989</td>\n",
       "      <td>1.602775</td>\n",
       "    </tr>\n",
       "    <tr>\n",
       "      <th>original</th>\n",
       "      <td>10.732527</td>\n",
       "      <td>14.391579</td>\n",
       "      <td>16.913259</td>\n",
       "      <td>14.391579</td>\n",
       "      <td>14.821006</td>\n",
       "      <td>14.391579</td>\n",
       "      <td>15.221785</td>\n",
       "      <td>10.732527</td>\n",
       "      <td>14.391579</td>\n",
       "      <td>8.460524</td>\n",
       "      <td>...</td>\n",
       "      <td>14.391579</td>\n",
       "      <td>19.598342</td>\n",
       "      <td>9.742358</td>\n",
       "      <td>21.725609</td>\n",
       "      <td>20.373405</td>\n",
       "      <td>13.424125</td>\n",
       "      <td>9.742358</td>\n",
       "      <td>13.424125</td>\n",
       "      <td>5.339469</td>\n",
       "      <td>3.244292</td>\n",
       "    </tr>\n",
       "  </tbody>\n",
       "</table>\n",
       "<p>2 rows × 2859 columns</p>\n",
       "</div>"
      ],
      "text/plain": [
       "                0          1          2          3          4          5     \\\n",
       "Predicted  11.749308  14.056737  15.014155  15.050994  14.244925  14.888847   \n",
       "original   10.732527  14.391579  16.913259  14.391579  14.821006  14.391579   \n",
       "\n",
       "                6          7          8          9     ...       2849  \\\n",
       "Predicted  15.004025  11.885566  15.072679  11.729056  ...  14.310235   \n",
       "original   15.221785  10.732527  14.391579   8.460524  ...  14.391579   \n",
       "\n",
       "                2850       2851       2852       2853       2854       2855  \\\n",
       "Predicted  16.920782  11.842028  21.861518  20.127533  11.830412  11.804250   \n",
       "original   19.598342   9.742358  21.725609  20.373405  13.424125   9.742358   \n",
       "\n",
       "                2856       2857      2858  \n",
       "Predicted  11.844132  10.594989  1.602775  \n",
       "original   13.424125   5.339469  3.244292  \n",
       "\n",
       "[2 rows x 2859 columns]"
      ]
     },
     "execution_count": 166,
     "metadata": {},
     "output_type": "execute_result"
    }
   ],
   "source": [
    "conclusion=pd.DataFrame([loaded_model.predict(x_test)[:],y_test[:]],index=[\"Predicted\",\"original\"])   #using[:] to get all the values of predicted data and actual data\n",
    "conclusion"
   ]
  },
  {
   "cell_type": "code",
   "execution_count": 167,
   "id": "f5378592",
   "metadata": {},
   "outputs": [],
   "source": [
    "#These are the predicted average cost for two people"
   ]
  },
  {
   "cell_type": "code",
   "execution_count": null,
   "id": "53c69d92",
   "metadata": {},
   "outputs": [],
   "source": []
  },
  {
   "cell_type": "code",
   "execution_count": null,
   "id": "42fdd8df",
   "metadata": {},
   "outputs": [],
   "source": []
  },
  {
   "cell_type": "code",
   "execution_count": null,
   "id": "22941667",
   "metadata": {},
   "outputs": [],
   "source": []
  },
  {
   "cell_type": "code",
   "execution_count": null,
   "id": "5c5ca79b",
   "metadata": {},
   "outputs": [],
   "source": []
  },
  {
   "cell_type": "code",
   "execution_count": null,
   "id": "87b16d99",
   "metadata": {},
   "outputs": [],
   "source": []
  },
  {
   "cell_type": "code",
   "execution_count": null,
   "id": "4566fe26",
   "metadata": {},
   "outputs": [],
   "source": []
  }
 ],
 "metadata": {
  "kernelspec": {
   "display_name": "Python 3 (ipykernel)",
   "language": "python",
   "name": "python3"
  },
  "language_info": {
   "codemirror_mode": {
    "name": "ipython",
    "version": 3
   },
   "file_extension": ".py",
   "mimetype": "text/x-python",
   "name": "python",
   "nbconvert_exporter": "python",
   "pygments_lexer": "ipython3",
   "version": "3.9.12"
  }
 },
 "nbformat": 4,
 "nbformat_minor": 5
}
